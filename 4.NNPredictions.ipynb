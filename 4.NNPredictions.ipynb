{
  "cells": [
    {
      "cell_type": "markdown",
      "source": [
        "# Neural Network Predictions"
      ],
      "metadata": {
        "id": "LK_BotRQeZQ2"
      }
    },
    {
      "cell_type": "markdown",
      "source": [
        "In this section of the project, the neural networks (For each group of features dataAP, dataPHY and dataALL) defined with the hyperparameters chosen with keras tuner, will be evaluated."
      ],
      "metadata": {
        "id": "CiJyPo29edKO"
      }
    },
    {
      "cell_type": "markdown",
      "metadata": {
        "id": "H9NxpD1fJiy9"
      },
      "source": [
        "## Loading the libraries"
      ]
    },
    {
      "cell_type": "code",
      "execution_count": 1,
      "metadata": {
        "id": "tjk9ZGgWGnlg"
      },
      "outputs": [],
      "source": [
        "import pandas as pd\n",
        "import numpy as np\n",
        "import os\n",
        "import shutil\n",
        "import pickle as pk\n",
        "import matplotlib.pyplot as plt\n",
        "from sklearn.preprocessing import StandardScaler\n",
        "from imblearn.over_sampling import RandomOverSampler\n",
        "\n",
        "from sklearn.preprocessing import OneHotEncoder\n",
        "from sklearn.model_selection import train_test_split\n",
        "\n",
        "from keras import models\n",
        "from keras import layers\n",
        "from keras.callbacks import EarlyStopping, ModelCheckpoint\n",
        "from keras.models import load_model"
      ]
    },
    {
      "cell_type": "markdown",
      "metadata": {
        "id": "coZ-triGJow-"
      },
      "source": [
        "## Loading the data"
      ]
    },
    {
      "cell_type": "code",
      "execution_count": 2,
      "metadata": {
        "colab": {
          "base_uri": "https://localhost:8080/"
        },
        "id": "6tjVE5BAGbxc",
        "outputId": "5b90f0b5-b7c6-4f6b-e2e6-1da7fcfafd23"
      },
      "outputs": [
        {
          "output_type": "stream",
          "name": "stdout",
          "text": [
            "Mounted at /content/drive\n"
          ]
        }
      ],
      "source": [
        "from google.colab import drive\n",
        "drive.mount('/content/drive')"
      ]
    },
    {
      "cell_type": "markdown",
      "metadata": {
        "id": "eVFgplJbcQKs"
      },
      "source": [
        "Importing the dataframes dataAP and dataPHY:\n",
        "\n",
        "- dataAP: data containing the original variables that best correlate with the label data of the dataframe.\n",
        "\n",
        "- dataPHY: data containing variables from the blood test that are of interest.\n",
        "\n",
        "- dataALL: Both dataAP and dataPHY combined"
      ]
    },
    {
      "cell_type": "code",
      "execution_count": 3,
      "metadata": {
        "id": "tdSuIyrHf1_K"
      },
      "outputs": [],
      "source": [
        "#Importing dataAP\n",
        "file_name = '/content/drive/MyDrive/TFG/dataAP.csv'\n",
        "dataAP = pd.read_csv(file_name, index_col=[0])"
      ]
    },
    {
      "cell_type": "code",
      "execution_count": 4,
      "metadata": {
        "id": "DPMXUik7THTH"
      },
      "outputs": [],
      "source": [
        "#Importing dataPHY\n",
        "file_name = '/content/drive/MyDrive/TFG/dataPHY.csv'\n",
        "dataPHY = pd.read_csv(file_name, index_col=[0])"
      ]
    },
    {
      "cell_type": "code",
      "execution_count": 5,
      "metadata": {
        "id": "Djwv3OgzsbDq"
      },
      "outputs": [],
      "source": [
        "#Importing dataALL\n",
        "file_name = '/content/drive/MyDrive/TFG/dataALL.csv'\n",
        "dataALL = pd.read_csv(file_name, index_col=[0])"
      ]
    },
    {
      "cell_type": "code",
      "source": [
        "import time"
      ],
      "metadata": {
        "id": "qiRpm_hQAIzm"
      },
      "execution_count": 6,
      "outputs": []
    },
    {
      "cell_type": "code",
      "execution_count": 7,
      "metadata": {
        "colab": {
          "base_uri": "https://localhost:8080/"
        },
        "id": "AR_NCnY81Ilv",
        "outputId": "05163cb9-c848-4148-bf98-acbf386e7187"
      },
      "outputs": [
        {
          "output_type": "stream",
          "name": "stdout",
          "text": [
            "Looking in indexes: https://pypi.org/simple, https://us-python.pkg.dev/colab-wheels/public/simple/\n",
            "Collecting keras-tuner\n",
            "  Downloading keras_tuner-1.3.5-py3-none-any.whl (176 kB)\n",
            "\u001b[2K     \u001b[90m━━━━━━━━━━━━━━━━━━━━━━━━━━━━━━━━━━━━━━━\u001b[0m \u001b[32m176.1/176.1 kB\u001b[0m \u001b[31m4.5 MB/s\u001b[0m eta \u001b[36m0:00:00\u001b[0m\n",
            "\u001b[?25hRequirement already satisfied: packaging in /usr/local/lib/python3.10/dist-packages (from keras-tuner) (23.1)\n",
            "Requirement already satisfied: requests in /usr/local/lib/python3.10/dist-packages (from keras-tuner) (2.27.1)\n",
            "Collecting kt-legacy (from keras-tuner)\n",
            "  Downloading kt_legacy-1.0.5-py3-none-any.whl (9.6 kB)\n",
            "Requirement already satisfied: urllib3<1.27,>=1.21.1 in /usr/local/lib/python3.10/dist-packages (from requests->keras-tuner) (1.26.15)\n",
            "Requirement already satisfied: certifi>=2017.4.17 in /usr/local/lib/python3.10/dist-packages (from requests->keras-tuner) (2022.12.7)\n",
            "Requirement already satisfied: charset-normalizer~=2.0.0 in /usr/local/lib/python3.10/dist-packages (from requests->keras-tuner) (2.0.12)\n",
            "Requirement already satisfied: idna<4,>=2.5 in /usr/local/lib/python3.10/dist-packages (from requests->keras-tuner) (3.4)\n",
            "Installing collected packages: kt-legacy, keras-tuner\n",
            "Successfully installed keras-tuner-1.3.5 kt-legacy-1.0.5\n"
          ]
        }
      ],
      "source": [
        "!pip install keras-tuner --upgrade\n"
      ]
    },
    {
      "cell_type": "code",
      "execution_count": 8,
      "metadata": {
        "colab": {
          "base_uri": "https://localhost:8080/"
        },
        "id": "PaIn3A1p1QW3",
        "outputId": "4e30ce04-bd30-43cd-d2c1-24bd5226b549"
      },
      "outputs": [
        {
          "output_type": "stream",
          "name": "stderr",
          "text": [
            "<ipython-input-8-091a60f0002a>:1: DeprecationWarning: `import kerastuner` is deprecated, please use `import keras_tuner`.\n",
            "  from kerastuner import HyperModel\n"
          ]
        }
      ],
      "source": [
        "from kerastuner import HyperModel\n",
        "from kerastuner.tuners import RandomSearch, Hyperband\n",
        "import tensorflow as tf\n",
        "import IPython\n",
        "from keras.callbacks import ModelCheckpoint, EarlyStopping\n",
        "from sklearn.metrics import r2_score\n",
        "from sklearn.metrics import mean_squared_error"
      ]
    },
    {
      "cell_type": "markdown",
      "metadata": {
        "id": "o4851cmvA1CZ"
      },
      "source": [
        "One dataframe (**dataAP_g**) will contain the label data in continuous form (Masa_VAT_g) and the other (**dataAP_cat**) will contain the label in\n",
        "categorical form (Masa_VAT_cat), as stated in the \"*Transorming the label data into categotical data*\" section from the preprocessing. This is done to avoid confusion when selecting the target variable (Masa_VAT_cat).\n",
        "\n",
        "Also the label Vol_VAT will be removed as it is technically the same as Masa_VAT."
      ]
    },
    {
      "cell_type": "code",
      "execution_count": 9,
      "metadata": {
        "id": "nBqWTiOiP5_G"
      },
      "outputs": [],
      "source": [
        "#Creating a dataAP dataframe only with Masa_VAT_g and another one with only Masa_VAT_cat\n",
        "\n",
        "dataAP_g = dataAP.copy()\n",
        "dataAP_cat = dataAP.copy()\n",
        "\n",
        "dropcat = [\"Masa_VAT_g\", \"Vol_VAT\"]\n",
        "dropg = [\"Masa_VAT_cat\", \"Vol_VAT\"]\n",
        "dataAP_g = dataAP_g.drop(dropg, axis=1)\n",
        "dataAP_cat = dataAP_cat.drop(dropcat , axis=1)\n",
        "\n",
        "#And deleting all the label data from dataALL\n",
        "dropALL = [\"Masa_VAT_cat\", \"Masa_VAT_g\", \"Vol_VAT\"]\n",
        "dataALL = dataALL.drop(dropALL, axis=1)"
      ]
    },
    {
      "cell_type": "markdown",
      "metadata": {
        "id": "HFSaiI7vKO0Y"
      },
      "source": [
        "Defining all the possible datasets:"
      ]
    },
    {
      "cell_type": "code",
      "execution_count": 10,
      "metadata": {
        "id": "HYoO7xYqKUsT"
      },
      "outputs": [],
      "source": [
        "#DATA AP NN\n",
        "#Separating the target variables (Masa_VAT_g and Vol_VAT) from the independent features\n",
        "target = [\"Masa_VAT_g\"]\n",
        "X = dataAP_g.drop(target, axis=1).values\n",
        "y = dataAP_g[target].values\t"
      ]
    },
    {
      "cell_type": "code",
      "execution_count": 11,
      "metadata": {
        "id": "Hsz8LGMlcIJT"
      },
      "outputs": [],
      "source": [
        "#DATA PHY NN\n",
        "#Separating the target variables (Masa_VAT_g and Vol_VAT) from the independent features\n",
        "target = [\"Masa_VAT_g\"]\n",
        "X = dataPHY.values\n",
        "y = dataAP_g[target].values\t"
      ]
    },
    {
      "cell_type": "code",
      "execution_count": 12,
      "metadata": {
        "id": "XhWwiCCKggDP"
      },
      "outputs": [],
      "source": [
        "#DATA ALL NN\n",
        "#Separating the target variables (Masa_VAT_g and Vol_VAT) from the independent features\n",
        "target = [\"Masa_VAT_g\"]\n",
        "X = dataALL.values\n",
        "y = dataAP_g[target].values\t"
      ]
    },
    {
      "cell_type": "markdown",
      "metadata": {
        "id": "ZjdMPzTW6i3n"
      },
      "source": [
        "# Defining the NN with the hyperparameters found with keras tuner: DataAP\n",
        "\n"
      ]
    },
    {
      "cell_type": "markdown",
      "source": [
        "Defining the training and testing sets."
      ],
      "metadata": {
        "id": "IzMv74uv6dQw"
      }
    },
    {
      "cell_type": "code",
      "execution_count": 15,
      "metadata": {
        "id": "JbFCpN56EmdK"
      },
      "outputs": [],
      "source": [
        "#Separating the target variables (Masa_VAT_g and Vol_VAT) from the independent features\n",
        "target = [\"Masa_VAT_g\"]\n",
        "X = dataAP_g.drop(target, axis=1).values\n",
        "y = dataAP_g[target].values\t"
      ]
    },
    {
      "cell_type": "code",
      "execution_count": 16,
      "metadata": {
        "id": "bXp6n1HDEmdQ"
      },
      "outputs": [],
      "source": [
        "# Split the data into train and test sets\n",
        "X_train, X_test, y_train, y_test = train_test_split(X, y, test_size=0.2, random_state=42)\n",
        "\n",
        "# Now we can use X_train and y_train as your training data\n",
        "# and X_test and y_test as your test data"
      ]
    },
    {
      "cell_type": "code",
      "execution_count": 17,
      "metadata": {
        "colab": {
          "base_uri": "https://localhost:8080/"
        },
        "id": "PkV_-KHwEmdQ",
        "outputId": "0e3e0836-9862-4ce3-e3ae-3680e2cef7ea"
      },
      "outputs": [
        {
          "output_type": "stream",
          "name": "stdout",
          "text": [
            "(118, 17)\n",
            "(118, 1)\n"
          ]
        }
      ],
      "source": [
        "print(X_train.shape)\n",
        "print(y_train.shape)"
      ]
    },
    {
      "cell_type": "markdown",
      "source": [
        "Defining the model:"
      ],
      "metadata": {
        "id": "g8LM76qb6abB"
      }
    },
    {
      "cell_type": "code",
      "execution_count": 18,
      "metadata": {
        "id": "WyhIxxQG6nao"
      },
      "outputs": [],
      "source": [
        "\n",
        "model2= tf.keras.Sequential()\n",
        "model2.add(tf.keras.layers.Dense(units=160, activation='relu', input_shape= (17,)))\n",
        "model2.add(tf.keras.layers.Dropout(0))\n",
        "model2.add(tf.keras.layers.Dense(units=96, activation='relu'))\n",
        "model2.add(tf.keras.layers.Dropout(0))\n",
        "model2.add(tf.keras.layers.Dense(1))\n",
        "\n",
        "model2.compile(loss='mse', optimizer= tf.keras.optimizers.Adam(learning_rate= 0.0076208407593745765), metrics= ['mae','mse'])"
      ]
    },
    {
      "cell_type": "code",
      "execution_count": 19,
      "metadata": {
        "colab": {
          "base_uri": "https://localhost:8080/"
        },
        "id": "lSsFsSvAyL6C",
        "outputId": "05a36d5a-78a1-4951-f07e-f97b827115a5"
      },
      "outputs": [
        {
          "output_type": "stream",
          "name": "stdout",
          "text": [
            "Model: \"sequential\"\n",
            "_________________________________________________________________\n",
            " Layer (type)                Output Shape              Param #   \n",
            "=================================================================\n",
            " dense (Dense)               (None, 160)               2880      \n",
            "                                                                 \n",
            " dropout (Dropout)           (None, 160)               0         \n",
            "                                                                 \n",
            " dense_1 (Dense)             (None, 96)                15456     \n",
            "                                                                 \n",
            " dropout_1 (Dropout)         (None, 96)                0         \n",
            "                                                                 \n",
            " dense_2 (Dense)             (None, 1)                 97        \n",
            "                                                                 \n",
            "=================================================================\n",
            "Total params: 18,433\n",
            "Trainable params: 18,433\n",
            "Non-trainable params: 0\n",
            "_________________________________________________________________\n"
          ]
        }
      ],
      "source": [
        "model2.summary()"
      ]
    },
    {
      "cell_type": "markdown",
      "metadata": {
        "id": "XtfOtsRlzjYy"
      },
      "source": [
        "Training the model, using early stopping"
      ]
    },
    {
      "cell_type": "code",
      "execution_count": 20,
      "metadata": {
        "colab": {
          "base_uri": "https://localhost:8080/"
        },
        "id": "qMxOc5qcyTP9",
        "outputId": "c540cfb0-61a2-4e3e-cc36-a6f7a4b3dd23"
      },
      "outputs": [
        {
          "output_type": "stream",
          "name": "stdout",
          "text": [
            "Epoch 60: early stopping\n",
            "1/1 - 0s - loss: 0.0215 - mae: 0.1201 - mse: 0.0215 - 49ms/epoch - 49ms/step\n",
            "Test-set Mean absolute error:  0.12\n"
          ]
        }
      ],
      "source": [
        "early_stopping_cb = tf.keras.callbacks.EarlyStopping(monitor='val_loss', patience=20, verbose=1, mode='min', restore_best_weights=False)\n",
        "\n",
        "history= model2.fit(\n",
        "    X_train, y_train,\n",
        "    epochs=200,\n",
        "    validation_data=(X_test, y_test),\n",
        "    verbose=0, #set verbose=1 for full details at every epoch\n",
        "    callbacks= [early_stopping_cb])\n",
        "\n",
        "loss, mae, mse= model2.evaluate(X_test, y_test, verbose=2)\n",
        "\n",
        "print(\"Test-set Mean absolute error: {:5.2f}\".format(mae)) # test mae- 36286"
      ]
    },
    {
      "cell_type": "markdown",
      "metadata": {
        "id": "WZiSlvglzazk"
      },
      "source": [
        "## Visual representation of the predictions vs the actual values of the test set."
      ]
    },
    {
      "cell_type": "code",
      "execution_count": 22,
      "metadata": {
        "colab": {
          "base_uri": "https://localhost:8080/",
          "height": 489
        },
        "id": "-6PAge6DzMCR",
        "outputId": "6ad8e73c-29b3-42d7-e058-7fa989d295e7"
      },
      "outputs": [
        {
          "output_type": "stream",
          "name": "stdout",
          "text": [
            "1/1 [==============================] - 0s 116ms/step\n"
          ]
        },
        {
          "output_type": "display_data",
          "data": {
            "text/plain": [
              "<Figure size 640x480 with 1 Axes>"
            ],
            "image/png": "[encoded data removed]"
          },
          "metadata": {}
        }
      ],
      "source": [
        "y_pred_test= model2.predict(X_test).flatten()\n",
        "\n",
        "# a = plt.axes(aspect='equal')\n",
        "plt.scatter(y_test, y_pred_test)\n",
        "plt.xlabel('True Values [VAT mass]')\n",
        "plt.ylabel('Predictions [VAT mass]')\n",
        "plt.title('Scatter Plot of True Values vs Predictions using dataAP')\n",
        "\n",
        "lims=[0, 1]\n",
        "plt.xlim(lims)\n",
        "plt.ylim(lims)\n",
        "_ = plt.plot(lims, lims)"
      ]
    },
    {
      "cell_type": "markdown",
      "source": [
        "## K-fold cross-validation to calculate average R2 of the training and testing dataset, as well as the Mean Squared Error or the prediction."
      ],
      "metadata": {
        "id": "KfNtlu95lFFN"
      }
    },
    {
      "cell_type": "code",
      "source": [
        "from sklearn.model_selection import KFold\n",
        "from sklearn.metrics import r2_score, mean_squared_error\n",
        "import numpy as np\n",
        "from keras.models import Sequential\n",
        "from keras.layers import Dense\n",
        "\n",
        "# Assuming X contains the input features and y contains the corresponding labels\n",
        "\n",
        "# Initialize performance metrics\n",
        "train_r2_scores = []\n",
        "test_r2_scores = []\n",
        "test_mse_scores = []\n",
        "\n",
        "# Configure the neural network _> model2\n",
        "\n",
        "# Perform k-fold cross-validation\n",
        "kfold = KFold(n_splits=5, shuffle=True)  # Number of folds and shuffle option\n",
        "for train_index, test_index in kfold.split(X):\n",
        "    X_train, X_test = X[train_index], X[test_index]\n",
        "    y_train, y_test = y[train_index], y[test_index]\n",
        "\n",
        "    # Train the neural network\n",
        "    model2.fit(X_train, y_train, epochs=10, batch_size=32, verbose=0)\n",
        "\n",
        "    # Make predictions on the training and test data\n",
        "    y_pred_train = model2.predict(X_train)\n",
        "    y_pred_test = model2.predict(X_test)\n",
        "\n",
        "    # Calculate R2 score for training and test data\n",
        "    train_r2 = r2_score(y_train, y_pred_train)\n",
        "    test_r2 = r2_score(y_test, y_pred_test)\n",
        "    train_r2_scores.append(train_r2)\n",
        "    test_r2_scores.append(test_r2)\n",
        "\n",
        "    # Calculate MSE for test data\n",
        "    test_mse = mean_squared_error(y_test, y_pred_test)\n",
        "    test_mse_scores.append(test_mse)\n",
        "\n",
        "# Calculate average scores\n",
        "average_train_r2 = np.mean(train_r2_scores)\n",
        "average_test_r2 = np.mean(test_r2_scores)\n",
        "average_test_mse = np.mean(test_mse_scores)\n",
        "\n",
        "print(\"Average Training R2 Score:\", average_train_r2)\n",
        "print(\"Average Test R2 Score:\", average_test_r2)\n",
        "print(\"Average Test MSE:\", np.sqrt(average_test_mse))\n"
      ],
      "metadata": {
        "colab": {
          "base_uri": "https://localhost:8080/"
        },
        "outputId": "7053665f-b465-4af6-9a36-534ec1001e20",
        "id": "JlQRSrpdlFFO"
      },
      "execution_count": 25,
      "outputs": [
        {
          "output_type": "stream",
          "name": "stdout",
          "text": [
            "4/4 [==============================] - 0s 4ms/step\n",
            "1/1 [==============================] - 0s 41ms/step\n",
            "4/4 [==============================] - 0s 6ms/step\n",
            "1/1 [==============================] - 0s 39ms/step\n",
            "4/4 [==============================] - 0s 5ms/step\n",
            "1/1 [==============================] - 0s 36ms/step\n",
            "4/4 [==============================] - 0s 3ms/step\n",
            "1/1 [==============================] - 0s 36ms/step\n",
            "4/4 [==============================] - 0s 3ms/step\n",
            "1/1 [==============================] - 0s 31ms/step\n",
            "Average Training R2 Score: 0.3926277286010391\n",
            "Average Test R2 Score: 0.3379205191520166\n",
            "Average Test MSE: 0.13195386188915859\n"
          ]
        }
      ]
    },
    {
      "cell_type": "markdown",
      "metadata": {
        "id": "JJxuLGP2Wti4"
      },
      "source": [
        "## NN architecture"
      ]
    },
    {
      "cell_type": "markdown",
      "source": [
        "Installing necessary libraries for the visual representation"
      ],
      "metadata": {
        "id": "HerPLyg4Wti5"
      }
    },
    {
      "cell_type": "code",
      "source": [
        "pip install graphviz"
      ],
      "metadata": {
        "colab": {
          "base_uri": "https://localhost:8080/"
        },
        "outputId": "a990c78f-42ca-4c04-bb5a-29a225b5b336",
        "id": "Azwtao9NWti5"
      },
      "execution_count": 26,
      "outputs": [
        {
          "output_type": "stream",
          "name": "stdout",
          "text": [
            "Looking in indexes: https://pypi.org/simple, https://us-python.pkg.dev/colab-wheels/public/simple/\n",
            "Requirement already satisfied: graphviz in /usr/local/lib/python3.10/dist-packages (0.20.1)\n"
          ]
        }
      ]
    },
    {
      "cell_type": "code",
      "source": [
        "pip install pydot"
      ],
      "metadata": {
        "colab": {
          "base_uri": "https://localhost:8080/"
        },
        "outputId": "e3563f84-6f89-4ccc-ae99-b40ef81a86b3",
        "id": "4yyfeDdnWti5"
      },
      "execution_count": 27,
      "outputs": [
        {
          "output_type": "stream",
          "name": "stdout",
          "text": [
            "Looking in indexes: https://pypi.org/simple, https://us-python.pkg.dev/colab-wheels/public/simple/\n",
            "Requirement already satisfied: pydot in /usr/local/lib/python3.10/dist-packages (1.4.2)\n",
            "Requirement already satisfied: pyparsing>=2.1.4 in /usr/local/lib/python3.10/dist-packages (from pydot) (3.0.9)\n"
          ]
        }
      ]
    },
    {
      "cell_type": "code",
      "source": [
        "import graphviz\n",
        "from keras.utils import plot_model"
      ],
      "metadata": {
        "id": "VIKEr-5CWti5"
      },
      "execution_count": 28,
      "outputs": []
    },
    {
      "cell_type": "markdown",
      "source": [
        "Plotting the model with keras.utils"
      ],
      "metadata": {
        "id": "nS-BK-hYWti5"
      }
    },
    {
      "cell_type": "code",
      "source": [
        "plot_model(model2, to_file='model_architecture.png', show_shapes=True)"
      ],
      "metadata": {
        "colab": {
          "base_uri": "https://localhost:8080/",
          "height": 644
        },
        "outputId": "d0993aab-3e52-4387-9105-cdfe5cf402b7",
        "id": "R_81h3GRWti5"
      },
      "execution_count": 29,
      "outputs": [
        {
          "output_type": "execute_result",
          "data": {
            "image/png": "[encoded data removed]",
            "text/plain": [
              "<IPython.core.display.Image object>"
            ]
          },
          "metadata": {},
          "execution_count": 29
        }
      ]
    },
    {
      "cell_type": "markdown",
      "source": [
        "Visualizing NN architecture with ann_visualizer"
      ],
      "metadata": {
        "id": "I7PQ938TWti6"
      }
    },
    {
      "cell_type": "code",
      "source": [
        "pip install ann_visualizer"
      ],
      "metadata": {
        "colab": {
          "base_uri": "https://localhost:8080/"
        },
        "outputId": "48a332ff-3479-468f-ce64-cc4b6faece10",
        "id": "YqAaocQyWti6"
      },
      "execution_count": 30,
      "outputs": [
        {
          "output_type": "stream",
          "name": "stdout",
          "text": [
            "Looking in indexes: https://pypi.org/simple, https://us-python.pkg.dev/colab-wheels/public/simple/\n",
            "Collecting ann_visualizer\n",
            "  Downloading ann_visualizer-2.5.tar.gz (4.7 kB)\n",
            "  Preparing metadata (setup.py) ... \u001b[?25l\u001b[?25hdone\n",
            "Building wheels for collected packages: ann_visualizer\n",
            "  Building wheel for ann_visualizer (setup.py) ... \u001b[?25l\u001b[?25hdone\n",
            "  Created wheel for ann_visualizer: filename=ann_visualizer-2.5-py3-none-any.whl size=4167 sha256=bfe9d64a8fa21efda6dad7eed5b650e3d3d8799c6b11f97105474a7c7c5bbe96\n",
            "  Stored in directory: /root/.cache/pip/wheels/6e/0f/ae/f5dba91db71b1b32bf03d0ad18c32e86126093aba5ec6b6488\n",
            "Successfully built ann_visualizer\n",
            "Installing collected packages: ann_visualizer\n",
            "Successfully installed ann_visualizer-2.5\n"
          ]
        }
      ]
    },
    {
      "cell_type": "code",
      "source": [
        "from ann_visualizer.visualize import ann_viz\n",
        "from keras.models import Sequential\n",
        "from keras.layers import Dense"
      ],
      "metadata": {
        "id": "_FBI_y71Wti6"
      },
      "execution_count": 31,
      "outputs": []
    },
    {
      "cell_type": "markdown",
      "source": [
        "Saving the visual representation in my personal drive"
      ],
      "metadata": {
        "id": "iJhqHhVmoZ4h"
      }
    },
    {
      "cell_type": "code",
      "source": [
        "ann_viz(model2, view=True, filename=\"/content/drive/MyDrive/TFG/Colab Notebooks/NN architecture with dataAP features as input neurons\", title=\"NN architecture with dataAP features as input neurons\")"
      ],
      "metadata": {
        "id": "80OZWkA0Wti6"
      },
      "execution_count": 32,
      "outputs": []
    },
    {
      "cell_type": "markdown",
      "metadata": {
        "id": "GGM39Tfpk8nH"
      },
      "source": [
        "# Defining the NN with the hyperparameters found with keras tuner: DataPHY\n",
        "\n"
      ]
    },
    {
      "cell_type": "markdown",
      "source": [
        "Defining the training and testing sets"
      ],
      "metadata": {
        "id": "TmGmA_oy6-_U"
      }
    },
    {
      "cell_type": "code",
      "execution_count": 33,
      "metadata": {
        "id": "GAlGpExnl2Kx"
      },
      "outputs": [],
      "source": [
        "#DATA PHY NN\n",
        "#Separating the target variables (Masa_VAT_g and Vol_VAT) from the independent features\n",
        "target = [\"Masa_VAT_g\"]\n",
        "X = dataPHY.values\n",
        "y = dataAP_g[target].values\t"
      ]
    },
    {
      "cell_type": "code",
      "execution_count": 34,
      "metadata": {
        "id": "Mt6c2t41k8nY"
      },
      "outputs": [],
      "source": [
        "# Split the data into train and test sets\n",
        "X_train, X_test, y_train, y_test = train_test_split(X, y, test_size=0.2, random_state=42)\n",
        "\n",
        "# Now we can use X_train and y_train as your training data\n",
        "# and X_test and y_test as your test data"
      ]
    },
    {
      "cell_type": "code",
      "execution_count": 35,
      "metadata": {
        "colab": {
          "base_uri": "https://localhost:8080/"
        },
        "id": "1kL3rtUXk8nZ",
        "outputId": "625ebd32-d1ae-4ad4-8ade-7a44ebf74bae"
      },
      "outputs": [
        {
          "output_type": "stream",
          "name": "stdout",
          "text": [
            "(118, 16)\n",
            "(118, 1)\n"
          ]
        }
      ],
      "source": [
        "print(X_train.shape)\n",
        "print(y_train.shape)"
      ]
    },
    {
      "cell_type": "markdown",
      "source": [
        "Defining the model:"
      ],
      "metadata": {
        "id": "zq4Kz5XO6GQx"
      }
    },
    {
      "cell_type": "code",
      "execution_count": 36,
      "metadata": {
        "id": "U_W5Oz9_k8nZ"
      },
      "outputs": [],
      "source": [
        "model2= tf.keras.Sequential()\n",
        "model2.add(tf.keras.layers.Dense(units=160, activation='relu', input_shape= (16,)))\n",
        "model2.add(tf.keras.layers.Dense(units=64, activation='relu'))\n",
        "model2.add(tf.keras.layers.Dense(1))\n",
        "\n",
        "model2.compile(loss='mse', optimizer= tf.keras.optimizers.Adam(learning_rate= 0.006528791394798441), metrics= ['mae','mse'])"
      ]
    },
    {
      "cell_type": "code",
      "execution_count": 37,
      "metadata": {
        "colab": {
          "base_uri": "https://localhost:8080/"
        },
        "id": "UC3ShOUvk8nZ",
        "outputId": "d3ee3dfd-d55d-446e-f7d1-86c71af34f1d"
      },
      "outputs": [
        {
          "output_type": "stream",
          "name": "stdout",
          "text": [
            "Model: \"sequential_1\"\n",
            "_________________________________________________________________\n",
            " Layer (type)                Output Shape              Param #   \n",
            "=================================================================\n",
            " dense_3 (Dense)             (None, 160)               2720      \n",
            "                                                                 \n",
            " dense_4 (Dense)             (None, 64)                10304     \n",
            "                                                                 \n",
            " dense_5 (Dense)             (None, 1)                 65        \n",
            "                                                                 \n",
            "=================================================================\n",
            "Total params: 13,089\n",
            "Trainable params: 13,089\n",
            "Non-trainable params: 0\n",
            "_________________________________________________________________\n"
          ]
        }
      ],
      "source": [
        "model2.summary()"
      ]
    },
    {
      "cell_type": "markdown",
      "metadata": {
        "id": "-Pzidvsfk8na"
      },
      "source": [
        "Training the model, using early stopping"
      ]
    },
    {
      "cell_type": "code",
      "execution_count": 38,
      "metadata": {
        "colab": {
          "base_uri": "https://localhost:8080/"
        },
        "id": "VHNjilmek8na",
        "outputId": "325c3601-3588-4c02-f69f-e3aecd4e8eae"
      },
      "outputs": [
        {
          "output_type": "stream",
          "name": "stdout",
          "text": [
            "Epoch 61: early stopping\n",
            "1/1 - 0s - loss: 0.0161 - mae: 0.1108 - mse: 0.0161 - 78ms/epoch - 78ms/step\n",
            "Test-set Mean absolute error:  0.11\n"
          ]
        }
      ],
      "source": [
        "early_stopping_cb = tf.keras.callbacks.EarlyStopping(monitor='val_loss', patience=20, verbose=1, mode='min', restore_best_weights=False)\n",
        "\n",
        "history= model2.fit(\n",
        "    X_train, y_train,\n",
        "    epochs=200,\n",
        "    validation_data=(X_test, y_test),\n",
        "    verbose=0, #set verbose=1 for full details at every epoch\n",
        "    callbacks= [early_stopping_cb])\n",
        "\n",
        "loss, mae, mse= model2.evaluate(X_test, y_test, verbose=2)\n",
        "\n",
        "print(\"Test-set Mean absolute error: {:5.2f}\".format(mae)) # test mae- 36286"
      ]
    },
    {
      "cell_type": "markdown",
      "metadata": {
        "id": "v8kzZD1jk8nb"
      },
      "source": [
        "## Visual representation of the predictions vs the actual values of the test set."
      ]
    },
    {
      "cell_type": "code",
      "execution_count": 40,
      "metadata": {
        "colab": {
          "base_uri": "https://localhost:8080/",
          "height": 489
        },
        "id": "c3aV20ymk8nc",
        "outputId": "7afc0e98-6827-4a77-f62e-8aee589b48b2"
      },
      "outputs": [
        {
          "output_type": "stream",
          "name": "stdout",
          "text": [
            "1/1 [==============================] - 0s 99ms/step\n"
          ]
        },
        {
          "output_type": "display_data",
          "data": {
            "text/plain": [
              "<Figure size 640x480 with 1 Axes>"
            ],
            "image/png": "[encoded data removed]"
          },
          "metadata": {}
        }
      ],
      "source": [
        "y_pred_test= model2.predict(X_test).flatten()\n",
        "\n",
        "# a = plt.axes(aspect='equal')\n",
        "plt.scatter(y_test, y_pred_test)\n",
        "plt.xlabel('True Values [VAT mass]')\n",
        "plt.ylabel('Predictions [VAT mass]')\n",
        "plt.title('Scatter Plot of True Values vs Predictions using dataPHY')\n",
        "\n",
        "lims=[0, 1]\n",
        "plt.xlim(lims)\n",
        "plt.ylim(lims)\n",
        "_ = plt.plot(lims, lims)"
      ]
    },
    {
      "cell_type": "markdown",
      "source": [
        "## K-fold cross-validation to calculate average R2 of the training and testing dataset, as well as the Mean Squared Error or the prediction."
      ],
      "metadata": {
        "id": "Vx3bbq20k9dB"
      }
    },
    {
      "cell_type": "code",
      "source": [
        "from sklearn.model_selection import KFold\n",
        "from sklearn.metrics import r2_score, mean_squared_error\n",
        "import numpy as np\n",
        "from keras.models import Sequential\n",
        "from keras.layers import Dense\n",
        "\n",
        "# Assuming X contains the input features and y contains the corresponding labels\n",
        "\n",
        "# Initialize performance metrics\n",
        "train_r2_scores = []\n",
        "test_r2_scores = []\n",
        "test_mse_scores = []\n",
        "\n",
        "# Configure the neural network _> model2\n",
        "\n",
        "# Perform k-fold cross-validation\n",
        "kfold = KFold(n_splits=5, shuffle=True)  # Number of folds and shuffle option\n",
        "for train_index, test_index in kfold.split(X):\n",
        "    X_train, X_test = X[train_index], X[test_index]\n",
        "    y_train, y_test = y[train_index], y[test_index]\n",
        "\n",
        "    # Train the neural network\n",
        "    model2.fit(X_train, y_train, epochs=10, batch_size=32, verbose=0)\n",
        "\n",
        "    # Make predictions on the training and test data\n",
        "    y_pred_train = model2.predict(X_train)\n",
        "    y_pred_test = model2.predict(X_test)\n",
        "\n",
        "    # Calculate R2 score for training and test data\n",
        "    train_r2 = r2_score(y_train, y_pred_train)\n",
        "    test_r2 = r2_score(y_test, y_pred_test)\n",
        "    train_r2_scores.append(train_r2)\n",
        "    test_r2_scores.append(test_r2)\n",
        "\n",
        "    # Calculate MSE for test data\n",
        "    test_mse = mean_squared_error(y_test, y_pred_test)\n",
        "    test_mse_scores.append(test_mse)\n",
        "\n",
        "# Calculate average scores\n",
        "average_train_r2 = np.mean(train_r2_scores)\n",
        "average_test_r2 = np.mean(test_r2_scores)\n",
        "average_test_mse = np.mean(test_mse_scores)\n",
        "\n",
        "print(\"Average Training R2 using k-cross val:\", average_train_r2)\n",
        "print(\"Average Test R2 using k-cross val:\", average_test_r2)\n",
        "print(\"Average Test MSE using k-cross val:\", np.sqrt(average_test_mse))\n"
      ],
      "metadata": {
        "colab": {
          "base_uri": "https://localhost:8080/"
        },
        "outputId": "c7db221f-c012-4e05-8d89-bdbdc4a946cf",
        "id": "Zt9OvYpWk9dH"
      },
      "execution_count": 43,
      "outputs": [
        {
          "output_type": "stream",
          "name": "stdout",
          "text": [
            "4/4 [==============================] - 0s 3ms/step\n",
            "1/1 [==============================] - 0s 76ms/step\n",
            "4/4 [==============================] - 0s 4ms/step\n",
            "1/1 [==============================] - 0s 49ms/step\n",
            "4/4 [==============================] - 0s 3ms/step\n",
            "1/1 [==============================] - 0s 60ms/step\n",
            "4/4 [==============================] - 0s 5ms/step\n",
            "1/1 [==============================] - 0s 43ms/step\n",
            "4/4 [==============================] - 0s 3ms/step\n",
            "1/1 [==============================] - 0s 129ms/step\n",
            "Average Training R2 using k-cross val: 0.9192293220392578\n",
            "Average Test R2 using k-cross val: 0.7903780750334745\n",
            "Average Test MSE using k-cross val: 0.07294007023731068\n"
          ]
        }
      ]
    },
    {
      "cell_type": "markdown",
      "metadata": {
        "id": "ynul3hfnWpL8"
      },
      "source": [
        "## NN architecture"
      ]
    },
    {
      "cell_type": "markdown",
      "source": [
        "Installing necessary libraries for the visual representation"
      ],
      "metadata": {
        "id": "szaX45KLWpMD"
      }
    },
    {
      "cell_type": "code",
      "source": [
        "pip install graphviz"
      ],
      "metadata": {
        "colab": {
          "base_uri": "https://localhost:8080/"
        },
        "outputId": "e0d4a9ef-3bf0-447c-9618-33c4c9fb778b",
        "id": "CLU2sBqOWpMD"
      },
      "execution_count": 44,
      "outputs": [
        {
          "output_type": "stream",
          "name": "stdout",
          "text": [
            "Looking in indexes: https://pypi.org/simple, https://us-python.pkg.dev/colab-wheels/public/simple/\n",
            "Requirement already satisfied: graphviz in /usr/local/lib/python3.10/dist-packages (0.20.1)\n"
          ]
        }
      ]
    },
    {
      "cell_type": "code",
      "source": [
        "pip install pydot"
      ],
      "metadata": {
        "colab": {
          "base_uri": "https://localhost:8080/"
        },
        "outputId": "3c857656-df1f-44ef-fd2f-6b5fdb467a50",
        "id": "Aume-zPSWpME"
      },
      "execution_count": 45,
      "outputs": [
        {
          "output_type": "stream",
          "name": "stdout",
          "text": [
            "Looking in indexes: https://pypi.org/simple, https://us-python.pkg.dev/colab-wheels/public/simple/\n",
            "Requirement already satisfied: pydot in /usr/local/lib/python3.10/dist-packages (1.4.2)\n",
            "Requirement already satisfied: pyparsing>=2.1.4 in /usr/local/lib/python3.10/dist-packages (from pydot) (3.0.9)\n"
          ]
        }
      ]
    },
    {
      "cell_type": "code",
      "source": [
        "import graphviz\n",
        "from keras.utils import plot_model"
      ],
      "metadata": {
        "id": "Un-P30c0WpME"
      },
      "execution_count": 46,
      "outputs": []
    },
    {
      "cell_type": "markdown",
      "source": [
        "Plotting the model with keras.utils"
      ],
      "metadata": {
        "id": "dQgdDz0UWpME"
      }
    },
    {
      "cell_type": "code",
      "source": [
        "plot_model(model2, to_file='model_architecture.png', show_shapes=True)"
      ],
      "metadata": {
        "colab": {
          "base_uri": "https://localhost:8080/",
          "height": 422
        },
        "outputId": "44afa04a-1c91-4174-ef2f-58cad59b01ef",
        "id": "yMieo_mbWpME"
      },
      "execution_count": 47,
      "outputs": [
        {
          "output_type": "execute_result",
          "data": {
            "image/png": "[encoded data removed]",
            "text/plain": [
              "<IPython.core.display.Image object>"
            ]
          },
          "metadata": {},
          "execution_count": 47
        }
      ]
    },
    {
      "cell_type": "markdown",
      "source": [
        "Visualizing NN architecture with ann_visualizer"
      ],
      "metadata": {
        "id": "Lretu8KEWpME"
      }
    },
    {
      "cell_type": "code",
      "source": [
        "pip install ann_visualizer"
      ],
      "metadata": {
        "colab": {
          "base_uri": "https://localhost:8080/"
        },
        "outputId": "37df2a92-e3a0-4aac-aebd-2df429f20586",
        "id": "zGKK6Tz8WpME"
      },
      "execution_count": 48,
      "outputs": [
        {
          "output_type": "stream",
          "name": "stdout",
          "text": [
            "Looking in indexes: https://pypi.org/simple, https://us-python.pkg.dev/colab-wheels/public/simple/\n",
            "Requirement already satisfied: ann_visualizer in /usr/local/lib/python3.10/dist-packages (2.5)\n"
          ]
        }
      ]
    },
    {
      "cell_type": "code",
      "source": [
        "from ann_visualizer.visualize import ann_viz\n",
        "from keras.models import Sequential\n",
        "from keras.layers import Dense"
      ],
      "metadata": {
        "id": "QlwElrpNWpME"
      },
      "execution_count": 49,
      "outputs": []
    },
    {
      "cell_type": "markdown",
      "source": [
        "Saving the visual representation in my personal drive"
      ],
      "metadata": {
        "id": "hWHsYmKdoSdw"
      }
    },
    {
      "cell_type": "code",
      "source": [
        "ann_viz(model2, view=True, filename=\"/content/drive/MyDrive/TFG/Colab Notebooks/NN architecture with dataPHY features as input neurons\", title=\"NN architecture with dataPHY features as input neurons\")"
      ],
      "metadata": {
        "id": "Y-vpHKOOWpME"
      },
      "execution_count": 50,
      "outputs": []
    },
    {
      "cell_type": "markdown",
      "metadata": {
        "id": "JrAtH0L6k9_7"
      },
      "source": [
        "# Defining the NN with the hyperparameters found with keras tuner. dataALL\n",
        "\n"
      ]
    },
    {
      "cell_type": "markdown",
      "source": [
        "Defining the testing and training sets:"
      ],
      "metadata": {
        "id": "TZ8mhUcz7FXz"
      }
    },
    {
      "cell_type": "code",
      "execution_count": 52,
      "metadata": {
        "id": "j31uEmnqls1B"
      },
      "outputs": [],
      "source": [
        "#DATA ALL NN\n",
        "#Separating the target variables (Masa_VAT_g and Vol_VAT) from the independent features\n",
        "target = [\"Masa_VAT_g\"]\n",
        "X = dataALL.values\n",
        "y = dataAP_g[target].values\t"
      ]
    },
    {
      "cell_type": "code",
      "execution_count": 53,
      "metadata": {
        "id": "J6P8s4C1k-AN"
      },
      "outputs": [],
      "source": [
        "# Split the data into train and test sets\n",
        "X_train, X_test, y_train, y_test = train_test_split(X, y, test_size=0.2, random_state=42)\n",
        "\n",
        "# Now we can use X_train and y_train as your training data\n",
        "# and X_test and y_test as your test data"
      ]
    },
    {
      "cell_type": "code",
      "execution_count": 54,
      "metadata": {
        "colab": {
          "base_uri": "https://localhost:8080/"
        },
        "id": "SLKb_M_Zk-AN",
        "outputId": "d3fef130-2d4b-4779-bd92-1b1130f50527"
      },
      "outputs": [
        {
          "output_type": "stream",
          "name": "stdout",
          "text": [
            "(118, 33)\n",
            "(118, 1)\n"
          ]
        }
      ],
      "source": [
        "print(X_train.shape)\n",
        "print(y_train.shape)"
      ]
    },
    {
      "cell_type": "markdown",
      "source": [
        "Defining the model:"
      ],
      "metadata": {
        "id": "duMno0Yu7IOa"
      }
    },
    {
      "cell_type": "code",
      "execution_count": 55,
      "metadata": {
        "id": "PQAid0SNk-AN"
      },
      "outputs": [],
      "source": [
        "model2= tf.keras.Sequential()\n",
        "model2.add(tf.keras.layers.Dense(units=128, activation='relu', input_shape= (33,)))\n",
        "model2.add(tf.keras.layers.Dense(units=128, activation='relu'))\n",
        "model2.add(tf.keras.layers.Dense(1))\n",
        "\n",
        "model2.compile(loss='mse', optimizer= tf.keras.optimizers.Adam(learning_rate= 0.004386943776968041), metrics= ['mae','mse'])"
      ]
    },
    {
      "cell_type": "code",
      "execution_count": 56,
      "metadata": {
        "colab": {
          "base_uri": "https://localhost:8080/"
        },
        "id": "VzfBj4aHk-AN",
        "outputId": "a6db348a-4db4-46b7-c35c-37dc7946def9"
      },
      "outputs": [
        {
          "output_type": "stream",
          "name": "stdout",
          "text": [
            "Model: \"sequential_2\"\n",
            "_________________________________________________________________\n",
            " Layer (type)                Output Shape              Param #   \n",
            "=================================================================\n",
            " dense_6 (Dense)             (None, 128)               4352      \n",
            "                                                                 \n",
            " dense_7 (Dense)             (None, 128)               16512     \n",
            "                                                                 \n",
            " dense_8 (Dense)             (None, 1)                 129       \n",
            "                                                                 \n",
            "=================================================================\n",
            "Total params: 20,993\n",
            "Trainable params: 20,993\n",
            "Non-trainable params: 0\n",
            "_________________________________________________________________\n"
          ]
        }
      ],
      "source": [
        "model2.summary()"
      ]
    },
    {
      "cell_type": "markdown",
      "metadata": {
        "id": "50kaBpYMk-AN"
      },
      "source": [
        "Training the model, using early stopping"
      ]
    },
    {
      "cell_type": "code",
      "execution_count": 57,
      "metadata": {
        "colab": {
          "base_uri": "https://localhost:8080/"
        },
        "id": "4JoTED32k-AO",
        "outputId": "85f80f43-ea6a-41d7-f90b-24aec51edb6a"
      },
      "outputs": [
        {
          "output_type": "stream",
          "name": "stdout",
          "text": [
            "Epoch 63: early stopping\n",
            "1/1 - 0s - loss: 0.0168 - mae: 0.1059 - mse: 0.0168 - 41ms/epoch - 41ms/step\n",
            "Test-set Mean absolute error:  0.11\n"
          ]
        }
      ],
      "source": [
        "early_stopping_cb = tf.keras.callbacks.EarlyStopping(monitor='val_loss', patience=20, verbose=1, mode='min', restore_best_weights=False)\n",
        "\n",
        "history= model2.fit(\n",
        "    X_train, y_train,\n",
        "    epochs=200,\n",
        "    validation_data=(X_test, y_test),\n",
        "    verbose=0, #set verbose=1 for full details at every epoch\n",
        "    callbacks= [early_stopping_cb])\n",
        "\n",
        "loss, mae, mse= model2.evaluate(X_test, y_test, verbose=2)\n",
        "\n",
        "print(\"Test-set Mean absolute error: {:5.2f}\".format(mae)) # test mae- 36286"
      ]
    },
    {
      "cell_type": "markdown",
      "metadata": {
        "id": "DJswgE-Ek-AO"
      },
      "source": [
        "## Visual representation of the predictions vs the actual values of the test set."
      ]
    },
    {
      "cell_type": "code",
      "execution_count": 59,
      "metadata": {
        "colab": {
          "base_uri": "https://localhost:8080/",
          "height": 489
        },
        "id": "oa9gxHnSk-AO",
        "outputId": "b015f847-9ab6-4359-866d-446a71391b2d"
      },
      "outputs": [
        {
          "output_type": "stream",
          "name": "stdout",
          "text": [
            "1/1 [==============================] - 0s 103ms/step\n"
          ]
        },
        {
          "output_type": "display_data",
          "data": {
            "text/plain": [
              "<Figure size 640x480 with 1 Axes>"
            ],
            "image/png": "[encoded data removed]"
          },
          "metadata": {}
        }
      ],
      "source": [
        "y_pred_test= model2.predict(X_test).flatten()\n",
        "\n",
        "# a = plt.axes(aspect='equal')\n",
        "plt.scatter(y_test, y_pred_test)\n",
        "plt.xlabel('True Values [VAT mass]')\n",
        "plt.ylabel('Predictions [VAT mass]')\n",
        "plt.title('Scatter Plot of True Values vs Predictions using dataALL')\n",
        "\n",
        "lims=[0, 1]\n",
        "plt.xlim(lims)\n",
        "plt.ylim(lims)\n",
        "_ = plt.plot(lims, lims)"
      ]
    },
    {
      "cell_type": "markdown",
      "source": [
        "## K-fold cross-validation to calculate average R2 of the training and testing dataset, as well as the Mean Squared Error or the prediction."
      ],
      "metadata": {
        "id": "NfYDnl5ziV27"
      }
    },
    {
      "cell_type": "code",
      "source": [
        "from sklearn.model_selection import KFold\n",
        "from sklearn.metrics import r2_score, mean_squared_error\n",
        "import numpy as np\n",
        "from keras.models import Sequential\n",
        "from keras.layers import Dense\n",
        "\n",
        "# Assuming X contains the input features and y contains the corresponding labels\n",
        "\n",
        "# Initialize performance metrics\n",
        "train_r2_scores = []\n",
        "test_r2_scores = []\n",
        "test_mse_scores = []\n",
        "\n",
        "# Configure the neural network _> model2\n",
        "\n",
        "# Perform k-fold cross-validation\n",
        "kfold = KFold(n_splits=5, shuffle=True)  # Number of folds and shuffle option\n",
        "for train_index, test_index in kfold.split(X):\n",
        "    X_train, X_test = X[train_index], X[test_index]\n",
        "    y_train, y_test = y[train_index], y[test_index]\n",
        "\n",
        "    # Train the neural network\n",
        "    model2.fit(X_train, y_train, epochs=10, batch_size=32, verbose=0)\n",
        "\n",
        "    # Make predictions on the training and test data\n",
        "    y_pred_train = model2.predict(X_train)\n",
        "    y_pred_test = model2.predict(X_test)\n",
        "\n",
        "    # Calculate R2 score for training and test data\n",
        "    train_r2 = r2_score(y_train, y_pred_train)\n",
        "    test_r2 = r2_score(y_test, y_pred_test)\n",
        "    train_r2_scores.append(train_r2)\n",
        "    test_r2_scores.append(test_r2)\n",
        "\n",
        "    # Calculate MSE for test data\n",
        "    test_mse = mean_squared_error(y_test, y_pred_test)\n",
        "    test_mse_scores.append(test_mse)\n",
        "\n",
        "# Calculate average scores\n",
        "average_train_r2 = np.mean(train_r2_scores)\n",
        "average_test_r2 = np.mean(test_r2_scores)\n",
        "average_test_mse = np.mean(test_mse_scores)\n",
        "\n",
        "print(\"Average Training R2 Score:\", average_train_r2)\n",
        "print(\"Average Test R2 Score:\", average_test_r2)\n",
        "print(\"Average Test MSE:\", np.sqrt(average_test_mse))\n"
      ],
      "metadata": {
        "colab": {
          "base_uri": "https://localhost:8080/"
        },
        "id": "PZ6NAn4JhPd7",
        "outputId": "27566f1c-ffe5-48b0-ec0c-ee34fc3fa0e7"
      },
      "execution_count": 62,
      "outputs": [
        {
          "output_type": "stream",
          "name": "stdout",
          "text": [
            "4/4 [==============================] - 0s 3ms/step\n",
            "1/1 [==============================] - 0s 80ms/step\n",
            "4/4 [==============================] - 0s 7ms/step\n",
            "1/1 [==============================] - 0s 145ms/step\n",
            "4/4 [==============================] - 0s 5ms/step\n",
            "1/1 [==============================] - 0s 45ms/step\n",
            "4/4 [==============================] - 0s 4ms/step\n",
            "1/1 [==============================] - 0s 97ms/step\n",
            "4/4 [==============================] - 0s 8ms/step\n",
            "1/1 [==============================] - 0s 40ms/step\n",
            "Average Training R2 Score: 0.9175486358699935\n",
            "Average Test R2 Score: 0.7944862947483108\n",
            "Average Test MSE: 0.07159238930853135\n"
          ]
        }
      ]
    },
    {
      "cell_type": "markdown",
      "metadata": {
        "id": "VaugkUec-s8g"
      },
      "source": [
        "## NN architecture"
      ]
    },
    {
      "cell_type": "markdown",
      "source": [
        "Installing necessary libraries for the visual representation"
      ],
      "metadata": {
        "id": "hmp0nsMjWVgf"
      }
    },
    {
      "cell_type": "code",
      "source": [
        "pip install graphviz"
      ],
      "metadata": {
        "colab": {
          "base_uri": "https://localhost:8080/"
        },
        "id": "pBmuskk1BKQz",
        "outputId": "487843ee-2bef-454f-fa65-d66798322834"
      },
      "execution_count": 63,
      "outputs": [
        {
          "output_type": "stream",
          "name": "stdout",
          "text": [
            "Looking in indexes: https://pypi.org/simple, https://us-python.pkg.dev/colab-wheels/public/simple/\n",
            "Requirement already satisfied: graphviz in /usr/local/lib/python3.10/dist-packages (0.20.1)\n"
          ]
        }
      ]
    },
    {
      "cell_type": "code",
      "source": [
        "pip install pydot"
      ],
      "metadata": {
        "colab": {
          "base_uri": "https://localhost:8080/"
        },
        "id": "grO5GUu3BU1l",
        "outputId": "b3771621-91a6-489b-dd75-5e71754ef827"
      },
      "execution_count": 64,
      "outputs": [
        {
          "output_type": "stream",
          "name": "stdout",
          "text": [
            "Looking in indexes: https://pypi.org/simple, https://us-python.pkg.dev/colab-wheels/public/simple/\n",
            "Requirement already satisfied: pydot in /usr/local/lib/python3.10/dist-packages (1.4.2)\n",
            "Requirement already satisfied: pyparsing>=2.1.4 in /usr/local/lib/python3.10/dist-packages (from pydot) (3.0.9)\n"
          ]
        }
      ]
    },
    {
      "cell_type": "code",
      "source": [
        "import graphviz\n",
        "from keras.utils import plot_model"
      ],
      "metadata": {
        "id": "7WaeihnSBYbU"
      },
      "execution_count": 65,
      "outputs": []
    },
    {
      "cell_type": "markdown",
      "source": [
        "Plotting the model with keras.utils"
      ],
      "metadata": {
        "id": "tHg1hthWWbOw"
      }
    },
    {
      "cell_type": "code",
      "source": [
        "plot_model(model2, to_file='model_architecture.png', show_shapes=True)"
      ],
      "metadata": {
        "colab": {
          "base_uri": "https://localhost:8080/",
          "height": 422
        },
        "id": "iyHFxvSlBZOI",
        "outputId": "a28b89e4-457c-456d-a394-d3eba3a0b9f7"
      },
      "execution_count": 66,
      "outputs": [
        {
          "output_type": "execute_result",
          "data": {
            "image/png": "[encoded data removed]",
            "text/plain": [
              "<IPython.core.display.Image object>"
            ]
          },
          "metadata": {},
          "execution_count": 66
        }
      ]
    },
    {
      "cell_type": "markdown",
      "source": [
        "Visualizing NN architecture with ann_visualizer"
      ],
      "metadata": {
        "id": "9KUF9UmBWhHT"
      }
    },
    {
      "cell_type": "code",
      "source": [
        "pip install ann_visualizer"
      ],
      "metadata": {
        "colab": {
          "base_uri": "https://localhost:8080/"
        },
        "id": "C9OHbAAZB5M_",
        "outputId": "d7fa1cba-eda2-4f53-e24f-49afc4a61309"
      },
      "execution_count": 67,
      "outputs": [
        {
          "output_type": "stream",
          "name": "stdout",
          "text": [
            "Looking in indexes: https://pypi.org/simple, https://us-python.pkg.dev/colab-wheels/public/simple/\n",
            "Requirement already satisfied: ann_visualizer in /usr/local/lib/python3.10/dist-packages (2.5)\n"
          ]
        }
      ]
    },
    {
      "cell_type": "code",
      "source": [
        "from ann_visualizer.visualize import ann_viz\n",
        "from keras.models import Sequential\n",
        "from keras.layers import Dense"
      ],
      "metadata": {
        "id": "8EMvIYPeB7qQ"
      },
      "execution_count": 68,
      "outputs": []
    },
    {
      "cell_type": "markdown",
      "source": [
        "Saving the visual representation in my personal drive"
      ],
      "metadata": {
        "id": "9hdAdWkEoYM9"
      }
    },
    {
      "cell_type": "code",
      "source": [
        "ann_viz(model2, view=True, filename=\"/content/drive/MyDrive/TFG/Colab Notebooks/NN architecture with dataALL features as input neurons\", title=\"NN architecture with dataALL features as input neurons\")"
      ],
      "metadata": {
        "id": "5v_XC-dhB-Bm"
      },
      "execution_count": 69,
      "outputs": []
    }
  ],
  "metadata": {
    "colab": {
      "provenance": [],
      "toc_visible": true,
      "authorship_tag": "ABX9TyP1nj6rlvI1L9dq5prVV5IN"
    },
    "kernelspec": {
      "display_name": "Python 3",
      "name": "python3"
    },
    "language_info": {
      "name": "python"
    }
  },
  "nbformat": 4,
  "nbformat_minor": 0
}
