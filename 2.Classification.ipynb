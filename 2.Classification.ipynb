{
  "cells": [
    {
      "cell_type": "markdown",
      "metadata": {
        "id": "lmiKSmDy-GaV"
      },
      "source": [
        "# **Classification**"
      ]
    },
    {
      "cell_type": "markdown",
      "source": [
        "In the classification section of this project, the best classification models for each dataset (DataAP, dataPHY and dataALL) will be assessed and evaluated."
      ],
      "metadata": {
        "id": "2LE4PFmZDhLP"
      }
    },
    {
      "cell_type": "markdown",
      "metadata": {
        "id": "6QVZa9lblGZL"
      },
      "source": [
        "We import the pandas and numpy libraries:"
      ]
    },
    {
      "cell_type": "code",
      "execution_count": 802,
      "metadata": {
        "id": "LhaZc0me1GzH"
      },
      "outputs": [],
      "source": [
        "import pandas as pd\n",
        "import numpy as np"
      ]
    },
    {
      "cell_type": "markdown",
      "metadata": {
        "id": "rGiZ0qOKlNpF"
      },
      "source": [
        "for the visual analysis we import the following libraries:\n"
      ]
    },
    {
      "cell_type": "code",
      "execution_count": 803,
      "metadata": {
        "id": "VdH4xxVilR3d"
      },
      "outputs": [],
      "source": [
        "import seaborn as sns \n",
        "from matplotlib import pyplot as plt\n",
        "%matplotlib inline"
      ]
    },
    {
      "cell_type": "markdown",
      "metadata": {
        "id": "CwN70Fx1cLJ7"
      },
      "source": [
        "## Importing the preprocessed data"
      ]
    },
    {
      "cell_type": "markdown",
      "metadata": {
        "id": "ls7mGA9ulTV0"
      },
      "source": [
        "We import the dataframes:"
      ]
    },
    {
      "cell_type": "code",
      "execution_count": 804,
      "metadata": {
        "colab": {
          "base_uri": "https://localhost:8080/"
        },
        "id": "V0lgKD_3l8e1",
        "outputId": "09b887b1-57c2-4c92-fbac-56b3b1e515a4"
      },
      "outputs": [
        {
          "output_type": "stream",
          "name": "stdout",
          "text": [
            "Drive already mounted at /content/drive; to attempt to forcibly remount, call drive.mount(\"/content/drive\", force_remount=True).\n"
          ]
        }
      ],
      "source": [
        "from google.colab import drive\n",
        "drive.mount('/content/drive')"
      ]
    },
    {
      "cell_type": "markdown",
      "metadata": {
        "id": "eVFgplJbcQKs"
      },
      "source": [
        "Importing the dataframes dataAP and dataPHY:\n",
        "\n",
        "- dataAP: data containing the original variables that best correlate with the label data of the dataframe.\n",
        "\n",
        "- dataPHY: data containing variables from the blood test that are of interest.\n",
        "\n",
        "- dataALL: Both dataAP and dataPHY combined"
      ]
    },
    {
      "cell_type": "code",
      "execution_count": 805,
      "metadata": {
        "id": "wCqOFsqlbW2J"
      },
      "outputs": [],
      "source": [
        "#Importing dataAP\n",
        "file_name = '/content/drive/MyDrive/TFG/dataAP.csv'\n",
        "dataAP = pd.read_csv(file_name, index_col=[0])"
      ]
    },
    {
      "cell_type": "code",
      "execution_count": 806,
      "metadata": {
        "id": "DPMXUik7THTH"
      },
      "outputs": [],
      "source": [
        "#Importing dataPHY\n",
        "file_name = '/content/drive/MyDrive/TFG/dataPHY.csv'\n",
        "dataPHY = pd.read_csv(file_name, index_col=[0])"
      ]
    },
    {
      "cell_type": "code",
      "execution_count": 807,
      "metadata": {
        "id": "Djwv3OgzsbDq"
      },
      "outputs": [],
      "source": [
        "#Importing dataALL\n",
        "file_name = '/content/drive/MyDrive/TFG/dataALL.csv'\n",
        "dataALL = pd.read_csv(file_name, index_col=[0])"
      ]
    },
    {
      "cell_type": "markdown",
      "metadata": {
        "id": "o4851cmvA1CZ"
      },
      "source": [
        "One dataframe (**dataAP_g**) will contain the label data in continuous form (Masa_VAT_g) and the other (**dataAP_cat**) will contain the label in\n",
        "categorical form (Masa_VAT_cat), as stated in the \"*Transorming the label data into categotical data*\" section from the preprocessing. This is done to avoid confusion when selecting the target variable (Masa_VAT_cat).\n",
        "\n",
        "Also the label Vol_VAT will be removed as it is technically the same as Masa_VAT."
      ]
    },
    {
      "cell_type": "code",
      "execution_count": 808,
      "metadata": {
        "id": "nBqWTiOiP5_G"
      },
      "outputs": [],
      "source": [
        "#Creating a dataAP dataframe only with Masa_VAT_g and another one with only Masa_VAT_cat\n",
        "\n",
        "dataAP_g = dataAP.copy()\n",
        "dataAP_cat = dataAP.copy()\n",
        "\n",
        "dropcat = [\"Masa_VAT_g\", \"Vol_VAT\"]\n",
        "dropg = [\"Masa_VAT_cat\", \"Vol_VAT\"]\n",
        "dataAP_g = dataAP_g.drop(dropg, axis=1)\n",
        "dataAP_cat = dataAP_cat.drop(dropcat , axis=1)"
      ]
    },
    {
      "cell_type": "markdown",
      "metadata": {
        "id": "k_DQTS4fEowY"
      },
      "source": [
        "## **DataAP** "
      ]
    },
    {
      "cell_type": "markdown",
      "metadata": {
        "id": "OY6_ke0uMLF4"
      },
      "source": [
        "### Using Grid Search to find the best model and hyper parameter tuning"
      ]
    },
    {
      "cell_type": "markdown",
      "metadata": {
        "id": "IXDXevhxyfSq"
      },
      "source": [
        "The models whose best hyperparameters we want to find are the following:\n",
        "- Logistic Regression\n",
        "- K-Nearest Neighbours\n",
        "- Support Vector Machines\n",
        "- Naïve Bayes\n",
        "- Decision Tree Classification\n",
        "- Random Forest Classification"
      ]
    },
    {
      "cell_type": "markdown",
      "metadata": {
        "id": "NnZUpIpqBTyf"
      },
      "source": [
        "First we define each model and their corresponding possible parameters:"
      ]
    },
    {
      "cell_type": "code",
      "execution_count": 809,
      "metadata": {
        "id": "0i6xOYMFMScE"
      },
      "outputs": [],
      "source": [
        "from sklearn import svm\n",
        "from sklearn.svm import SVC\n",
        "from sklearn.ensemble import RandomForestClassifier\n",
        "from sklearn.linear_model import LogisticRegression\n",
        "from sklearn.neighbors import KNeighborsClassifier\n",
        "from sklearn.naive_bayes import GaussianNB\n",
        "from sklearn.tree import DecisionTreeClassifier\n",
        "\n",
        "\n",
        "#Define a simple Python dictionary and let's try the models stated before. (LR, KNn, SVM, Kernel SVM, NB, DTC, RFC)\n",
        "\n",
        "model_params = {\n",
        "     'logistic_regression' : {\n",
        "         'model': LogisticRegression(),\n",
        "         'params': {\n",
        "             'solver': ['liblinear', 'newton-cg', 'newton-cholesky', 'sag', 'saga'],\n",
        "             'C': [1,5,10,20],\n",
        "             'penalty' : ['l1', 'l2', 'elasticnet'],\n",
        "         }\n",
        "     },\n",
        "     'Knn': {\n",
        "        'model': KNeighborsClassifier(),\n",
        "        'params' : {\n",
        "            'n_neighbors': [5,10,20,50],\n",
        "            'weights' : ['uniform', 'distance'],\n",
        "            'algorithm' : ['auto', 'ball_tree', 'kd_tree', 'brute'],\n",
        "\n",
        "        }\n",
        "    },\n",
        "    'svm': {\n",
        "        'model': svm.SVC(gamma='auto'),\n",
        "        'params' : {\n",
        "            'C': [5,10,20],\n",
        "            'kernel': ['rbf','linear'],\n",
        "        }\n",
        "    },\n",
        "    \n",
        "    'Naive_Bayes': {\n",
        "        'model': GaussianNB(),\n",
        "        'params' : {\n",
        "            'var_smoothing' : [1e-09,1e-12,1e-06],\n",
        "            \n",
        "        }\n",
        "    },\n",
        "    \n",
        "    'Decision_tree': {\n",
        "        'model': DecisionTreeClassifier(),\n",
        "        'params' : {\n",
        "            'criterion' : ['gini', 'entropy', 'log_loss'],\n",
        "            'max_depth' : [0.5,3,4,5,15,20],\n",
        "\n",
        "        }\n",
        "    },\n",
        "     'random_forest': {\n",
        "        'model': RandomForestClassifier(),\n",
        "        'params' : {\n",
        "            'criterion' : ['gini', 'entropy', 'log_loss'],\n",
        "            'n_estimators': [1,5,10],\n",
        "        }\n",
        "    }\n",
        "}"
      ]
    },
    {
      "cell_type": "markdown",
      "metadata": {
        "id": "P1n_ee1SBPo0"
      },
      "source": [
        "Next we will evaluate these models using GridSearchCV from Sklearn to find the score of each of the models and their best combinations for their parameters."
      ]
    },
    {
      "cell_type": "markdown",
      "metadata": {
        "id": "Rb3K2neuFOrS"
      },
      "source": [
        "First we evaluate with the dataframe DataAP,  that contains features found in the original raw dataframe."
      ]
    },
    {
      "cell_type": "code",
      "execution_count": 810,
      "metadata": {
        "colab": {
          "base_uri": "https://localhost:8080/",
          "height": 238
        },
        "id": "WV4p0WeilJWF",
        "outputId": "f68c777e-eb86-495c-eac1-bb0e4bd40b64"
      },
      "outputs": [
        {
          "output_type": "execute_result",
          "data": {
            "text/plain": [
              "                 model  best_score  \\\n",
              "0  logistic_regression    0.622529   \n",
              "1                  Knn    0.501149   \n",
              "2                  svm    0.615862   \n",
              "3          Naive_Bayes    0.481149   \n",
              "4        Decision_tree    0.479770   \n",
              "5        random_forest    0.493333   \n",
              "\n",
              "                                         best_params  \n",
              "0       {'C': 20, 'penalty': 'l1', 'solver': 'saga'}  \n",
              "1  {'algorithm': 'auto', 'n_neighbors': 50, 'weig...  \n",
              "2                      {'C': 10, 'kernel': 'linear'}  \n",
              "3                           {'var_smoothing': 1e-09}  \n",
              "4          {'criterion': 'log_loss', 'max_depth': 3}  \n",
              "5        {'criterion': 'entropy', 'n_estimators': 5}  "
            ],
            "text/html": [
              "\n",
              "  <div id=\"df-9e7477eb-7257-4994-9a11-a916628c315f\">\n",
              "    <div class=\"colab-df-container\">\n",
              "      <div>\n",
              "<style scoped>\n",
              "    .dataframe tbody tr th:only-of-type {\n",
              "        vertical-align: middle;\n",
              "    }\n",
              "\n",
              "    .dataframe tbody tr th {\n",
              "        vertical-align: top;\n",
              "    }\n",
              "\n",
              "    .dataframe thead th {\n",
              "        text-align: right;\n",
              "    }\n",
              "</style>\n",
              "<table border=\"1\" class=\"dataframe\">\n",
              "  <thead>\n",
              "    <tr style=\"text-align: right;\">\n",
              "      <th></th>\n",
              "      <th>model</th>\n",
              "      <th>best_score</th>\n",
              "      <th>best_params</th>\n",
              "    </tr>\n",
              "  </thead>\n",
              "  <tbody>\n",
              "    <tr>\n",
              "      <th>0</th>\n",
              "      <td>logistic_regression</td>\n",
              "      <td>0.622529</td>\n",
              "      <td>{'C': 20, 'penalty': 'l1', 'solver': 'saga'}</td>\n",
              "    </tr>\n",
              "    <tr>\n",
              "      <th>1</th>\n",
              "      <td>Knn</td>\n",
              "      <td>0.501149</td>\n",
              "      <td>{'algorithm': 'auto', 'n_neighbors': 50, 'weig...</td>\n",
              "    </tr>\n",
              "    <tr>\n",
              "      <th>2</th>\n",
              "      <td>svm</td>\n",
              "      <td>0.615862</td>\n",
              "      <td>{'C': 10, 'kernel': 'linear'}</td>\n",
              "    </tr>\n",
              "    <tr>\n",
              "      <th>3</th>\n",
              "      <td>Naive_Bayes</td>\n",
              "      <td>0.481149</td>\n",
              "      <td>{'var_smoothing': 1e-09}</td>\n",
              "    </tr>\n",
              "    <tr>\n",
              "      <th>4</th>\n",
              "      <td>Decision_tree</td>\n",
              "      <td>0.479770</td>\n",
              "      <td>{'criterion': 'log_loss', 'max_depth': 3}</td>\n",
              "    </tr>\n",
              "    <tr>\n",
              "      <th>5</th>\n",
              "      <td>random_forest</td>\n",
              "      <td>0.493333</td>\n",
              "      <td>{'criterion': 'entropy', 'n_estimators': 5}</td>\n",
              "    </tr>\n",
              "  </tbody>\n",
              "</table>\n",
              "</div>\n",
              "      <button class=\"colab-df-convert\" onclick=\"convertToInteractive('df-9e7477eb-7257-4994-9a11-a916628c315f')\"\n",
              "              title=\"Convert this dataframe to an interactive table.\"\n",
              "              style=\"display:none;\">\n",
              "        \n",
              "  <svg xmlns=\"http://www.w3.org/2000/svg\" height=\"24px\"viewBox=\"0 0 24 24\"\n",
              "       width=\"24px\">\n",
              "    <path d=\"M0 0h24v24H0V0z\" fill=\"none\"/>\n",
              "    <path d=\"M18.56 5.44l.94 2.06.94-2.06 2.06-.94-2.06-.94-.94-2.06-.94 2.06-2.06.94zm-11 1L8.5 8.5l.94-2.06 2.06-.94-2.06-.94L8.5 2.5l-.94 2.06-2.06.94zm10 10l.94 2.06.94-2.06 2.06-.94-2.06-.94-.94-2.06-.94 2.06-2.06.94z\"/><path d=\"M17.41 7.96l-1.37-1.37c-.4-.4-.92-.59-1.43-.59-.52 0-1.04.2-1.43.59L10.3 9.45l-7.72 7.72c-.78.78-.78 2.05 0 2.83L4 21.41c.39.39.9.59 1.41.59.51 0 1.02-.2 1.41-.59l7.78-7.78 2.81-2.81c.8-.78.8-2.07 0-2.86zM5.41 20L4 18.59l7.72-7.72 1.47 1.35L5.41 20z\"/>\n",
              "  </svg>\n",
              "      </button>\n",
              "      \n",
              "  <style>\n",
              "    .colab-df-container {\n",
              "      display:flex;\n",
              "      flex-wrap:wrap;\n",
              "      gap: 12px;\n",
              "    }\n",
              "\n",
              "    .colab-df-convert {\n",
              "      background-color: #E8F0FE;\n",
              "      border: none;\n",
              "      border-radius: 50%;\n",
              "      cursor: pointer;\n",
              "      display: none;\n",
              "      fill: #1967D2;\n",
              "      height: 32px;\n",
              "      padding: 0 0 0 0;\n",
              "      width: 32px;\n",
              "    }\n",
              "\n",
              "    .colab-df-convert:hover {\n",
              "      background-color: #E2EBFA;\n",
              "      box-shadow: 0px 1px 2px rgba(60, 64, 67, 0.3), 0px 1px 3px 1px rgba(60, 64, 67, 0.15);\n",
              "      fill: #174EA6;\n",
              "    }\n",
              "\n",
              "    [theme=dark] .colab-df-convert {\n",
              "      background-color: #3B4455;\n",
              "      fill: #D2E3FC;\n",
              "    }\n",
              "\n",
              "    [theme=dark] .colab-df-convert:hover {\n",
              "      background-color: #434B5C;\n",
              "      box-shadow: 0px 1px 3px 1px rgba(0, 0, 0, 0.15);\n",
              "      filter: drop-shadow(0px 1px 2px rgba(0, 0, 0, 0.3));\n",
              "      fill: #FFFFFF;\n",
              "    }\n",
              "  </style>\n",
              "\n",
              "      <script>\n",
              "        const buttonEl =\n",
              "          document.querySelector('#df-9e7477eb-7257-4994-9a11-a916628c315f button.colab-df-convert');\n",
              "        buttonEl.style.display =\n",
              "          google.colab.kernel.accessAllowed ? 'block' : 'none';\n",
              "\n",
              "        async function convertToInteractive(key) {\n",
              "          const element = document.querySelector('#df-9e7477eb-7257-4994-9a11-a916628c315f');\n",
              "          const dataTable =\n",
              "            await google.colab.kernel.invokeFunction('convertToInteractive',\n",
              "                                                     [key], {});\n",
              "          if (!dataTable) return;\n",
              "\n",
              "          const docLinkHtml = 'Like what you see? Visit the ' +\n",
              "            '<a target=\"_blank\" href=https://colab.research.google.com/notebooks/data_table.ipynb>data table notebook</a>'\n",
              "            + ' to learn more about interactive tables.';\n",
              "          element.innerHTML = '';\n",
              "          dataTable['output_type'] = 'display_data';\n",
              "          await google.colab.output.renderOutput(dataTable, element);\n",
              "          const docLink = document.createElement('div');\n",
              "          docLink.innerHTML = docLinkHtml;\n",
              "          element.appendChild(docLink);\n",
              "        }\n",
              "      </script>\n",
              "    </div>\n",
              "  </div>\n",
              "  "
            ]
          },
          "metadata": {},
          "execution_count": 810
        }
      ],
      "source": [
        "target = dataAP_cat[\"Masa_VAT_cat\"]\n",
        "data_target = dataAP_cat.copy()\n",
        "data_target = data_target.drop(\"Masa_VAT_cat\", axis=1)\n",
        "from sklearn.model_selection import GridSearchCV\n",
        "\n",
        "import warnings\n",
        "warnings.filterwarnings(\"ignore\") \n",
        "\n",
        "scores = []\n",
        "\n",
        "#The following for loop is doing nothing but going throught the dictionary previously defined and for each of the value in the dictionary it will apply the GridSearchCV\n",
        "for model_name, mp in model_params.items():\n",
        "    clf =  GridSearchCV(mp['model'], mp['params'], cv=5, return_train_score=False)\n",
        "    clf.fit(data_target, target)\n",
        "    scores.append({\n",
        "        'model': model_name,\n",
        "        'best_score': clf.best_score_,\n",
        "        'best_params': clf.best_params_\n",
        "    })\n",
        "    \n",
        "df = pd.DataFrame(scores,columns=['model','best_score','best_params'])\n",
        "df"
      ]
    },
    {
      "cell_type": "markdown",
      "metadata": {
        "id": "3_a5kaneBf-Q"
      },
      "source": [
        "The best results are from the following models:\n",
        "- Logistic regression classifier \n",
        "- Support Vector machine classifier\n",
        "- Knn classifier\n",
        "\n",
        "To choose one of these models first we have to validate them."
      ]
    },
    {
      "cell_type": "code",
      "execution_count": 811,
      "metadata": {
        "id": "QmFKpZJtDyZF"
      },
      "outputs": [],
      "source": [
        "#FIRST\n",
        "#We divide the data between train and testing data:\n",
        "\n",
        "from sklearn import datasets, linear_model\n",
        "\n",
        "#Separating the target variables (Masa_VAT_g and Vol_VAT) from the independent features\n",
        "target = [\"Masa_VAT_cat\"]\n",
        "X = dataAP_cat.drop(target, axis=1).values\n",
        "y = dataAP_cat[target].values\t\n",
        "\n",
        "from sklearn.model_selection import train_test_split\n",
        "\n",
        "# Splitting the data into training and testing data\n",
        "X_train, X_test, y_train, y_test = train_test_split(X, y, test_size=0.2, random_state=42)"
      ]
    },
    {
      "cell_type": "markdown",
      "metadata": {
        "id": "ttovrX9Gf6Dj"
      },
      "source": [
        "AUTOMATIC WAY TO MEASURE ACCURACIES:"
      ]
    },
    {
      "cell_type": "code",
      "execution_count": 812,
      "metadata": {
        "colab": {
          "base_uri": "https://localhost:8080/",
          "height": 213
        },
        "id": "A8GNxRykX8fV",
        "outputId": "a2576439-a9f1-405e-af14-2a8e659f97b6"
      },
      "outputs": [
        {
          "output_type": "stream",
          "name": "stdout",
          "text": [
            "                                               model  Accuracy\n",
            "0  LogisticRegression(C=20, penalty='l1', solver=...  0.600000\n",
            "1           SVC(C=10, gamma='auto', kernel='linear')  0.600000\n",
            "2               KNeighborsClassifier(n_neighbors=50)  0.533333\n"
          ]
        },
        {
          "output_type": "execute_result",
          "data": {
            "text/plain": [
              "                                               model  Accuracy\n",
              "0  LogisticRegression(C=20, penalty='l1', solver=...  0.600000\n",
              "1           SVC(C=10, gamma='auto', kernel='linear')  0.600000\n",
              "2               KNeighborsClassifier(n_neighbors=50)  0.533333"
            ],
            "text/html": [
              "\n",
              "  <div id=\"df-69dd6d86-4af8-401f-9af9-481c428ce5d1\">\n",
              "    <div class=\"colab-df-container\">\n",
              "      <div>\n",
              "<style scoped>\n",
              "    .dataframe tbody tr th:only-of-type {\n",
              "        vertical-align: middle;\n",
              "    }\n",
              "\n",
              "    .dataframe tbody tr th {\n",
              "        vertical-align: top;\n",
              "    }\n",
              "\n",
              "    .dataframe thead th {\n",
              "        text-align: right;\n",
              "    }\n",
              "</style>\n",
              "<table border=\"1\" class=\"dataframe\">\n",
              "  <thead>\n",
              "    <tr style=\"text-align: right;\">\n",
              "      <th></th>\n",
              "      <th>model</th>\n",
              "      <th>Accuracy</th>\n",
              "    </tr>\n",
              "  </thead>\n",
              "  <tbody>\n",
              "    <tr>\n",
              "      <th>0</th>\n",
              "      <td>LogisticRegression(C=20, penalty='l1', solver=...</td>\n",
              "      <td>0.600000</td>\n",
              "    </tr>\n",
              "    <tr>\n",
              "      <th>1</th>\n",
              "      <td>SVC(C=10, gamma='auto', kernel='linear')</td>\n",
              "      <td>0.600000</td>\n",
              "    </tr>\n",
              "    <tr>\n",
              "      <th>2</th>\n",
              "      <td>KNeighborsClassifier(n_neighbors=50)</td>\n",
              "      <td>0.533333</td>\n",
              "    </tr>\n",
              "  </tbody>\n",
              "</table>\n",
              "</div>\n",
              "      <button class=\"colab-df-convert\" onclick=\"convertToInteractive('df-69dd6d86-4af8-401f-9af9-481c428ce5d1')\"\n",
              "              title=\"Convert this dataframe to an interactive table.\"\n",
              "              style=\"display:none;\">\n",
              "        \n",
              "  <svg xmlns=\"http://www.w3.org/2000/svg\" height=\"24px\"viewBox=\"0 0 24 24\"\n",
              "       width=\"24px\">\n",
              "    <path d=\"M0 0h24v24H0V0z\" fill=\"none\"/>\n",
              "    <path d=\"M18.56 5.44l.94 2.06.94-2.06 2.06-.94-2.06-.94-.94-2.06-.94 2.06-2.06.94zm-11 1L8.5 8.5l.94-2.06 2.06-.94-2.06-.94L8.5 2.5l-.94 2.06-2.06.94zm10 10l.94 2.06.94-2.06 2.06-.94-2.06-.94-.94-2.06-.94 2.06-2.06.94z\"/><path d=\"M17.41 7.96l-1.37-1.37c-.4-.4-.92-.59-1.43-.59-.52 0-1.04.2-1.43.59L10.3 9.45l-7.72 7.72c-.78.78-.78 2.05 0 2.83L4 21.41c.39.39.9.59 1.41.59.51 0 1.02-.2 1.41-.59l7.78-7.78 2.81-2.81c.8-.78.8-2.07 0-2.86zM5.41 20L4 18.59l7.72-7.72 1.47 1.35L5.41 20z\"/>\n",
              "  </svg>\n",
              "      </button>\n",
              "      \n",
              "  <style>\n",
              "    .colab-df-container {\n",
              "      display:flex;\n",
              "      flex-wrap:wrap;\n",
              "      gap: 12px;\n",
              "    }\n",
              "\n",
              "    .colab-df-convert {\n",
              "      background-color: #E8F0FE;\n",
              "      border: none;\n",
              "      border-radius: 50%;\n",
              "      cursor: pointer;\n",
              "      display: none;\n",
              "      fill: #1967D2;\n",
              "      height: 32px;\n",
              "      padding: 0 0 0 0;\n",
              "      width: 32px;\n",
              "    }\n",
              "\n",
              "    .colab-df-convert:hover {\n",
              "      background-color: #E2EBFA;\n",
              "      box-shadow: 0px 1px 2px rgba(60, 64, 67, 0.3), 0px 1px 3px 1px rgba(60, 64, 67, 0.15);\n",
              "      fill: #174EA6;\n",
              "    }\n",
              "\n",
              "    [theme=dark] .colab-df-convert {\n",
              "      background-color: #3B4455;\n",
              "      fill: #D2E3FC;\n",
              "    }\n",
              "\n",
              "    [theme=dark] .colab-df-convert:hover {\n",
              "      background-color: #434B5C;\n",
              "      box-shadow: 0px 1px 3px 1px rgba(0, 0, 0, 0.15);\n",
              "      filter: drop-shadow(0px 1px 2px rgba(0, 0, 0, 0.3));\n",
              "      fill: #FFFFFF;\n",
              "    }\n",
              "  </style>\n",
              "\n",
              "      <script>\n",
              "        const buttonEl =\n",
              "          document.querySelector('#df-69dd6d86-4af8-401f-9af9-481c428ce5d1 button.colab-df-convert');\n",
              "        buttonEl.style.display =\n",
              "          google.colab.kernel.accessAllowed ? 'block' : 'none';\n",
              "\n",
              "        async function convertToInteractive(key) {\n",
              "          const element = document.querySelector('#df-69dd6d86-4af8-401f-9af9-481c428ce5d1');\n",
              "          const dataTable =\n",
              "            await google.colab.kernel.invokeFunction('convertToInteractive',\n",
              "                                                     [key], {});\n",
              "          if (!dataTable) return;\n",
              "\n",
              "          const docLinkHtml = 'Like what you see? Visit the ' +\n",
              "            '<a target=\"_blank\" href=https://colab.research.google.com/notebooks/data_table.ipynb>data table notebook</a>'\n",
              "            + ' to learn more about interactive tables.';\n",
              "          element.innerHTML = '';\n",
              "          dataTable['output_type'] = 'display_data';\n",
              "          await google.colab.output.renderOutput(dataTable, element);\n",
              "          const docLink = document.createElement('div');\n",
              "          docLink.innerHTML = docLinkHtml;\n",
              "          element.appendChild(docLink);\n",
              "        }\n",
              "      </script>\n",
              "    </div>\n",
              "  </div>\n",
              "  "
            ]
          },
          "metadata": {},
          "execution_count": 812
        }
      ],
      "source": [
        "#BEST MODELS ACCURACY\n",
        "import warnings\n",
        "warnings.filterwarnings(\"ignore\") \n",
        "\n",
        "#Accuracy score of decision tree classifier, we import accuracy_score from sklearn\n",
        "from sklearn.metrics import accuracy_score\n",
        "\n",
        "# Defining the models with the best parameters found with Grid Search.\n",
        "LR = LogisticRegression(solver='saga', C=20, penalty='l1')\n",
        "SVM = svm.SVC(gamma='auto', C=10, kernel='linear')\n",
        "KNN = KNeighborsClassifier(algorithm='auto', n_neighbors=50, weights='uniform')\n",
        "\n",
        "models = [LR, SVM, KNN]\n",
        "accuracy = {'model': [], 'Accuracy': []}\n",
        "df = pd.DataFrame(accuracy)\n",
        "\n",
        "for model in models:\n",
        "  clf = model.fit(X_train, y_train)\n",
        "  yhat_test = clf.predict(X_test)\n",
        "  acc = accuracy_score(y_test, yhat_test)\n",
        "  df = df.append({'model': str(model), 'Accuracy': acc}, ignore_index=True)\n",
        "\n",
        "print(df)\n",
        "df"
      ]
    },
    {
      "cell_type": "markdown",
      "metadata": {
        "id": "uJ3nEKFWKWYr"
      },
      "source": [
        "As we can see LR and SVM have similar accuracies."
      ]
    },
    {
      "cell_type": "markdown",
      "metadata": {
        "id": "6Af5uFXLFk2R"
      },
      "source": [
        "###Logistic regression"
      ]
    },
    {
      "cell_type": "markdown",
      "metadata": {
        "id": "Q9gpmY9ISUkB"
      },
      "source": [
        "We define the model:"
      ]
    },
    {
      "cell_type": "code",
      "execution_count": 813,
      "metadata": {
        "id": "NchuG-AIFpCq"
      },
      "outputs": [],
      "source": [
        "#FIRST\n",
        "#We divide the data between train and testing data:\n",
        "\n",
        "from sklearn.feature_selection import SelectFwe, chi2\n",
        "from sklearn import datasets, linear_model\n",
        "from sklearn.feature_selection import SelectPercentile, chi2\n",
        "\n",
        "#Separating the target variables (Masa_VAT_g and Vol_VAT) from the independent features\n",
        "target = [\"Masa_VAT_cat\"]\n",
        "X = dataAP_cat.drop(target, axis=1).values\n",
        "y = dataAP_cat[target].values\t\n",
        "\n",
        "from sklearn.model_selection import train_test_split\n",
        "\n",
        "# Splitting the data into training and testing data\n",
        "X_train, X_test, y_train, y_test = train_test_split(X, y, test_size=0.2, random_state=42)\n",
        "\n",
        "clf = LogisticRegression(solver='saga', C=20, penalty='l1')\n",
        "#RandomForestClassifier(SelectFwe(SelectPercentile(\"input_matrix\", percentile=73), alpha=0.025), bootstrap=True, criterion=\"entropy\", max_features=0.3, min_samples_leaf=4, min_samples_split=17, n_estimators=100)\n",
        "# \n",
        "clf = clf.fit(X_train,y_train.ravel())"
      ]
    },
    {
      "cell_type": "markdown",
      "metadata": {
        "id": "qhUCHNzHOnlr"
      },
      "source": [
        "##### **Mean ROC curve**"
      ]
    },
    {
      "cell_type": "code",
      "execution_count": 814,
      "metadata": {
        "colab": {
          "base_uri": "https://localhost:8080/",
          "height": 750
        },
        "id": "qnKQkDVnOnlr",
        "outputId": "b4ccdd95-76cf-46c1-c27c-cb071fabd878"
      },
      "outputs": [
        {
          "output_type": "stream",
          "name": "stdout",
          "text": [
            "Looking in indexes: https://pypi.org/simple, https://us-python.pkg.dev/colab-wheels/public/simple/\n",
            "Requirement already satisfied: roc_utils in /usr/local/lib/python3.10/dist-packages (0.2.2)\n",
            "Requirement already satisfied: numpy in /usr/local/lib/python3.10/dist-packages (from roc_utils) (1.22.4)\n",
            "Requirement already satisfied: scipy in /usr/local/lib/python3.10/dist-packages (from roc_utils) (1.10.1)\n",
            "Requirement already satisfied: pandas in /usr/local/lib/python3.10/dist-packages (from roc_utils) (1.5.3)\n",
            "Requirement already satisfied: matplotlib in /usr/local/lib/python3.10/dist-packages (from roc_utils) (3.7.1)\n",
            "Requirement already satisfied: contourpy>=1.0.1 in /usr/local/lib/python3.10/dist-packages (from matplotlib->roc_utils) (1.0.7)\n",
            "Requirement already satisfied: cycler>=0.10 in /usr/local/lib/python3.10/dist-packages (from matplotlib->roc_utils) (0.11.0)\n",
            "Requirement already satisfied: fonttools>=4.22.0 in /usr/local/lib/python3.10/dist-packages (from matplotlib->roc_utils) (4.39.3)\n",
            "Requirement already satisfied: kiwisolver>=1.0.1 in /usr/local/lib/python3.10/dist-packages (from matplotlib->roc_utils) (1.4.4)\n",
            "Requirement already satisfied: packaging>=20.0 in /usr/local/lib/python3.10/dist-packages (from matplotlib->roc_utils) (23.1)\n",
            "Requirement already satisfied: pillow>=6.2.0 in /usr/local/lib/python3.10/dist-packages (from matplotlib->roc_utils) (8.4.0)\n",
            "Requirement already satisfied: pyparsing>=2.3.1 in /usr/local/lib/python3.10/dist-packages (from matplotlib->roc_utils) (3.0.9)\n",
            "Requirement already satisfied: python-dateutil>=2.7 in /usr/local/lib/python3.10/dist-packages (from matplotlib->roc_utils) (2.8.2)\n",
            "Requirement already satisfied: pytz>=2020.1 in /usr/local/lib/python3.10/dist-packages (from pandas->roc_utils) (2022.7.1)\n",
            "Requirement already satisfied: six>=1.5 in /usr/local/lib/python3.10/dist-packages (from python-dateutil>=2.7->matplotlib->roc_utils) (1.16.0)\n"
          ]
        },
        {
          "output_type": "display_data",
          "data": {
            "text/plain": [
              "<Figure size 640x480 with 1 Axes>"
            ],
            "image/png": "[encoded data removed]"
          },
          "metadata": {}
        }
      ],
      "source": [
        "from sklearn import preprocessing\n",
        "from sklearn.pipeline import make_pipeline\n",
        "from sklearn.metrics import precision_score, accuracy_score, recall_score\n",
        "from sklearn.utils import resample\n",
        "!pip3 install roc_utils\n",
        "import roc_utils as ru\n",
        "import warnings\n",
        "warnings.filterwarnings(\"ignore\") \n",
        "\n",
        "# Generating 100 models and predicting 100 test sets using bootstrapping:\n",
        "rocs = []\n",
        "n_iterations = 100\n",
        "for i in range(n_iterations):\n",
        "    # Train test split\n",
        "    X_train, X_test, y_train, y_test = train_test_split(X,y, test_size=0.2, stratify = y, random_state=i)\n",
        "\n",
        "    # Scaling the data\n",
        "    scaler = preprocessing.StandardScaler()\n",
        "    X_train_scaled = scaler.fit_transform(X_train)\n",
        "    X_test_scaled = scaler.transform(X_test)\n",
        "\n",
        "    # Resampling\n",
        "    Xtr_bs, ytr_bs = resample(X_train_scaled, y_train, replace=True, random_state=i) \n",
        "    Xts_bs, yts_bs = resample(X_test_scaled, y_test, replace=True, random_state=i) \n",
        "    \n",
        "    # Asjusting the model to a training dataset\n",
        "    model = LogisticRegression(solver='saga', C=20, penalty='l1')\n",
        "    model.fit(Xtr_bs, ytr_bs) \n",
        "    \n",
        "    # Predictions\n",
        "    y_hat = model.predict(Xts_bs)\n",
        "    \n",
        "    # Model evaluation ROC plots\n",
        "    y_prob = model.predict_proba(Xts_bs)\n",
        "    roc = ru.compute_roc(X=y_prob[:,1], y=yts_bs, pos_label=True)\n",
        "    rocs.append(roc)\n",
        "       \n",
        "\n",
        "ru.plot_mean_roc(rocs, show_ci=True)\n",
        "plt.title(\"Average ROC curve\");"
      ]
    },
    {
      "cell_type": "markdown",
      "metadata": {
        "id": "xp60zCo4Onlr"
      },
      "source": [
        "#####Confusion matrix"
      ]
    },
    {
      "cell_type": "code",
      "execution_count": 815,
      "metadata": {
        "colab": {
          "base_uri": "https://localhost:8080/",
          "height": 562
        },
        "id": "YoaAmTeBOnlr",
        "outputId": "a81d79f3-7127-40e2-b5ef-2c71525ffe91"
      },
      "outputs": [
        {
          "output_type": "execute_result",
          "data": {
            "text/plain": [
              "Text(0.5, 427.9555555555555, 'Predicted label')"
            ]
          },
          "metadata": {},
          "execution_count": 815
        },
        {
          "output_type": "display_data",
          "data": {
            "text/plain": [
              "<Figure size 640x480 with 2 Axes>"
            ],
            "image/png": "[encoded data removed]"
          },
          "metadata": {}
        }
      ],
      "source": [
        "#Testing Logistic regression\n",
        "Lregr = LogisticRegression(solver='saga', C=20, penalty='l1')\n",
        "\n",
        "# fit the model with data\n",
        "Lregr.fit(X_train, y_train)\n",
        "y_pred = Lregr.predict(X_test)\n",
        "\n",
        "# import the metrics class\n",
        "from sklearn import metrics\n",
        "cnf_matrix = metrics.confusion_matrix(y_test, y_pred)\n",
        "cnf_matrix\n",
        "\n",
        "# import required modules\n",
        "import numpy as np\n",
        "import matplotlib.pyplot as plt\n",
        "import seaborn as sns\n",
        "import warnings\n",
        "warnings.filterwarnings(\"ignore\") \n",
        "\n",
        "class_names=[0,1] # name  of classes\n",
        "fig, ax = plt.subplots()\n",
        "tick_marks = np.arange(len(class_names))\n",
        "plt.xticks(tick_marks, class_names)\n",
        "plt.yticks(tick_marks, class_names)\n",
        "# create heatmap\n",
        "sns.heatmap(pd.DataFrame(cnf_matrix), annot=True, cmap=\"YlGnBu\" ,fmt='g')\n",
        "ax.xaxis.set_label_position(\"top\")\n",
        "plt.tight_layout()\n",
        "plt.title('Confusion matrix', y=1.1)\n",
        "plt.ylabel('Actual label')\n",
        "plt.xlabel('Predicted label')"
      ]
    },
    {
      "cell_type": "markdown",
      "source": [
        "Training and testing error:"
      ],
      "metadata": {
        "id": "UJSeKY7wDwYz"
      }
    },
    {
      "cell_type": "code",
      "execution_count": 816,
      "metadata": {
        "colab": {
          "base_uri": "https://localhost:8080/"
        },
        "id": "4Gq3Vd1DOnls",
        "outputId": "37ec030c-52ef-4e65-f30c-d1ffe6fb394a"
      },
      "outputs": [
        {
          "output_type": "stream",
          "name": "stdout",
          "text": [
            "Training Error:  0.5847457627118644\n",
            "Testing Error:  0.5\n"
          ]
        }
      ],
      "source": [
        "model = LogisticRegression(solver='saga', C=20, penalty='l1')\n",
        "import warnings\n",
        "warnings.filterwarnings(\"ignore\") \n",
        "\n",
        "# create and train your model\n",
        "model.fit(X_train, y_train)\n",
        "\n",
        "# make predictions on the training set\n",
        "y_train_pred = model.predict(X_train)\n",
        "\n",
        "# calculate the mean squared error of the training set predictions\n",
        "from sklearn.metrics import mean_squared_error\n",
        "train_error = mean_squared_error(y_train, y_train_pred)\n",
        "\n",
        "# make predictions on the testing set\n",
        "y_test_pred = model.predict(X_test)\n",
        "\n",
        "# calculate the mean squared error of the testing set predictions\n",
        "test_error = mean_squared_error(y_test, y_test_pred)\n",
        "\n",
        "# print out the training and testing errors\n",
        "print(\"Training Error: \", train_error)\n",
        "print(\"Testing Error: \", test_error)"
      ]
    },
    {
      "cell_type": "markdown",
      "metadata": {
        "id": "splYBVpXcKqA"
      },
      "source": [
        "##### **Evaluation metrics using K-cross validation**"
      ]
    },
    {
      "cell_type": "markdown",
      "source": [
        "Next we have the evaluation metrics of one train-test split:"
      ],
      "metadata": {
        "id": "-7vYIG80Q98b"
      }
    },
    {
      "cell_type": "code",
      "execution_count": 817,
      "metadata": {
        "colab": {
          "base_uri": "https://localhost:8080/"
        },
        "id": "RzF2JspWc4HW",
        "outputId": "73082ff2-a618-4ff0-dd7f-0e1b654059a4"
      },
      "outputs": [
        {
          "output_type": "stream",
          "name": "stdout",
          "text": [
            "The evaluation metrics of LogisticRegression(C=20, penalty='l1', solver='saga') are:\n",
            "Accuracy: 0.6\n",
            "Precision: 0.6288515406162465\n",
            "Recall: 0.6151515151515151\n",
            "F1-score: 0.577991452991453\n"
          ]
        }
      ],
      "source": [
        "from sklearn.metrics import accuracy_score, precision_score, recall_score, f1_score\n",
        "import warnings\n",
        "warnings.filterwarnings(\"ignore\") \n",
        "\n",
        "#Separating the target variables (Masa_VAT_g and Vol_VAT) from the independent features\n",
        "target = [\"Masa_VAT_cat\"]\n",
        "X = dataAP_cat.drop(target, axis=1).values\n",
        "y = dataAP_cat[target].values\t\n",
        "\n",
        "from sklearn.model_selection import train_test_split\n",
        "\n",
        "# Splitting the data into training and testing data\n",
        "X_train, X_test, y_train, y_test = train_test_split(X, y, test_size=0.2, random_state=42)\n",
        "\n",
        "# Train your model\n",
        "model =LogisticRegression(solver='saga', C = 20, penalty = 'l1')\n",
        "model = model.fit(X_train,y_train)\n",
        "\n",
        "# Make predictions on the test data\n",
        "predicted_labels = model.predict(X_test)\n",
        "\n",
        "# EVALUATION METRICS\n",
        "\n",
        "# Calculate accuracy\n",
        "accuracy = accuracy_score(y_test, predicted_labels)\n",
        "\n",
        "# Calculate precision\n",
        "precision = precision_score(y_test, predicted_labels, average='macro')\n",
        "\n",
        "# Calculate recall\n",
        "recall = recall_score(y_test, predicted_labels, average='macro')\n",
        "\n",
        "# Calculate F1-score\n",
        "f1 = f1_score(y_test, predicted_labels, average='macro')\n",
        "\n",
        "# Print the evaluation metrics\n",
        "print(\"The evaluation metrics of\", model, \"are:\")\n",
        "print('Accuracy:', accuracy)\n",
        "print('Precision:', precision)\n",
        "print('Recall:', recall)\n",
        "print('F1-score:', f1)\n"
      ]
    },
    {
      "cell_type": "markdown",
      "source": [
        "**Here we have the evaluation metrics using k-cross validation**"
      ],
      "metadata": {
        "id": "cs2v_brsRED8"
      }
    },
    {
      "cell_type": "code",
      "source": [
        "from sklearn.metrics import accuracy_score, precision_score, recall_score, f1_score\n",
        "from sklearn.model_selection import cross_val_score\n",
        "from sklearn.model_selection import StratifiedKFold\n",
        "from sklearn.linear_model import LogisticRegression\n",
        "import warnings\n",
        "warnings.filterwarnings(\"ignore\") \n",
        "\n",
        "#Separating the target variables (Masa_VAT_g and Vol_VAT) from the independent features\n",
        "target = [\"Masa_VAT_cat\"]\n",
        "X = dataAP_cat.drop(target, axis=1).values\n",
        "y = dataAP_cat[target].values\t\n",
        "\n",
        "from sklearn.model_selection import train_test_split\n",
        "\n",
        "# Splitting the data into training and testing data\n",
        "X_train, X_test, y_train, y_test = train_test_split(X, y, test_size=0.2, random_state=42)\n",
        "\n",
        "# Train your model\n",
        "model =LogisticRegression(solver='saga', C = 20, penalty = 'l1')\n",
        "model = model.fit(X_train,y_train)\n",
        "\n",
        "# Initialize the k-fold cross-validation object\n",
        "k = 10  # Define the number of folds\n",
        "kf = StratifiedKFold(n_splits=k, shuffle=True, random_state=42)\n",
        "\n",
        "# Lists to store the evaluation metrics for each fold\n",
        "accuracy_scores = []\n",
        "precision_scores = []\n",
        "recall_scores = []\n",
        "f1_scores = []\n",
        "\n",
        "# Perform k-fold cross-validation\n",
        "for train_index, test_index in kf.split(X, y):\n",
        "    X_train, X_test = X[train_index], X[test_index]\n",
        "    y_train, y_test = y[train_index], y[test_index]\n",
        "\n",
        "    # Train the model\n",
        "    model.fit(X_train, y_train)\n",
        "\n",
        "    # Make predictions on the test data\n",
        "    predicted_labels = model.predict(X_test)\n",
        "\n",
        "    # Calculate evaluation metrics for the current fold\n",
        "    accuracy_scores.append(accuracy_score(y_test, predicted_labels))\n",
        "    precision_scores.append(precision_score(y_test, predicted_labels, average='macro'))\n",
        "    recall_scores.append(recall_score(y_test, predicted_labels, average='macro'))\n",
        "    f1_scores.append(f1_score(y_test, predicted_labels, average='macro'))\n",
        "\n",
        "# Print the average evaluation metrics\n",
        "print(\"The average evaluation metrics are:\")\n",
        "print('Accuracy:', sum(accuracy_scores) / k)\n",
        "print('Precision:', sum(precision_scores) / k)\n",
        "print('Recall:', sum(recall_scores) / k)\n",
        "print('F1-score:', sum(f1_scores) / k)"
      ],
      "metadata": {
        "colab": {
          "base_uri": "https://localhost:8080/"
        },
        "id": "61_DaACUMNky",
        "outputId": "b64394dc-162e-440a-b85a-999ff30d7ccb"
      },
      "execution_count": 818,
      "outputs": [
        {
          "output_type": "stream",
          "name": "stdout",
          "text": [
            "The average evaluation metrics are:\n",
            "Accuracy: 0.589047619047619\n",
            "Precision: 0.6232539682539683\n",
            "Recall: 0.5888888888888888\n",
            "F1-score: 0.5728319828319828\n"
          ]
        }
      ]
    },
    {
      "cell_type": "markdown",
      "metadata": {
        "id": "F_lIg5PX8V81"
      },
      "source": [
        "###Support Vector Machine"
      ]
    },
    {
      "cell_type": "markdown",
      "metadata": {
        "id": "3FEzC2xL8V81"
      },
      "source": [
        "We define the model:"
      ]
    },
    {
      "cell_type": "code",
      "execution_count": 819,
      "metadata": {
        "id": "Iest8rfh8V81"
      },
      "outputs": [],
      "source": [
        "#FIRST\n",
        "#We divide the data between train and testing data:\n",
        "\n",
        "from sklearn.feature_selection import SelectFwe, chi2\n",
        "from sklearn import datasets, linear_model\n",
        "from sklearn.feature_selection import SelectPercentile, chi2\n",
        "\n",
        "#Separating the target variables (Masa_VAT_g and Vol_VAT) from the independent features\n",
        "target = [\"Masa_VAT_cat\"]\n",
        "X = dataAP_cat.drop(target, axis=1).values\n",
        "y = dataAP_cat[target].values\t\n",
        "\n",
        "from sklearn.model_selection import train_test_split\n",
        "\n",
        "# Splitting the data into training and testing data\n",
        "X_train, X_test, y_train, y_test = train_test_split(X, y, test_size=0.2, random_state=42)\n",
        "\n",
        "clf = svm.SVC(gamma='auto', C=10, kernel='linear')\n",
        "clf = clf.fit(X_train,y_train.ravel())"
      ]
    },
    {
      "cell_type": "markdown",
      "metadata": {
        "id": "pjxtzxqr8V81"
      },
      "source": [
        "##### **Mean ROC curve**"
      ]
    },
    {
      "cell_type": "code",
      "source": [
        "from sklearn import preprocessing\n",
        "from sklearn.pipeline import make_pipeline\n",
        "from sklearn.metrics import precision_score, accuracy_score, recall_score\n",
        "from sklearn.utils import resample\n",
        "!pip3 install roc_utils\n",
        "import roc_utils as ru\n",
        "import warnings\n",
        "warnings.filterwarnings(\"ignore\") \n",
        "\n",
        "# Generating 100 models and predicting 100 test sets using bootstrapping:\n",
        "rocs = []\n",
        "n_iterations = 100\n",
        "for i in range(n_iterations):\n",
        "    # Train test split\n",
        "    X_train, X_test, y_train, y_test = train_test_split(X,y, test_size=0.2, stratify = y, random_state=i)\n",
        "\n",
        "    # Scaling the data\n",
        "    scaler = preprocessing.StandardScaler()\n",
        "    X_train_scaled = scaler.fit_transform(X_train)\n",
        "    X_test_scaled = scaler.transform(X_test)\n",
        "\n",
        "    # Resampling\n",
        "    Xtr_bs, ytr_bs = resample(X_train_scaled, y_train, replace=True, random_state=i) \n",
        "    Xts_bs, yts_bs = resample(X_test_scaled, y_test, replace=True, random_state=i) \n",
        "    \n",
        "    # Asjusting the model to a training dataset\n",
        "    model =  svm.SVC(gamma='auto', C=10, kernel='linear', probability =True)\n",
        "    model.fit(Xtr_bs, ytr_bs) \n",
        "    \n",
        "    # Predictions\n",
        "    y_hat = model.predict(Xts_bs)\n",
        "    \n",
        "    # Model evaluation ROC plots\n",
        "    y_prob = model.predict_proba(Xts_bs)\n",
        "    roc = ru.compute_roc(X=y_prob[:,1], y=yts_bs, pos_label=True)\n",
        "    rocs.append(roc)\n",
        "       \n",
        "\n",
        "ru.plot_mean_roc(rocs, show_ci=True)\n",
        "plt.title(\"Average ROC curve\");"
      ],
      "metadata": {
        "colab": {
          "base_uri": "https://localhost:8080/",
          "height": 750
        },
        "id": "I27o9fYm-Cwd",
        "outputId": "c1bfb537-aef3-4c81-e194-0379fa2b1648"
      },
      "execution_count": 820,
      "outputs": [
        {
          "output_type": "stream",
          "name": "stdout",
          "text": [
            "Looking in indexes: https://pypi.org/simple, https://us-python.pkg.dev/colab-wheels/public/simple/\n",
            "Requirement already satisfied: roc_utils in /usr/local/lib/python3.10/dist-packages (0.2.2)\n",
            "Requirement already satisfied: numpy in /usr/local/lib/python3.10/dist-packages (from roc_utils) (1.22.4)\n",
            "Requirement already satisfied: scipy in /usr/local/lib/python3.10/dist-packages (from roc_utils) (1.10.1)\n",
            "Requirement already satisfied: pandas in /usr/local/lib/python3.10/dist-packages (from roc_utils) (1.5.3)\n",
            "Requirement already satisfied: matplotlib in /usr/local/lib/python3.10/dist-packages (from roc_utils) (3.7.1)\n",
            "Requirement already satisfied: contourpy>=1.0.1 in /usr/local/lib/python3.10/dist-packages (from matplotlib->roc_utils) (1.0.7)\n",
            "Requirement already satisfied: cycler>=0.10 in /usr/local/lib/python3.10/dist-packages (from matplotlib->roc_utils) (0.11.0)\n",
            "Requirement already satisfied: fonttools>=4.22.0 in /usr/local/lib/python3.10/dist-packages (from matplotlib->roc_utils) (4.39.3)\n",
            "Requirement already satisfied: kiwisolver>=1.0.1 in /usr/local/lib/python3.10/dist-packages (from matplotlib->roc_utils) (1.4.4)\n",
            "Requirement already satisfied: packaging>=20.0 in /usr/local/lib/python3.10/dist-packages (from matplotlib->roc_utils) (23.1)\n",
            "Requirement already satisfied: pillow>=6.2.0 in /usr/local/lib/python3.10/dist-packages (from matplotlib->roc_utils) (8.4.0)\n",
            "Requirement already satisfied: pyparsing>=2.3.1 in /usr/local/lib/python3.10/dist-packages (from matplotlib->roc_utils) (3.0.9)\n",
            "Requirement already satisfied: python-dateutil>=2.7 in /usr/local/lib/python3.10/dist-packages (from matplotlib->roc_utils) (2.8.2)\n",
            "Requirement already satisfied: pytz>=2020.1 in /usr/local/lib/python3.10/dist-packages (from pandas->roc_utils) (2022.7.1)\n",
            "Requirement already satisfied: six>=1.5 in /usr/local/lib/python3.10/dist-packages (from python-dateutil>=2.7->matplotlib->roc_utils) (1.16.0)\n"
          ]
        },
        {
          "output_type": "display_data",
          "data": {
            "text/plain": [
              "<Figure size 640x480 with 1 Axes>"
            ],
            "image/png": "[encoded data removed]"
          },
          "metadata": {}
        }
      ]
    },
    {
      "cell_type": "markdown",
      "metadata": {
        "id": "5yVvEBuG8V82"
      },
      "source": [
        "#####Confusion matrix"
      ]
    },
    {
      "cell_type": "code",
      "execution_count": 821,
      "metadata": {
        "id": "65QyxOsx8V82",
        "colab": {
          "base_uri": "https://localhost:8080/",
          "height": 562
        },
        "outputId": "28c5d3d4-6856-469e-d6c8-f7435703402c"
      },
      "outputs": [
        {
          "output_type": "execute_result",
          "data": {
            "text/plain": [
              "Text(0.5, 427.9555555555555, 'Predicted label')"
            ]
          },
          "metadata": {},
          "execution_count": 821
        },
        {
          "output_type": "display_data",
          "data": {
            "text/plain": [
              "<Figure size 640x480 with 2 Axes>"
            ],
            "image/png": "[encoded data removed]"
          },
          "metadata": {}
        }
      ],
      "source": [
        "#Testing SVM\n",
        "model = svm.SVC(gamma='auto', C=10, kernel='linear')\n",
        "\n",
        "# fit the model with data\n",
        "model.fit(X_train, y_train)\n",
        "y_pred = model.predict(X_test)\n",
        "\n",
        "# import the metrics class\n",
        "from sklearn import metrics\n",
        "cnf_matrix = metrics.confusion_matrix(y_test, y_pred)\n",
        "cnf_matrix\n",
        "\n",
        "# import required modules\n",
        "import numpy as np\n",
        "import matplotlib.pyplot as plt\n",
        "import seaborn as sns\n",
        "import warnings\n",
        "warnings.filterwarnings(\"ignore\") \n",
        "\n",
        "class_names=[0,1] # name  of classes\n",
        "fig, ax = plt.subplots()\n",
        "tick_marks = np.arange(len(class_names))\n",
        "plt.xticks(tick_marks, class_names)\n",
        "plt.yticks(tick_marks, class_names)\n",
        "# create heatmap\n",
        "sns.heatmap(pd.DataFrame(cnf_matrix), annot=True, cmap=\"YlGnBu\" ,fmt='g')\n",
        "ax.xaxis.set_label_position(\"top\")\n",
        "plt.tight_layout()\n",
        "plt.title('Confusion matrix', y=1.1)\n",
        "plt.ylabel('Actual label')\n",
        "plt.xlabel('Predicted label')"
      ]
    },
    {
      "cell_type": "markdown",
      "metadata": {
        "id": "U2XoYKoF9ffs"
      },
      "source": [
        "This model seems to be good to not wrongly predict low values as high ones."
      ]
    },
    {
      "cell_type": "markdown",
      "source": [
        "Training and testing error:"
      ],
      "metadata": {
        "id": "Kkae9T9yD61U"
      }
    },
    {
      "cell_type": "code",
      "execution_count": 822,
      "metadata": {
        "id": "LgZ1jNQw8V82",
        "colab": {
          "base_uri": "https://localhost:8080/"
        },
        "outputId": "e27098ea-f01a-43fd-a2db-757526428989"
      },
      "outputs": [
        {
          "output_type": "stream",
          "name": "stdout",
          "text": [
            "Training Error:  0.5847457627118644\n",
            "Testing Error:  0.5\n"
          ]
        }
      ],
      "source": [
        "model = svm.SVC(gamma='auto', C=10, kernel='linear')\n",
        "import warnings\n",
        "warnings.filterwarnings(\"ignore\") \n",
        "\n",
        "# create and train your model\n",
        "\n",
        "model.fit(X_train, y_train)\n",
        "\n",
        "# make predictions on the training set\n",
        "y_train_pred = model.predict(X_train)\n",
        "\n",
        "# calculate the mean squared error of the training set predictions\n",
        "train_error = mean_squared_error(y_train, y_train_pred)\n",
        "\n",
        "# make predictions on the testing set\n",
        "y_test_pred = model.predict(X_test)\n",
        "\n",
        "# calculate the mean squared error of the testing set predictions\n",
        "test_error = mean_squared_error(y_test, y_test_pred)\n",
        "\n",
        "# print out the training and testing errors\n",
        "print(\"Training Error: \", train_error)\n",
        "print(\"Testing Error: \", test_error)"
      ]
    },
    {
      "cell_type": "markdown",
      "metadata": {
        "id": "_PSTvDKRRU1K"
      },
      "source": [
        "##### **Evaluation metrics using K-cross validation**"
      ]
    },
    {
      "cell_type": "markdown",
      "source": [
        "Next we have the evaluation metrics of one train-test split:"
      ],
      "metadata": {
        "id": "hRRx0kzIRU1Q"
      }
    },
    {
      "cell_type": "code",
      "execution_count": 823,
      "metadata": {
        "id": "5C8VeWxMRU1Q",
        "colab": {
          "base_uri": "https://localhost:8080/"
        },
        "outputId": "69e8686c-612f-401b-cd4b-42452cfb32fd"
      },
      "outputs": [
        {
          "output_type": "stream",
          "name": "stdout",
          "text": [
            "The evaluation metrics of SVC(C=10, gamma='auto', kernel='linear') are:\n",
            "Accuracy: 0.6\n",
            "Precision: 0.676470588235294\n",
            "Recall: 0.6181818181818182\n",
            "F1-score: 0.5872507122507122\n"
          ]
        }
      ],
      "source": [
        "from sklearn.metrics import accuracy_score, precision_score, recall_score, f1_score\n",
        "import warnings\n",
        "warnings.filterwarnings(\"ignore\") \n",
        "\n",
        "#Separating the target variables (Masa_VAT_g and Vol_VAT) from the independent features\n",
        "target = [\"Masa_VAT_cat\"]\n",
        "X = dataAP_cat.drop(target, axis=1).values\n",
        "y = dataAP_cat[target].values\t\n",
        "\n",
        "from sklearn.model_selection import train_test_split\n",
        "\n",
        "# Splitting the data into training and testing data\n",
        "X_train, X_test, y_train, y_test = train_test_split(X, y, test_size=0.2, random_state=42)\n",
        "\n",
        "# Train your model\n",
        "model = svm.SVC(gamma='auto', C=10, kernel='linear')\n",
        "model = model.fit(X_train,y_train)\n",
        "\n",
        "# Make predictions on the test data\n",
        "predicted_labels = model.predict(X_test)\n",
        "\n",
        "# EVALUATION METRICS\n",
        "\n",
        "# Calculate accuracy\n",
        "accuracy = accuracy_score(y_test, predicted_labels)\n",
        "\n",
        "# Calculate precision\n",
        "precision = precision_score(y_test, predicted_labels, average='macro')\n",
        "\n",
        "# Calculate recall\n",
        "recall = recall_score(y_test, predicted_labels, average='macro')\n",
        "\n",
        "# Calculate F1-score\n",
        "f1 = f1_score(y_test, predicted_labels, average='macro')\n",
        "\n",
        "# Print the evaluation metrics\n",
        "print(\"The evaluation metrics of\", model, \"are:\")\n",
        "print('Accuracy:', accuracy)\n",
        "print('Precision:', precision)\n",
        "print('Recall:', recall)\n",
        "print('F1-score:', f1)\n"
      ]
    },
    {
      "cell_type": "markdown",
      "source": [
        "**Here we have the evaluation metrics using k-cross validation**"
      ],
      "metadata": {
        "id": "D_bjqq5qRU1Q"
      }
    },
    {
      "cell_type": "code",
      "source": [
        "from sklearn.metrics import accuracy_score, precision_score, recall_score, f1_score\n",
        "from sklearn.model_selection import cross_val_score\n",
        "from sklearn.model_selection import StratifiedKFold\n",
        "from sklearn.linear_model import LogisticRegression\n",
        "import warnings\n",
        "warnings.filterwarnings(\"ignore\") \n",
        "\n",
        "#Separating the target variables (Masa_VAT_g and Vol_VAT) from the independent features\n",
        "target = [\"Masa_VAT_cat\"]\n",
        "X = dataAP_cat.drop(target, axis=1).values\n",
        "y = dataAP_cat[target].values\t\n",
        "\n",
        "from sklearn.model_selection import train_test_split\n",
        "\n",
        "# Splitting the data into training and testing data\n",
        "X_train, X_test, y_train, y_test = train_test_split(X, y, test_size=0.2, random_state=42)\n",
        "\n",
        "# Train your model\n",
        "model = svm.SVC(gamma='auto', C=10, kernel='linear')\n",
        "model = model.fit(X_train,y_train)\n",
        "\n",
        "# Initialize the k-fold cross-validation object\n",
        "k = 10  # Define the number of folds\n",
        "kf = StratifiedKFold(n_splits=k, shuffle=True, random_state=42)\n",
        "\n",
        "# Lists to store the evaluation metrics for each fold\n",
        "accuracy_scores = []\n",
        "precision_scores = []\n",
        "recall_scores = []\n",
        "f1_scores = []\n",
        "\n",
        "# Perform k-fold cross-validation\n",
        "for train_index, test_index in kf.split(X, y):\n",
        "    X_train, X_test = X[train_index], X[test_index]\n",
        "    y_train, y_test = y[train_index], y[test_index]\n",
        "\n",
        "    # Train the model\n",
        "    model.fit(X_train, y_train)\n",
        "\n",
        "    # Make predictions on the test data\n",
        "    predicted_labels = model.predict(X_test)\n",
        "\n",
        "    # Calculate evaluation metrics for the current fold\n",
        "    accuracy_scores.append(accuracy_score(y_test, predicted_labels))\n",
        "    precision_scores.append(precision_score(y_test, predicted_labels, average='macro'))\n",
        "    recall_scores.append(recall_score(y_test, predicted_labels, average='macro'))\n",
        "    f1_scores.append(f1_score(y_test, predicted_labels, average='macro'))\n",
        "\n",
        "# Print the average evaluation metrics\n",
        "print(\"The average evaluation metrics are:\")\n",
        "print('Accuracy:', sum(accuracy_scores) / k)\n",
        "print('Precision:', sum(precision_scores) / k)\n",
        "print('Recall:', sum(recall_scores) / k)\n",
        "print('F1-score:', sum(f1_scores) / k)"
      ],
      "metadata": {
        "id": "GLg1TzhZRU1R",
        "colab": {
          "base_uri": "https://localhost:8080/"
        },
        "outputId": "4e81549e-c5c2-480b-8623-51c10837dbbe"
      },
      "execution_count": 824,
      "outputs": [
        {
          "output_type": "stream",
          "name": "stdout",
          "text": [
            "The average evaluation metrics are:\n",
            "Accuracy: 0.549047619047619\n",
            "Precision: 0.5699206349206349\n",
            "Recall: 0.5488888888888888\n",
            "F1-score: 0.5319082769082769\n"
          ]
        }
      ]
    },
    {
      "cell_type": "markdown",
      "metadata": {
        "id": "wf0w6XbPBMKF"
      },
      "source": [
        "###K-nearest neighbors "
      ]
    },
    {
      "cell_type": "markdown",
      "metadata": {
        "id": "QfYZsy0QBMKK"
      },
      "source": [
        "We define the model:"
      ]
    },
    {
      "cell_type": "code",
      "execution_count": 825,
      "metadata": {
        "id": "yPphbkteBMKK"
      },
      "outputs": [],
      "source": [
        "#FIRST\n",
        "#We divide the data between train and testing data:\n",
        "\n",
        "from sklearn.feature_selection import SelectFwe, chi2\n",
        "from sklearn import datasets, linear_model\n",
        "from sklearn.feature_selection import SelectPercentile, chi2\n",
        "\n",
        "#Separating the target variables (Masa_VAT_g and Vol_VAT) from the independent features\n",
        "target = [\"Masa_VAT_cat\"]\n",
        "X = dataAP_cat.drop(target, axis=1).values\n",
        "y = dataAP_cat[target].values\t\n",
        "\n",
        "from sklearn.model_selection import train_test_split\n",
        "\n",
        "# Splitting the data into training and testing data\n",
        "X_train, X_test, y_train, y_test = train_test_split(X, y, test_size=0.2, random_state=42)\n",
        "\n",
        "clf =  KNeighborsClassifier(algorithm='auto', n_neighbors=50, weights='uniform')\n",
        "#RandomForestClassifier(SelectFwe(SelectPercentile(\"input_matrix\", percentile=73), alpha=0.025), bootstrap=True, criterion=\"entropy\", max_features=0.3, min_samples_leaf=4, min_samples_split=17, n_estimators=100)\n",
        "# \n",
        "clf = clf.fit(X_train,y_train.ravel())"
      ]
    },
    {
      "cell_type": "markdown",
      "metadata": {
        "id": "sgzVKgH9BMKK"
      },
      "source": [
        "##### **Mean ROC curve**"
      ]
    },
    {
      "cell_type": "code",
      "source": [
        "from sklearn import preprocessing\n",
        "from sklearn.pipeline import make_pipeline\n",
        "from sklearn.metrics import precision_score, accuracy_score, recall_score\n",
        "from sklearn.utils import resample\n",
        "!pip3 install roc_utils\n",
        "import roc_utils as ru\n",
        "import warnings\n",
        "warnings.filterwarnings(\"ignore\") \n",
        "\n",
        "# Generating 100 models and predicting 100 test sets using bootstrapping:\n",
        "rocs = []\n",
        "n_iterations = 100\n",
        "for i in range(n_iterations):\n",
        "    # Train test split\n",
        "    X_train, X_test, y_train, y_test = train_test_split(X,y, test_size=0.2, stratify = y, random_state=i)\n",
        "\n",
        "    # Scaling the data\n",
        "    scaler = preprocessing.StandardScaler()\n",
        "    X_train_scaled = scaler.fit_transform(X_train)\n",
        "    X_test_scaled = scaler.transform(X_test)\n",
        "\n",
        "    # Resampling\n",
        "    Xtr_bs, ytr_bs = resample(X_train_scaled, y_train, replace=True, random_state=i) \n",
        "    Xts_bs, yts_bs = resample(X_test_scaled, y_test, replace=True, random_state=i) \n",
        "    \n",
        "    # Asjusting the model to a training dataset\n",
        "    model = KNeighborsClassifier(algorithm='auto', n_neighbors=50, weights='uniform')\n",
        "    model.fit(Xtr_bs, ytr_bs) \n",
        "    \n",
        "    # Predictions\n",
        "    y_hat = model.predict(Xts_bs)\n",
        "    \n",
        "    # Model evaluation ROC plots\n",
        "    y_prob = model.predict_proba(Xts_bs)\n",
        "    roc = ru.compute_roc(X=y_prob[:,1], y=yts_bs, pos_label=True)\n",
        "    rocs.append(roc)\n",
        "       \n",
        "\n",
        "ru.plot_mean_roc(rocs, show_ci=True)\n",
        "plt.title(\"Average ROC curve\");"
      ],
      "metadata": {
        "id": "EMG8gUlA_JSf",
        "colab": {
          "base_uri": "https://localhost:8080/",
          "height": 750
        },
        "outputId": "17bfbe1f-68e4-474a-c946-0e788ee221e6"
      },
      "execution_count": 826,
      "outputs": [
        {
          "output_type": "stream",
          "name": "stdout",
          "text": [
            "Looking in indexes: https://pypi.org/simple, https://us-python.pkg.dev/colab-wheels/public/simple/\n",
            "Requirement already satisfied: roc_utils in /usr/local/lib/python3.10/dist-packages (0.2.2)\n",
            "Requirement already satisfied: numpy in /usr/local/lib/python3.10/dist-packages (from roc_utils) (1.22.4)\n",
            "Requirement already satisfied: scipy in /usr/local/lib/python3.10/dist-packages (from roc_utils) (1.10.1)\n",
            "Requirement already satisfied: pandas in /usr/local/lib/python3.10/dist-packages (from roc_utils) (1.5.3)\n",
            "Requirement already satisfied: matplotlib in /usr/local/lib/python3.10/dist-packages (from roc_utils) (3.7.1)\n",
            "Requirement already satisfied: contourpy>=1.0.1 in /usr/local/lib/python3.10/dist-packages (from matplotlib->roc_utils) (1.0.7)\n",
            "Requirement already satisfied: cycler>=0.10 in /usr/local/lib/python3.10/dist-packages (from matplotlib->roc_utils) (0.11.0)\n",
            "Requirement already satisfied: fonttools>=4.22.0 in /usr/local/lib/python3.10/dist-packages (from matplotlib->roc_utils) (4.39.3)\n",
            "Requirement already satisfied: kiwisolver>=1.0.1 in /usr/local/lib/python3.10/dist-packages (from matplotlib->roc_utils) (1.4.4)\n",
            "Requirement already satisfied: packaging>=20.0 in /usr/local/lib/python3.10/dist-packages (from matplotlib->roc_utils) (23.1)\n",
            "Requirement already satisfied: pillow>=6.2.0 in /usr/local/lib/python3.10/dist-packages (from matplotlib->roc_utils) (8.4.0)\n",
            "Requirement already satisfied: pyparsing>=2.3.1 in /usr/local/lib/python3.10/dist-packages (from matplotlib->roc_utils) (3.0.9)\n",
            "Requirement already satisfied: python-dateutil>=2.7 in /usr/local/lib/python3.10/dist-packages (from matplotlib->roc_utils) (2.8.2)\n",
            "Requirement already satisfied: pytz>=2020.1 in /usr/local/lib/python3.10/dist-packages (from pandas->roc_utils) (2022.7.1)\n",
            "Requirement already satisfied: six>=1.5 in /usr/local/lib/python3.10/dist-packages (from python-dateutil>=2.7->matplotlib->roc_utils) (1.16.0)\n"
          ]
        },
        {
          "output_type": "display_data",
          "data": {
            "text/plain": [
              "<Figure size 640x480 with 1 Axes>"
            ],
            "image/png": "[encoded data removed]"
          },
          "metadata": {}
        }
      ]
    },
    {
      "cell_type": "markdown",
      "metadata": {
        "id": "QmZH-opVBMKL"
      },
      "source": [
        "#####**Confusion matrix**"
      ]
    },
    {
      "cell_type": "code",
      "execution_count": 827,
      "metadata": {
        "id": "g90U15_YBMKL",
        "colab": {
          "base_uri": "https://localhost:8080/",
          "height": 562
        },
        "outputId": "7365d3f9-2839-4a68-ffb9-a8cd693af81c"
      },
      "outputs": [
        {
          "output_type": "execute_result",
          "data": {
            "text/plain": [
              "Text(0.5, 427.9555555555555, 'Predicted label')"
            ]
          },
          "metadata": {},
          "execution_count": 827
        },
        {
          "output_type": "display_data",
          "data": {
            "text/plain": [
              "<Figure size 640x480 with 2 Axes>"
            ],
            "image/png": "[encoded data removed]"
          },
          "metadata": {}
        }
      ],
      "source": [
        "#Testing Logistic regression\n",
        "model = KNeighborsClassifier(algorithm='auto', n_neighbors=50, weights='uniform')\n",
        "import warnings\n",
        "warnings.filterwarnings(\"ignore\") \n",
        "\n",
        "# fit the model with data\n",
        "model.fit(X_train, y_train)\n",
        "y_pred = model.predict(X_test)\n",
        "\n",
        "# import the metrics class\n",
        "from sklearn import metrics\n",
        "cnf_matrix = metrics.confusion_matrix(y_test, y_pred)\n",
        "cnf_matrix\n",
        "\n",
        "# import required modules\n",
        "import numpy as np\n",
        "import matplotlib.pyplot as plt\n",
        "import seaborn as sns\n",
        "\n",
        "class_names=[0,1] # name  of classes\n",
        "fig, ax = plt.subplots()\n",
        "tick_marks = np.arange(len(class_names))\n",
        "plt.xticks(tick_marks, class_names)\n",
        "plt.yticks(tick_marks, class_names)\n",
        "# create heatmap\n",
        "sns.heatmap(pd.DataFrame(cnf_matrix), annot=True, cmap=\"YlGnBu\" ,fmt='g')\n",
        "ax.xaxis.set_label_position(\"top\")\n",
        "plt.tight_layout()\n",
        "plt.title('Confusion matrix', y=1.1)\n",
        "plt.ylabel('Actual label')\n",
        "plt.xlabel('Predicted label')"
      ]
    },
    {
      "cell_type": "markdown",
      "source": [
        "Training and testing error:"
      ],
      "metadata": {
        "id": "_vaScuFiEEEk"
      }
    },
    {
      "cell_type": "code",
      "execution_count": 828,
      "metadata": {
        "id": "-pL8-xWmBMKL",
        "colab": {
          "base_uri": "https://localhost:8080/"
        },
        "outputId": "c40feafb-0829-485e-c1fc-e85fa51230b5"
      },
      "outputs": [
        {
          "output_type": "stream",
          "name": "stdout",
          "text": [
            "Training Error:  0.9915254237288136\n",
            "Testing Error:  0.6\n"
          ]
        }
      ],
      "source": [
        "model = KNeighborsClassifier(algorithm='auto', n_neighbors=50, weights='uniform')\n",
        "# create and train your model\n",
        "\n",
        "model.fit(X_train, y_train)\n",
        "\n",
        "# make predictions on the training set\n",
        "y_train_pred = model.predict(X_train)\n",
        "\n",
        "# calculate the mean squared error of the training set predictions\n",
        "train_error = mean_squared_error(y_train, y_train_pred)\n",
        "\n",
        "# make predictions on the testing set\n",
        "y_test_pred = model.predict(X_test)\n",
        "\n",
        "# calculate the mean squared error of the testing set predictions\n",
        "test_error = mean_squared_error(y_test, y_test_pred)\n",
        "\n",
        "# print out the training and testing errors\n",
        "print(\"Training Error: \", train_error)\n",
        "print(\"Testing Error: \", test_error)"
      ]
    },
    {
      "cell_type": "markdown",
      "metadata": {
        "id": "uwEK1VrwBMKM"
      },
      "source": [
        "Using cross-validation, we obtained a result of 0.4538 for Knn classifier These values are similar to the previous accuracy levels."
      ]
    },
    {
      "cell_type": "markdown",
      "metadata": {
        "id": "_TrwMIFhRsZj"
      },
      "source": [
        "##### **Evaluation metrics using K-cross validation**"
      ]
    },
    {
      "cell_type": "markdown",
      "source": [
        "Next we have the evaluation metrics of one train-test split:"
      ],
      "metadata": {
        "id": "Ybz_UlExRsZj"
      }
    },
    {
      "cell_type": "code",
      "execution_count": 829,
      "metadata": {
        "id": "MZhyvLK1RsZk",
        "colab": {
          "base_uri": "https://localhost:8080/"
        },
        "outputId": "6e4b8717-1fd8-474b-93f7-fd8b4ec61141"
      },
      "outputs": [
        {
          "output_type": "stream",
          "name": "stdout",
          "text": [
            "The evaluation metrics of KNeighborsClassifier(n_neighbors=50) are:\n",
            "Accuracy: 0.5333333333333333\n",
            "Precision: 0.6041666666666666\n",
            "Recall: 0.5410774410774412\n",
            "F1-score: 0.5330718954248366\n"
          ]
        }
      ],
      "source": [
        "from sklearn.metrics import accuracy_score, precision_score, recall_score, f1_score\n",
        "import warnings\n",
        "warnings.filterwarnings(\"ignore\") \n",
        "\n",
        "#Separating the target variables (Masa_VAT_g and Vol_VAT) from the independent features\n",
        "target = [\"Masa_VAT_cat\"]\n",
        "X = dataAP_cat.drop(target, axis=1).values\n",
        "y = dataAP_cat[target].values\t\n",
        "\n",
        "from sklearn.model_selection import train_test_split\n",
        "\n",
        "# Splitting the data into training and testing data\n",
        "X_train, X_test, y_train, y_test = train_test_split(X, y, test_size=0.2, random_state=42)\n",
        "\n",
        "# Train your model\n",
        "model =  KNeighborsClassifier(algorithm='auto', n_neighbors=50, weights='uniform')\n",
        "model = model.fit(X_train,y_train)\n",
        "\n",
        "# Make predictions on the test data\n",
        "predicted_labels = model.predict(X_test)\n",
        "\n",
        "# EVALUATION METRICS\n",
        "\n",
        "# Calculate accuracy\n",
        "accuracy = accuracy_score(y_test, predicted_labels)\n",
        "\n",
        "# Calculate precision\n",
        "precision = precision_score(y_test, predicted_labels, average='macro')\n",
        "\n",
        "# Calculate recall\n",
        "recall = recall_score(y_test, predicted_labels, average='macro')\n",
        "\n",
        "# Calculate F1-score\n",
        "f1 = f1_score(y_test, predicted_labels, average='macro')\n",
        "\n",
        "# Print the evaluation metrics\n",
        "print(\"The evaluation metrics of\", model, \"are:\")\n",
        "print('Accuracy:', accuracy)\n",
        "print('Precision:', precision)\n",
        "print('Recall:', recall)\n",
        "print('F1-score:', f1)\n"
      ]
    },
    {
      "cell_type": "markdown",
      "source": [
        "**Here we have the evaluation metrics using k-cross validation**"
      ],
      "metadata": {
        "id": "XHjfIXo-RsZk"
      }
    },
    {
      "cell_type": "code",
      "source": [
        "from sklearn.metrics import accuracy_score, precision_score, recall_score, f1_score\n",
        "from sklearn.model_selection import cross_val_score\n",
        "from sklearn.model_selection import StratifiedKFold\n",
        "from sklearn.linear_model import LogisticRegression\n",
        "import warnings\n",
        "warnings.filterwarnings(\"ignore\") \n",
        "\n",
        "#Separating the target variables (Masa_VAT_g and Vol_VAT) from the independent features\n",
        "target = [\"Masa_VAT_cat\"]\n",
        "X = dataAP_cat.drop(target, axis=1).values\n",
        "y = dataAP_cat[target].values\t\n",
        "\n",
        "from sklearn.model_selection import train_test_split\n",
        "\n",
        "# Splitting the data into training and testing data\n",
        "X_train, X_test, y_train, y_test = train_test_split(X, y, test_size=0.2, random_state=42)\n",
        "\n",
        "# Train your model\n",
        "model =  KNeighborsClassifier(algorithm='auto', n_neighbors=50, weights='uniform')\n",
        "model = model.fit(X_train,y_train)\n",
        "\n",
        "# Initialize the k-fold cross-validation object\n",
        "k = 10  # Define the number of folds\n",
        "kf = StratifiedKFold(n_splits=k, shuffle=True, random_state=42)\n",
        "\n",
        "# Lists to store the evaluation metrics for each fold\n",
        "accuracy_scores = []\n",
        "precision_scores = []\n",
        "recall_scores = []\n",
        "f1_scores = []\n",
        "\n",
        "# Perform k-fold cross-validation\n",
        "for train_index, test_index in kf.split(X, y):\n",
        "    X_train, X_test = X[train_index], X[test_index]\n",
        "    y_train, y_test = y[train_index], y[test_index]\n",
        "\n",
        "    # Train the model\n",
        "    model.fit(X_train, y_train)\n",
        "\n",
        "    # Make predictions on the test data\n",
        "    predicted_labels = model.predict(X_test)\n",
        "\n",
        "    # Calculate evaluation metrics for the current fold\n",
        "    accuracy_scores.append(accuracy_score(y_test, predicted_labels))\n",
        "    precision_scores.append(precision_score(y_test, predicted_labels, average='macro'))\n",
        "    recall_scores.append(recall_score(y_test, predicted_labels, average='macro'))\n",
        "    f1_scores.append(f1_score(y_test, predicted_labels, average='macro'))\n",
        "\n",
        "# Print the average evaluation metrics\n",
        "print(\"The average evaluation metrics are:\")\n",
        "print('Accuracy:', sum(accuracy_scores) / k)\n",
        "print('Precision:', sum(precision_scores) / k)\n",
        "print('Recall:', sum(recall_scores) / k)\n",
        "print('F1-score:', sum(f1_scores) / k)"
      ],
      "metadata": {
        "id": "6haFQ0Q2RsZl",
        "colab": {
          "base_uri": "https://localhost:8080/"
        },
        "outputId": "7bf49665-9f9c-4c4a-c9d4-94e2467f2e58"
      },
      "execution_count": 830,
      "outputs": [
        {
          "output_type": "stream",
          "name": "stdout",
          "text": [
            "The average evaluation metrics are:\n",
            "Accuracy: 0.488095238095238\n",
            "Precision: 0.5161820586820587\n",
            "Recall: 0.4844444444444444\n",
            "F1-score: 0.4565020165020165\n"
          ]
        }
      ]
    },
    {
      "cell_type": "markdown",
      "metadata": {
        "id": "rJW_WMXXKP-b"
      },
      "source": [
        "## DataPHY"
      ]
    },
    {
      "cell_type": "markdown",
      "metadata": {
        "id": "jfYTvw2gTHTG"
      },
      "source": [
        "- dataPHY: dataframe that contains only physiological data of interest to study the relevance of it."
      ]
    },
    {
      "cell_type": "markdown",
      "metadata": {
        "id": "fGOWBZ94ZuKB"
      },
      "source": [
        "### Using Grid Search to find the best model and hyper parameter tuning"
      ]
    },
    {
      "cell_type": "markdown",
      "metadata": {
        "id": "lxIQm71pZuKC"
      },
      "source": [
        "The models whose best hyperparameters we want to find are the following:\n",
        "- Logistic Regression\n",
        "- K-Nearest Neighbours\n",
        "- Support Vector Machines\n",
        "- Naïve Bayes\n",
        "- Decision Tree Classification\n",
        "- Random Forest Classification"
      ]
    },
    {
      "cell_type": "markdown",
      "metadata": {
        "id": "--hIAht6ZuKC"
      },
      "source": [
        "First we define each model and their corresponding possible parameters:"
      ]
    },
    {
      "cell_type": "code",
      "execution_count": 831,
      "metadata": {
        "id": "Mmr9HunEZuKC"
      },
      "outputs": [],
      "source": [
        "from sklearn import svm\n",
        "from sklearn.svm import SVC\n",
        "from sklearn.ensemble import RandomForestClassifier\n",
        "from sklearn.linear_model import LogisticRegression\n",
        "from sklearn.neighbors import KNeighborsClassifier\n",
        "from sklearn.naive_bayes import GaussianNB\n",
        "from sklearn.tree import DecisionTreeClassifier\n",
        "from sklearn.ensemble import RandomForestClassifier\n",
        "\n",
        "\n",
        "#Define a simple Python dictionary and let's try the models stated before. (LR, KNn, SVM, Kernel SVM, NB, DTC, RFC)\n",
        "\n",
        "model_params = {\n",
        "     'logistic_regression' : {\n",
        "         'model': LogisticRegression(),\n",
        "         'params': {\n",
        "             'solver': ['liblinear', 'newton-cg', 'newton-cholesky', 'sag', 'saga'],\n",
        "             'C': [1,5,10,20],\n",
        "             'penalty' : ['l1', 'l2', 'elasticnet'],\n",
        "         }\n",
        "     },\n",
        "     'Knn': {\n",
        "        'model': KNeighborsClassifier(),\n",
        "        'params' : {\n",
        "            'n_neighbors': [5,10,20,50],\n",
        "            'weights' : ['uniform', 'distance'],\n",
        "            'algorithm' : ['auto', 'ball_tree', 'kd_tree', 'brute'],\n",
        "\n",
        "        }\n",
        "    },\n",
        "    'svm': {\n",
        "        'model': svm.SVC(gamma='auto'),\n",
        "        'params' : {\n",
        "            'C': [5,10,20],\n",
        "            'kernel': ['rbf','linear'],\n",
        "        }\n",
        "    },\n",
        "    \n",
        "    'Naive_Bayes': {\n",
        "        'model': GaussianNB(),\n",
        "        'params' : {\n",
        "            'var_smoothing' : [1e-09,1e-12,1e-06],\n",
        "            \n",
        "        }\n",
        "    },\n",
        "    \n",
        "    'Decision_tree': {\n",
        "        'model': DecisionTreeClassifier(),\n",
        "        'params' : {\n",
        "            'criterion' : ['gini', 'entropy', 'log_loss'],\n",
        "            'max_depth' : [0.5,3,4,5,15,20],\n",
        "\n",
        "        }\n",
        "    },\n",
        "     'random_forest': {\n",
        "        'model': RandomForestClassifier(),\n",
        "        'params' : {\n",
        "            'criterion' : ['gini', 'entropy', 'log_loss'],\n",
        "            'n_estimators': [1,5,10],\n",
        "        }\n",
        "    }\n",
        "}"
      ]
    },
    {
      "cell_type": "markdown",
      "metadata": {
        "id": "gjq5Hm_HZuKD"
      },
      "source": [
        "Next we will evaluate these models using GridSearchCV from Sklearn to find the score of each of the models and their best combinations for their parameters."
      ]
    },
    {
      "cell_type": "code",
      "execution_count": 832,
      "metadata": {
        "id": "T0NipvGUZuKD",
        "colab": {
          "base_uri": "https://localhost:8080/",
          "height": 238
        },
        "outputId": "e09cd131-b199-4d82-c224-d833fda46ddd"
      },
      "outputs": [
        {
          "output_type": "execute_result",
          "data": {
            "text/plain": [
              "                 model  best_score  \\\n",
              "0  logistic_regression    0.521609   \n",
              "1                  Knn    0.459540   \n",
              "2                  svm    0.481379   \n",
              "3          Naive_Bayes    0.440460   \n",
              "4        Decision_tree    0.454023   \n",
              "5        random_forest    0.465747   \n",
              "\n",
              "                                         best_params  \n",
              "0  {'C': 5, 'penalty': 'l2', 'solver': 'newton-ch...  \n",
              "1  {'algorithm': 'auto', 'n_neighbors': 10, 'weig...  \n",
              "2                       {'C': 5, 'kernel': 'linear'}  \n",
              "3                           {'var_smoothing': 1e-09}  \n",
              "4              {'criterion': 'gini', 'max_depth': 3}  \n",
              "5           {'criterion': 'gini', 'n_estimators': 5}  "
            ],
            "text/html": [
              "\n",
              "  <div id=\"df-8fdede4e-6118-4f5c-9d36-ed8c4113267c\">\n",
              "    <div class=\"colab-df-container\">\n",
              "      <div>\n",
              "<style scoped>\n",
              "    .dataframe tbody tr th:only-of-type {\n",
              "        vertical-align: middle;\n",
              "    }\n",
              "\n",
              "    .dataframe tbody tr th {\n",
              "        vertical-align: top;\n",
              "    }\n",
              "\n",
              "    .dataframe thead th {\n",
              "        text-align: right;\n",
              "    }\n",
              "</style>\n",
              "<table border=\"1\" class=\"dataframe\">\n",
              "  <thead>\n",
              "    <tr style=\"text-align: right;\">\n",
              "      <th></th>\n",
              "      <th>model</th>\n",
              "      <th>best_score</th>\n",
              "      <th>best_params</th>\n",
              "    </tr>\n",
              "  </thead>\n",
              "  <tbody>\n",
              "    <tr>\n",
              "      <th>0</th>\n",
              "      <td>logistic_regression</td>\n",
              "      <td>0.521609</td>\n",
              "      <td>{'C': 5, 'penalty': 'l2', 'solver': 'newton-ch...</td>\n",
              "    </tr>\n",
              "    <tr>\n",
              "      <th>1</th>\n",
              "      <td>Knn</td>\n",
              "      <td>0.459540</td>\n",
              "      <td>{'algorithm': 'auto', 'n_neighbors': 10, 'weig...</td>\n",
              "    </tr>\n",
              "    <tr>\n",
              "      <th>2</th>\n",
              "      <td>svm</td>\n",
              "      <td>0.481379</td>\n",
              "      <td>{'C': 5, 'kernel': 'linear'}</td>\n",
              "    </tr>\n",
              "    <tr>\n",
              "      <th>3</th>\n",
              "      <td>Naive_Bayes</td>\n",
              "      <td>0.440460</td>\n",
              "      <td>{'var_smoothing': 1e-09}</td>\n",
              "    </tr>\n",
              "    <tr>\n",
              "      <th>4</th>\n",
              "      <td>Decision_tree</td>\n",
              "      <td>0.454023</td>\n",
              "      <td>{'criterion': 'gini', 'max_depth': 3}</td>\n",
              "    </tr>\n",
              "    <tr>\n",
              "      <th>5</th>\n",
              "      <td>random_forest</td>\n",
              "      <td>0.465747</td>\n",
              "      <td>{'criterion': 'gini', 'n_estimators': 5}</td>\n",
              "    </tr>\n",
              "  </tbody>\n",
              "</table>\n",
              "</div>\n",
              "      <button class=\"colab-df-convert\" onclick=\"convertToInteractive('df-8fdede4e-6118-4f5c-9d36-ed8c4113267c')\"\n",
              "              title=\"Convert this dataframe to an interactive table.\"\n",
              "              style=\"display:none;\">\n",
              "        \n",
              "  <svg xmlns=\"http://www.w3.org/2000/svg\" height=\"24px\"viewBox=\"0 0 24 24\"\n",
              "       width=\"24px\">\n",
              "    <path d=\"M0 0h24v24H0V0z\" fill=\"none\"/>\n",
              "    <path d=\"M18.56 5.44l.94 2.06.94-2.06 2.06-.94-2.06-.94-.94-2.06-.94 2.06-2.06.94zm-11 1L8.5 8.5l.94-2.06 2.06-.94-2.06-.94L8.5 2.5l-.94 2.06-2.06.94zm10 10l.94 2.06.94-2.06 2.06-.94-2.06-.94-.94-2.06-.94 2.06-2.06.94z\"/><path d=\"M17.41 7.96l-1.37-1.37c-.4-.4-.92-.59-1.43-.59-.52 0-1.04.2-1.43.59L10.3 9.45l-7.72 7.72c-.78.78-.78 2.05 0 2.83L4 21.41c.39.39.9.59 1.41.59.51 0 1.02-.2 1.41-.59l7.78-7.78 2.81-2.81c.8-.78.8-2.07 0-2.86zM5.41 20L4 18.59l7.72-7.72 1.47 1.35L5.41 20z\"/>\n",
              "  </svg>\n",
              "      </button>\n",
              "      \n",
              "  <style>\n",
              "    .colab-df-container {\n",
              "      display:flex;\n",
              "      flex-wrap:wrap;\n",
              "      gap: 12px;\n",
              "    }\n",
              "\n",
              "    .colab-df-convert {\n",
              "      background-color: #E8F0FE;\n",
              "      border: none;\n",
              "      border-radius: 50%;\n",
              "      cursor: pointer;\n",
              "      display: none;\n",
              "      fill: #1967D2;\n",
              "      height: 32px;\n",
              "      padding: 0 0 0 0;\n",
              "      width: 32px;\n",
              "    }\n",
              "\n",
              "    .colab-df-convert:hover {\n",
              "      background-color: #E2EBFA;\n",
              "      box-shadow: 0px 1px 2px rgba(60, 64, 67, 0.3), 0px 1px 3px 1px rgba(60, 64, 67, 0.15);\n",
              "      fill: #174EA6;\n",
              "    }\n",
              "\n",
              "    [theme=dark] .colab-df-convert {\n",
              "      background-color: #3B4455;\n",
              "      fill: #D2E3FC;\n",
              "    }\n",
              "\n",
              "    [theme=dark] .colab-df-convert:hover {\n",
              "      background-color: #434B5C;\n",
              "      box-shadow: 0px 1px 3px 1px rgba(0, 0, 0, 0.15);\n",
              "      filter: drop-shadow(0px 1px 2px rgba(0, 0, 0, 0.3));\n",
              "      fill: #FFFFFF;\n",
              "    }\n",
              "  </style>\n",
              "\n",
              "      <script>\n",
              "        const buttonEl =\n",
              "          document.querySelector('#df-8fdede4e-6118-4f5c-9d36-ed8c4113267c button.colab-df-convert');\n",
              "        buttonEl.style.display =\n",
              "          google.colab.kernel.accessAllowed ? 'block' : 'none';\n",
              "\n",
              "        async function convertToInteractive(key) {\n",
              "          const element = document.querySelector('#df-8fdede4e-6118-4f5c-9d36-ed8c4113267c');\n",
              "          const dataTable =\n",
              "            await google.colab.kernel.invokeFunction('convertToInteractive',\n",
              "                                                     [key], {});\n",
              "          if (!dataTable) return;\n",
              "\n",
              "          const docLinkHtml = 'Like what you see? Visit the ' +\n",
              "            '<a target=\"_blank\" href=https://colab.research.google.com/notebooks/data_table.ipynb>data table notebook</a>'\n",
              "            + ' to learn more about interactive tables.';\n",
              "          element.innerHTML = '';\n",
              "          dataTable['output_type'] = 'display_data';\n",
              "          await google.colab.output.renderOutput(dataTable, element);\n",
              "          const docLink = document.createElement('div');\n",
              "          docLink.innerHTML = docLinkHtml;\n",
              "          element.appendChild(docLink);\n",
              "        }\n",
              "      </script>\n",
              "    </div>\n",
              "  </div>\n",
              "  "
            ]
          },
          "metadata": {},
          "execution_count": 832
        }
      ],
      "source": [
        "target = dataAP_cat[\"Masa_VAT_cat\"]\n",
        "data_target = dataPHY.copy()\n",
        "from sklearn.model_selection import GridSearchCV\n",
        "import warnings\n",
        "warnings.filterwarnings(\"ignore\") \n",
        "\n",
        "scores = []\n",
        "\n",
        "#The following for loop is doing nothing but going throught the dictionary previously defined and for each of the value in the dictionary it will apply the GridSearchCV\n",
        "for model_name, mp in model_params.items():\n",
        "    clf =  GridSearchCV(mp['model'], mp['params'], cv=5, return_train_score=False)\n",
        "    clf.fit(data_target, target)\n",
        "    scores.append({\n",
        "        'model': model_name,\n",
        "        'best_score': clf.best_score_,\n",
        "        'best_params': clf.best_params_\n",
        "    })\n",
        "    \n",
        "df = pd.DataFrame(scores,columns=['model','best_score','best_params'])\n",
        "df"
      ]
    },
    {
      "cell_type": "markdown",
      "metadata": {
        "id": "jKPOVt8htEx5"
      },
      "source": [
        "The best results are from the following models:\n",
        "- Logistic regression classifier \n",
        "- Support Vector machine classifier\n",
        "- Knn classifier\n",
        "\n",
        "To choose one of these models first we have to validate them."
      ]
    },
    {
      "cell_type": "code",
      "execution_count": 833,
      "metadata": {
        "id": "lYX_07jSDGJd"
      },
      "outputs": [],
      "source": [
        "#FIRST\n",
        "#We divide the data between train and testing data:\n",
        "\n",
        "from sklearn import datasets, linear_model\n",
        "\n",
        "#Separating the target variables (Masa_VAT_g and Vol_VAT) from the independent features\n",
        "target = [\"Masa_VAT_cat\"]\n",
        "X = dataPHY.values\n",
        "y = dataAP_cat[target].values\t\n",
        "\n",
        "from sklearn.model_selection import train_test_split\n",
        "\n",
        "# Splitting the data into training and testing data\n",
        "X_train, X_test, y_train, y_test = train_test_split(X, y, test_size=0.2, random_state=42)"
      ]
    },
    {
      "cell_type": "markdown",
      "metadata": {
        "id": "5X8LWkUdMqwn"
      },
      "source": [
        "AUTOMATIC WAY TO MEASURE ACCURACIES:"
      ]
    },
    {
      "cell_type": "code",
      "execution_count": 834,
      "metadata": {
        "id": "XAUyCN-QMqw4",
        "colab": {
          "base_uri": "https://localhost:8080/",
          "height": 196
        },
        "outputId": "33988b43-96a8-4032-a7ac-9b2abd08679e"
      },
      "outputs": [
        {
          "output_type": "stream",
          "name": "stdout",
          "text": [
            "0.6666666666666666\n",
            "0.6666666666666666\n",
            "0.6333333333333333\n"
          ]
        },
        {
          "output_type": "execute_result",
          "data": {
            "text/plain": [
              "                                               model  Accuracy\n",
              "0  LogisticRegression(C=5, solver='newton-cholesky')  0.666667\n",
              "0            SVC(C=5, gamma='auto', kernel='linear')  0.666667\n",
              "0               KNeighborsClassifier(n_neighbors=10)  0.633333"
            ],
            "text/html": [
              "\n",
              "  <div id=\"df-45ab1cd0-5981-4eec-a32e-3dd2ee7d19b7\">\n",
              "    <div class=\"colab-df-container\">\n",
              "      <div>\n",
              "<style scoped>\n",
              "    .dataframe tbody tr th:only-of-type {\n",
              "        vertical-align: middle;\n",
              "    }\n",
              "\n",
              "    .dataframe tbody tr th {\n",
              "        vertical-align: top;\n",
              "    }\n",
              "\n",
              "    .dataframe thead th {\n",
              "        text-align: right;\n",
              "    }\n",
              "</style>\n",
              "<table border=\"1\" class=\"dataframe\">\n",
              "  <thead>\n",
              "    <tr style=\"text-align: right;\">\n",
              "      <th></th>\n",
              "      <th>model</th>\n",
              "      <th>Accuracy</th>\n",
              "    </tr>\n",
              "  </thead>\n",
              "  <tbody>\n",
              "    <tr>\n",
              "      <th>0</th>\n",
              "      <td>LogisticRegression(C=5, solver='newton-cholesky')</td>\n",
              "      <td>0.666667</td>\n",
              "    </tr>\n",
              "    <tr>\n",
              "      <th>0</th>\n",
              "      <td>SVC(C=5, gamma='auto', kernel='linear')</td>\n",
              "      <td>0.666667</td>\n",
              "    </tr>\n",
              "    <tr>\n",
              "      <th>0</th>\n",
              "      <td>KNeighborsClassifier(n_neighbors=10)</td>\n",
              "      <td>0.633333</td>\n",
              "    </tr>\n",
              "  </tbody>\n",
              "</table>\n",
              "</div>\n",
              "      <button class=\"colab-df-convert\" onclick=\"convertToInteractive('df-45ab1cd0-5981-4eec-a32e-3dd2ee7d19b7')\"\n",
              "              title=\"Convert this dataframe to an interactive table.\"\n",
              "              style=\"display:none;\">\n",
              "        \n",
              "  <svg xmlns=\"http://www.w3.org/2000/svg\" height=\"24px\"viewBox=\"0 0 24 24\"\n",
              "       width=\"24px\">\n",
              "    <path d=\"M0 0h24v24H0V0z\" fill=\"none\"/>\n",
              "    <path d=\"M18.56 5.44l.94 2.06.94-2.06 2.06-.94-2.06-.94-.94-2.06-.94 2.06-2.06.94zm-11 1L8.5 8.5l.94-2.06 2.06-.94-2.06-.94L8.5 2.5l-.94 2.06-2.06.94zm10 10l.94 2.06.94-2.06 2.06-.94-2.06-.94-.94-2.06-.94 2.06-2.06.94z\"/><path d=\"M17.41 7.96l-1.37-1.37c-.4-.4-.92-.59-1.43-.59-.52 0-1.04.2-1.43.59L10.3 9.45l-7.72 7.72c-.78.78-.78 2.05 0 2.83L4 21.41c.39.39.9.59 1.41.59.51 0 1.02-.2 1.41-.59l7.78-7.78 2.81-2.81c.8-.78.8-2.07 0-2.86zM5.41 20L4 18.59l7.72-7.72 1.47 1.35L5.41 20z\"/>\n",
              "  </svg>\n",
              "      </button>\n",
              "      \n",
              "  <style>\n",
              "    .colab-df-container {\n",
              "      display:flex;\n",
              "      flex-wrap:wrap;\n",
              "      gap: 12px;\n",
              "    }\n",
              "\n",
              "    .colab-df-convert {\n",
              "      background-color: #E8F0FE;\n",
              "      border: none;\n",
              "      border-radius: 50%;\n",
              "      cursor: pointer;\n",
              "      display: none;\n",
              "      fill: #1967D2;\n",
              "      height: 32px;\n",
              "      padding: 0 0 0 0;\n",
              "      width: 32px;\n",
              "    }\n",
              "\n",
              "    .colab-df-convert:hover {\n",
              "      background-color: #E2EBFA;\n",
              "      box-shadow: 0px 1px 2px rgba(60, 64, 67, 0.3), 0px 1px 3px 1px rgba(60, 64, 67, 0.15);\n",
              "      fill: #174EA6;\n",
              "    }\n",
              "\n",
              "    [theme=dark] .colab-df-convert {\n",
              "      background-color: #3B4455;\n",
              "      fill: #D2E3FC;\n",
              "    }\n",
              "\n",
              "    [theme=dark] .colab-df-convert:hover {\n",
              "      background-color: #434B5C;\n",
              "      box-shadow: 0px 1px 3px 1px rgba(0, 0, 0, 0.15);\n",
              "      filter: drop-shadow(0px 1px 2px rgba(0, 0, 0, 0.3));\n",
              "      fill: #FFFFFF;\n",
              "    }\n",
              "  </style>\n",
              "\n",
              "      <script>\n",
              "        const buttonEl =\n",
              "          document.querySelector('#df-45ab1cd0-5981-4eec-a32e-3dd2ee7d19b7 button.colab-df-convert');\n",
              "        buttonEl.style.display =\n",
              "          google.colab.kernel.accessAllowed ? 'block' : 'none';\n",
              "\n",
              "        async function convertToInteractive(key) {\n",
              "          const element = document.querySelector('#df-45ab1cd0-5981-4eec-a32e-3dd2ee7d19b7');\n",
              "          const dataTable =\n",
              "            await google.colab.kernel.invokeFunction('convertToInteractive',\n",
              "                                                     [key], {});\n",
              "          if (!dataTable) return;\n",
              "\n",
              "          const docLinkHtml = 'Like what you see? Visit the ' +\n",
              "            '<a target=\"_blank\" href=https://colab.research.google.com/notebooks/data_table.ipynb>data table notebook</a>'\n",
              "            + ' to learn more about interactive tables.';\n",
              "          element.innerHTML = '';\n",
              "          dataTable['output_type'] = 'display_data';\n",
              "          await google.colab.output.renderOutput(dataTable, element);\n",
              "          const docLink = document.createElement('div');\n",
              "          docLink.innerHTML = docLinkHtml;\n",
              "          element.appendChild(docLink);\n",
              "        }\n",
              "      </script>\n",
              "    </div>\n",
              "  </div>\n",
              "  "
            ]
          },
          "metadata": {},
          "execution_count": 834
        }
      ],
      "source": [
        "#BEST MODELS ACCURACY\n",
        "\n",
        "#Accuracy score of decision tree classifier, we import accuracy_score from sklearn\n",
        "from sklearn.metrics import accuracy_score\n",
        "import warnings\n",
        "warnings.filterwarnings(\"ignore\") \n",
        "\n",
        "#Defining the model with the best parameters found with Grid Search.\n",
        "\n",
        "LR = LogisticRegression(solver='newton-cholesky', C = 5, penalty = 'l2')\n",
        "SVM = svm.SVC(gamma='auto', C = 5, kernel = 'linear')\n",
        "KNN =  KNeighborsClassifier(algorithm = 'auto', n_neighbors= 10, weights= 'uniform')\n",
        "\n",
        "accuracy = {'model': [], 'Accuracy': []}\n",
        "df = pd.DataFrame(accuracy)\n",
        "\n",
        "CLF = (LR, SVM , KNN)\n",
        "for x in CLF:\n",
        "  clf = x\n",
        "  clf = clf.fit(X_train, y_train)\n",
        "\n",
        "  yhat_test = clf.predict(X_test)\n",
        "  \n",
        "  acc = accuracy_score(y_test, yhat_test)\n",
        "  print(acc)\n",
        "\n",
        "  accdf = {'model': [x], 'Accuracy': [acc]}\n",
        "  df_acc = pd.DataFrame(accdf)\n",
        "  df = df.append(df_acc)\n",
        "df"
      ]
    },
    {
      "cell_type": "markdown",
      "metadata": {
        "id": "f9RcWryNHYAl"
      },
      "source": [
        "###Logistic regression"
      ]
    },
    {
      "cell_type": "markdown",
      "metadata": {
        "id": "1JqVudfLHYAr"
      },
      "source": [
        "We define the model:"
      ]
    },
    {
      "cell_type": "code",
      "execution_count": 835,
      "metadata": {
        "id": "JSyRR7fFHYAr"
      },
      "outputs": [],
      "source": [
        "#FIRST\n",
        "#We divide the data between train and testing data:\n",
        "\n",
        "from sklearn.feature_selection import SelectFwe, chi2\n",
        "from sklearn import datasets, linear_model\n",
        "from sklearn.feature_selection import SelectPercentile, chi2\n",
        "\n",
        "#Separating the target variables (Masa_VAT_g and Vol_VAT) from the independent features\n",
        "target = [\"Masa_VAT_cat\"]\n",
        "X = dataPHY.values\n",
        "y = dataAP_cat[target].values\t\n",
        "\n",
        "from sklearn.model_selection import train_test_split\n",
        "\n",
        "# Splitting the data into training and testing data\n",
        "X_train, X_test, y_train, y_test = train_test_split(X, y, test_size=0.2, random_state=42)\n",
        "\n",
        "clf = LogisticRegression(solver='newton-cholesky', C = 5, penalty = 'l2')\n",
        "#RandomForestClassifier(SelectFwe(SelectPercentile(\"input_matrix\", percentile=73), alpha=0.025), bootstrap=True, criterion=\"entropy\", max_features=0.3, min_samples_leaf=4, min_samples_split=17, n_estimators=100)\n",
        "# \n",
        "clf = clf.fit(X_train,y_train.ravel())"
      ]
    },
    {
      "cell_type": "markdown",
      "metadata": {
        "id": "AmKV4I7cHYAs"
      },
      "source": [
        "##### **Mean ROC curve**"
      ]
    },
    {
      "cell_type": "code",
      "source": [
        "from sklearn import preprocessing\n",
        "from sklearn.pipeline import make_pipeline\n",
        "from sklearn.metrics import precision_score, accuracy_score, recall_score\n",
        "from sklearn.utils import resample\n",
        "!pip3 install roc_utils\n",
        "import roc_utils as ru\n",
        "import warnings\n",
        "warnings.filterwarnings(\"ignore\") \n",
        "\n",
        "# Generating 100 models and predicting 100 test sets using bootstrapping:\n",
        "rocs = []\n",
        "n_iterations = 100\n",
        "for i in range(n_iterations):\n",
        "    # Train test split\n",
        "    X_train, X_test, y_train, y_test = train_test_split(X,y, test_size=0.2, stratify = y, random_state=i)\n",
        "\n",
        "    # Scaling the data\n",
        "    scaler = preprocessing.StandardScaler()\n",
        "    X_train_scaled = scaler.fit_transform(X_train)\n",
        "    X_test_scaled = scaler.transform(X_test)\n",
        "\n",
        "    # Resampling\n",
        "    Xtr_bs, ytr_bs = resample(X_train_scaled, y_train, replace=True, random_state=i) \n",
        "    Xts_bs, yts_bs = resample(X_test_scaled, y_test, replace=True, random_state=i) \n",
        "    \n",
        "    # Asjusting the model to a training dataset\n",
        "    model = LogisticRegression(solver='newton-cholesky', C = 5, penalty = 'l2')\n",
        "    model.fit(Xtr_bs, ytr_bs) \n",
        "    \n",
        "    # Predictions\n",
        "    y_hat = model.predict(Xts_bs)\n",
        "    \n",
        "    # Model evaluation ROC plots\n",
        "    y_prob = model.predict_proba(Xts_bs)\n",
        "    roc = ru.compute_roc(X=y_prob[:,1], y=yts_bs, pos_label=True)\n",
        "    rocs.append(roc)\n",
        "       \n",
        "\n",
        "ru.plot_mean_roc(rocs, show_ci=True)\n",
        "plt.title(\"Average ROC curve\");"
      ],
      "metadata": {
        "id": "OZGQmPVM_YRR",
        "colab": {
          "base_uri": "https://localhost:8080/",
          "height": 750
        },
        "outputId": "82507072-1727-47fb-db75-2dcc0cc0783c"
      },
      "execution_count": 836,
      "outputs": [
        {
          "output_type": "stream",
          "name": "stdout",
          "text": [
            "Looking in indexes: https://pypi.org/simple, https://us-python.pkg.dev/colab-wheels/public/simple/\n",
            "Requirement already satisfied: roc_utils in /usr/local/lib/python3.10/dist-packages (0.2.2)\n",
            "Requirement already satisfied: numpy in /usr/local/lib/python3.10/dist-packages (from roc_utils) (1.22.4)\n",
            "Requirement already satisfied: scipy in /usr/local/lib/python3.10/dist-packages (from roc_utils) (1.10.1)\n",
            "Requirement already satisfied: pandas in /usr/local/lib/python3.10/dist-packages (from roc_utils) (1.5.3)\n",
            "Requirement already satisfied: matplotlib in /usr/local/lib/python3.10/dist-packages (from roc_utils) (3.7.1)\n",
            "Requirement already satisfied: contourpy>=1.0.1 in /usr/local/lib/python3.10/dist-packages (from matplotlib->roc_utils) (1.0.7)\n",
            "Requirement already satisfied: cycler>=0.10 in /usr/local/lib/python3.10/dist-packages (from matplotlib->roc_utils) (0.11.0)\n",
            "Requirement already satisfied: fonttools>=4.22.0 in /usr/local/lib/python3.10/dist-packages (from matplotlib->roc_utils) (4.39.3)\n",
            "Requirement already satisfied: kiwisolver>=1.0.1 in /usr/local/lib/python3.10/dist-packages (from matplotlib->roc_utils) (1.4.4)\n",
            "Requirement already satisfied: packaging>=20.0 in /usr/local/lib/python3.10/dist-packages (from matplotlib->roc_utils) (23.1)\n",
            "Requirement already satisfied: pillow>=6.2.0 in /usr/local/lib/python3.10/dist-packages (from matplotlib->roc_utils) (8.4.0)\n",
            "Requirement already satisfied: pyparsing>=2.3.1 in /usr/local/lib/python3.10/dist-packages (from matplotlib->roc_utils) (3.0.9)\n",
            "Requirement already satisfied: python-dateutil>=2.7 in /usr/local/lib/python3.10/dist-packages (from matplotlib->roc_utils) (2.8.2)\n",
            "Requirement already satisfied: pytz>=2020.1 in /usr/local/lib/python3.10/dist-packages (from pandas->roc_utils) (2022.7.1)\n",
            "Requirement already satisfied: six>=1.5 in /usr/local/lib/python3.10/dist-packages (from python-dateutil>=2.7->matplotlib->roc_utils) (1.16.0)\n"
          ]
        },
        {
          "output_type": "display_data",
          "data": {
            "text/plain": [
              "<Figure size 640x480 with 1 Axes>"
            ],
            "image/png": "[encoded data removed]"
          },
          "metadata": {}
        }
      ]
    },
    {
      "cell_type": "markdown",
      "metadata": {
        "id": "xCrYCeCWHYAs"
      },
      "source": [
        "#####Confusion matrix"
      ]
    },
    {
      "cell_type": "code",
      "execution_count": 837,
      "metadata": {
        "id": "OHz4HjVDHYAs",
        "colab": {
          "base_uri": "https://localhost:8080/",
          "height": 562
        },
        "outputId": "352d792f-564c-4492-c808-77c0ed40948e"
      },
      "outputs": [
        {
          "output_type": "execute_result",
          "data": {
            "text/plain": [
              "Text(0.5, 427.9555555555555, 'Predicted label')"
            ]
          },
          "metadata": {},
          "execution_count": 837
        },
        {
          "output_type": "display_data",
          "data": {
            "text/plain": [
              "<Figure size 640x480 with 2 Axes>"
            ],
            "image/png": "[encoded data removed]"
          },
          "metadata": {}
        }
      ],
      "source": [
        "#Testing Logistic regression\n",
        "Lregr = LogisticRegression(solver='newton-cholesky', C = 5, penalty = 'l2')\n",
        "\n",
        "# fit the model with data\n",
        "Lregr.fit(X_train, y_train)\n",
        "y_pred = Lregr.predict(X_test)\n",
        "\n",
        "# import the metrics class\n",
        "from sklearn import metrics\n",
        "cnf_matrix = metrics.confusion_matrix(y_test, y_pred)\n",
        "cnf_matrix\n",
        "\n",
        "# import required modules\n",
        "import numpy as np\n",
        "import matplotlib.pyplot as plt\n",
        "import seaborn as sns\n",
        "import warnings\n",
        "warnings.filterwarnings(\"ignore\") \n",
        "\n",
        "class_names=[0,1] # name  of classes\n",
        "fig, ax = plt.subplots()\n",
        "tick_marks = np.arange(len(class_names))\n",
        "plt.xticks(tick_marks, class_names)\n",
        "plt.yticks(tick_marks, class_names)\n",
        "# create heatmap\n",
        "sns.heatmap(pd.DataFrame(cnf_matrix), annot=True, cmap=\"YlGnBu\" ,fmt='g')\n",
        "ax.xaxis.set_label_position(\"top\")\n",
        "plt.tight_layout()\n",
        "plt.title('Confusion matrix', y=1.1)\n",
        "plt.ylabel('Actual label')\n",
        "plt.xlabel('Predicted label')"
      ]
    },
    {
      "cell_type": "markdown",
      "source": [
        "Training and testing error:"
      ],
      "metadata": {
        "id": "Kitsn0XGBJaj"
      }
    },
    {
      "cell_type": "code",
      "execution_count": 838,
      "metadata": {
        "id": "EMH8XeKnHYAs",
        "colab": {
          "base_uri": "https://localhost:8080/"
        },
        "outputId": "2c55a4d0-e8c7-49a4-84fb-b10c52191a3a"
      },
      "outputs": [
        {
          "output_type": "stream",
          "name": "stdout",
          "text": [
            "Training Error:  0.559322033898305\n",
            "Testing Error:  0.8333333333333334\n"
          ]
        }
      ],
      "source": [
        "model = LogisticRegression(solver='newton-cholesky', C = 5, penalty = 'l2')\n",
        "# create and train your model\n",
        "\n",
        "model.fit(X_train, y_train)\n",
        "\n",
        "# make predictions on the training set\n",
        "y_train_pred = model.predict(X_train)\n",
        "\n",
        "# calculate the mean squared error of the training set predictions\n",
        "train_error = mean_squared_error(y_train, y_train_pred)\n",
        "\n",
        "# make predictions on the testing set\n",
        "y_test_pred = model.predict(X_test)\n",
        "\n",
        "# calculate the mean squared error of the testing set predictions\n",
        "test_error = mean_squared_error(y_test, y_test_pred)\n",
        "\n",
        "# print out the training and testing errors\n",
        "print(\"Training Error: \", train_error)\n",
        "print(\"Testing Error: \", test_error)"
      ]
    },
    {
      "cell_type": "markdown",
      "metadata": {
        "id": "DsUUWv11SHMH"
      },
      "source": [
        "##### **Evaluation metrics using K-cross validation**"
      ]
    },
    {
      "cell_type": "markdown",
      "source": [
        "Next we have the evaluation metrics of one train-test split:"
      ],
      "metadata": {
        "id": "K8E9I-RDSHMI"
      }
    },
    {
      "cell_type": "code",
      "execution_count": 839,
      "metadata": {
        "id": "o5UhP_p2SHMI",
        "colab": {
          "base_uri": "https://localhost:8080/"
        },
        "outputId": "d36dbfa8-f803-4ed0-e43b-199618be9493"
      },
      "outputs": [
        {
          "output_type": "stream",
          "name": "stdout",
          "text": [
            "The evaluation metrics of LogisticRegression(C=5, solver='newton-cholesky') are:\n",
            "Accuracy: 0.6666666666666666\n",
            "Precision: 0.6698412698412698\n",
            "Recall: 0.6653198653198653\n",
            "F1-score: 0.652280701754386\n"
          ]
        }
      ],
      "source": [
        "from sklearn.metrics import accuracy_score, precision_score, recall_score, f1_score\n",
        "import warnings\n",
        "warnings.filterwarnings(\"ignore\") \n",
        "\n",
        "#Separating the target variables (Masa_VAT_g and Vol_VAT) from the independent features\n",
        "target = [\"Masa_VAT_cat\"]\n",
        "X = dataPHY.values\n",
        "y = dataAP_cat[target].values\t\n",
        "\n",
        "from sklearn.model_selection import train_test_split\n",
        "\n",
        "# Splitting the data into training and testing data\n",
        "X_train, X_test, y_train, y_test = train_test_split(X, y, test_size=0.2, random_state=42)\n",
        "\n",
        "# Train your model\n",
        "model = LogisticRegression(solver='newton-cholesky', C = 5, penalty = 'l2')\n",
        "model = model.fit(X_train,y_train)\n",
        "\n",
        "# Make predictions on the test data\n",
        "predicted_labels = model.predict(X_test)\n",
        "\n",
        "# EVALUATION METRICS\n",
        "\n",
        "# Calculate accuracy\n",
        "accuracy = accuracy_score(y_test, predicted_labels)\n",
        "\n",
        "# Calculate precision\n",
        "precision = precision_score(y_test, predicted_labels, average='macro')\n",
        "\n",
        "# Calculate recall\n",
        "recall = recall_score(y_test, predicted_labels, average='macro')\n",
        "\n",
        "# Calculate F1-score\n",
        "f1 = f1_score(y_test, predicted_labels, average='macro')\n",
        "\n",
        "# Print the evaluation metrics\n",
        "print(\"The evaluation metrics of\", model, \"are:\")\n",
        "print('Accuracy:', accuracy)\n",
        "print('Precision:', precision)\n",
        "print('Recall:', recall)\n",
        "print('F1-score:', f1)\n"
      ]
    },
    {
      "cell_type": "markdown",
      "source": [
        "**Here we have the evaluation metrics using k-cross validation**"
      ],
      "metadata": {
        "id": "xIXGnjU1SHMI"
      }
    },
    {
      "cell_type": "code",
      "source": [
        "from sklearn.metrics import accuracy_score, precision_score, recall_score, f1_score\n",
        "from sklearn.model_selection import cross_val_score\n",
        "from sklearn.model_selection import StratifiedKFold\n",
        "from sklearn.linear_model import LogisticRegression\n",
        "import warnings\n",
        "warnings.filterwarnings(\"ignore\") \n",
        "\n",
        "#Separating the target variables (Masa_VAT_g and Vol_VAT) from the independent features\n",
        "target = [\"Masa_VAT_cat\"]\n",
        "X = dataPHY.values\n",
        "y = dataAP_cat[target].values\t\n",
        "\n",
        "from sklearn.model_selection import train_test_split\n",
        "\n",
        "# Splitting the data into training and testing data\n",
        "X_train, X_test, y_train, y_test = train_test_split(X, y, test_size=0.2, random_state=42)\n",
        "\n",
        "\n",
        "# Train your model\n",
        "model = LogisticRegression(solver='newton-cholesky', C = 5, penalty = 'l2')\n",
        "model = model.fit(X_train,y_train)\n",
        "\n",
        "# Initialize the k-fold cross-validation object\n",
        "k = 10  # Define the number of folds\n",
        "kf = StratifiedKFold(n_splits=k, shuffle=True, random_state=42)\n",
        "\n",
        "# Lists to store the evaluation metrics for each fold\n",
        "accuracy_scores = []\n",
        "precision_scores = []\n",
        "recall_scores = []\n",
        "f1_scores = []\n",
        "\n",
        "# Perform k-fold cross-validation\n",
        "for train_index, test_index in kf.split(X, y):\n",
        "    X_train, X_test = X[train_index], X[test_index]\n",
        "    y_train, y_test = y[train_index], y[test_index]\n",
        "\n",
        "    # Train the model\n",
        "    model.fit(X_train, y_train)\n",
        "\n",
        "    # Make predictions on the test data\n",
        "    predicted_labels = model.predict(X_test)\n",
        "\n",
        "    # Calculate evaluation metrics for the current fold\n",
        "    accuracy_scores.append(accuracy_score(y_test, predicted_labels))\n",
        "    precision_scores.append(precision_score(y_test, predicted_labels, average='macro'))\n",
        "    recall_scores.append(recall_score(y_test, predicted_labels, average='macro'))\n",
        "    f1_scores.append(f1_score(y_test, predicted_labels, average='macro'))\n",
        "\n",
        "# Print the average evaluation metrics\n",
        "print(\"The average evaluation metrics are:\")\n",
        "print('Accuracy:', sum(accuracy_scores) / k)\n",
        "print('Precision:', sum(precision_scores) / k)\n",
        "print('Recall:', sum(recall_scores) / k)\n",
        "print('F1-score:', sum(f1_scores) / k)"
      ],
      "metadata": {
        "id": "DHDf7A_TSHMI",
        "colab": {
          "base_uri": "https://localhost:8080/"
        },
        "outputId": "3dcd9871-e4e3-4851-e4ef-88c836a4f473"
      },
      "execution_count": 840,
      "outputs": [
        {
          "output_type": "stream",
          "name": "stdout",
          "text": [
            "The average evaluation metrics are:\n",
            "Accuracy: 0.4995238095238094\n",
            "Precision: 0.5058068783068782\n",
            "Recall: 0.49944444444444436\n",
            "F1-score: 0.48069541569541574\n"
          ]
        }
      ]
    },
    {
      "cell_type": "markdown",
      "metadata": {
        "id": "wZScKM8_HYAt"
      },
      "source": [
        "###Support Vector Machine"
      ]
    },
    {
      "cell_type": "markdown",
      "metadata": {
        "id": "-dSi3O3THYAt"
      },
      "source": [
        "We define the model:"
      ]
    },
    {
      "cell_type": "code",
      "execution_count": 841,
      "metadata": {
        "id": "8d88RGMkHYAt"
      },
      "outputs": [],
      "source": [
        "#FIRST\n",
        "#We divide the data between train and testing data:\n",
        "\n",
        "from sklearn.feature_selection import SelectFwe, chi2\n",
        "from sklearn import datasets, linear_model\n",
        "from sklearn.feature_selection import SelectPercentile, chi2\n",
        "\n",
        "#Separating the target variables (Masa_VAT_g and Vol_VAT) from the independent features\n",
        "target = [\"Masa_VAT_cat\"]\n",
        "X = dataPHY.values\n",
        "y = dataAP_cat[target].values\t\n",
        "\n",
        "from sklearn.model_selection import train_test_split\n",
        "\n",
        "# Splitting the data into training and testing data\n",
        "X_train, X_test, y_train, y_test = train_test_split(X, y, test_size=0.2, random_state=42)\n",
        "\n",
        "clf = svm.SVC(gamma='auto', C=10, kernel='linear')\n",
        "clf = clf.fit(X_train,y_train.ravel())"
      ]
    },
    {
      "cell_type": "markdown",
      "metadata": {
        "id": "NLzkrXRzHYAt"
      },
      "source": [
        "##### **Mean ROC curve**"
      ]
    },
    {
      "cell_type": "code",
      "source": [
        "from sklearn import preprocessing\n",
        "from sklearn.pipeline import make_pipeline\n",
        "from sklearn.metrics import precision_score, accuracy_score, recall_score\n",
        "from sklearn.utils import resample\n",
        "!pip3 install roc_utils\n",
        "import roc_utils as ru\n",
        "import warnings\n",
        "warnings.filterwarnings(\"ignore\") \n",
        "\n",
        "# Generating 100 models and predicting 100 test sets using bootstrapping:\n",
        "rocs = []\n",
        "n_iterations = 100\n",
        "for i in range(n_iterations):\n",
        "    # Train test split\n",
        "    X_train, X_test, y_train, y_test = train_test_split(X,y, test_size=0.2, stratify = y, random_state=i)\n",
        "\n",
        "    # Scaling the data\n",
        "    scaler = preprocessing.StandardScaler()\n",
        "    X_train_scaled = scaler.fit_transform(X_train)\n",
        "    X_test_scaled = scaler.transform(X_test)\n",
        "\n",
        "    # Resampling\n",
        "    Xtr_bs, ytr_bs = resample(X_train_scaled, y_train, replace=True, random_state=i) \n",
        "    Xts_bs, yts_bs = resample(X_test_scaled, y_test, replace=True, random_state=i) \n",
        "    \n",
        "    # Asjusting the model to a training dataset\n",
        "    model =  svm.SVC(gamma='auto', C=10, kernel='linear', probability =True)\n",
        "    model.fit(Xtr_bs, ytr_bs) \n",
        "\n",
        "    # Predictions\n",
        "    y_hat = model.predict(Xts_bs)\n",
        "    \n",
        "    # Model evaluation ROC plots\n",
        "    y_prob = model.predict_proba(Xts_bs)\n",
        "    roc = ru.compute_roc(X=y_prob[:,1], y=yts_bs, pos_label=True)\n",
        "    rocs.append(roc)\n",
        "       \n",
        "\n",
        "ru.plot_mean_roc(rocs, show_ci=True)\n",
        "plt.title(\"Average ROC curve\");"
      ],
      "metadata": {
        "id": "VHSwbnncBOzl",
        "colab": {
          "base_uri": "https://localhost:8080/",
          "height": 750
        },
        "outputId": "499e6782-3a3b-4b30-e028-3f468318ffa5"
      },
      "execution_count": 842,
      "outputs": [
        {
          "output_type": "stream",
          "name": "stdout",
          "text": [
            "Looking in indexes: https://pypi.org/simple, https://us-python.pkg.dev/colab-wheels/public/simple/\n",
            "Requirement already satisfied: roc_utils in /usr/local/lib/python3.10/dist-packages (0.2.2)\n",
            "Requirement already satisfied: numpy in /usr/local/lib/python3.10/dist-packages (from roc_utils) (1.22.4)\n",
            "Requirement already satisfied: scipy in /usr/local/lib/python3.10/dist-packages (from roc_utils) (1.10.1)\n",
            "Requirement already satisfied: pandas in /usr/local/lib/python3.10/dist-packages (from roc_utils) (1.5.3)\n",
            "Requirement already satisfied: matplotlib in /usr/local/lib/python3.10/dist-packages (from roc_utils) (3.7.1)\n",
            "Requirement already satisfied: contourpy>=1.0.1 in /usr/local/lib/python3.10/dist-packages (from matplotlib->roc_utils) (1.0.7)\n",
            "Requirement already satisfied: cycler>=0.10 in /usr/local/lib/python3.10/dist-packages (from matplotlib->roc_utils) (0.11.0)\n",
            "Requirement already satisfied: fonttools>=4.22.0 in /usr/local/lib/python3.10/dist-packages (from matplotlib->roc_utils) (4.39.3)\n",
            "Requirement already satisfied: kiwisolver>=1.0.1 in /usr/local/lib/python3.10/dist-packages (from matplotlib->roc_utils) (1.4.4)\n",
            "Requirement already satisfied: packaging>=20.0 in /usr/local/lib/python3.10/dist-packages (from matplotlib->roc_utils) (23.1)\n",
            "Requirement already satisfied: pillow>=6.2.0 in /usr/local/lib/python3.10/dist-packages (from matplotlib->roc_utils) (8.4.0)\n",
            "Requirement already satisfied: pyparsing>=2.3.1 in /usr/local/lib/python3.10/dist-packages (from matplotlib->roc_utils) (3.0.9)\n",
            "Requirement already satisfied: python-dateutil>=2.7 in /usr/local/lib/python3.10/dist-packages (from matplotlib->roc_utils) (2.8.2)\n",
            "Requirement already satisfied: pytz>=2020.1 in /usr/local/lib/python3.10/dist-packages (from pandas->roc_utils) (2022.7.1)\n",
            "Requirement already satisfied: six>=1.5 in /usr/local/lib/python3.10/dist-packages (from python-dateutil>=2.7->matplotlib->roc_utils) (1.16.0)\n"
          ]
        },
        {
          "output_type": "display_data",
          "data": {
            "text/plain": [
              "<Figure size 640x480 with 1 Axes>"
            ],
            "image/png": "[encoded data removed]"
          },
          "metadata": {}
        }
      ]
    },
    {
      "cell_type": "markdown",
      "metadata": {
        "id": "c6l7ndzzHYAu"
      },
      "source": [
        "#####Confusion matrix"
      ]
    },
    {
      "cell_type": "code",
      "execution_count": 843,
      "metadata": {
        "id": "ZdzCPm1YHYAu",
        "colab": {
          "base_uri": "https://localhost:8080/",
          "height": 562
        },
        "outputId": "2e955159-99a6-4af2-c662-08f8132d5629"
      },
      "outputs": [
        {
          "output_type": "execute_result",
          "data": {
            "text/plain": [
              "Text(0.5, 427.9555555555555, 'Predicted label')"
            ]
          },
          "metadata": {},
          "execution_count": 843
        },
        {
          "output_type": "display_data",
          "data": {
            "text/plain": [
              "<Figure size 640x480 with 2 Axes>"
            ],
            "image/png": "[encoded data removed]"
          },
          "metadata": {}
        }
      ],
      "source": [
        "#Testing SVM\n",
        "model =svm.SVC(gamma='auto', C = 5, kernel = 'linear')\n",
        "\n",
        "# fit the model with data\n",
        "model.fit(X_train, y_train)\n",
        "y_pred = model.predict(X_test)\n",
        "\n",
        "# import the metrics class\n",
        "from sklearn import metrics\n",
        "cnf_matrix = metrics.confusion_matrix(y_test, y_pred)\n",
        "cnf_matrix\n",
        "\n",
        "# import required modules\n",
        "import numpy as np\n",
        "import matplotlib.pyplot as plt\n",
        "import seaborn as sns\n",
        "import warnings\n",
        "warnings.filterwarnings(\"ignore\") \n",
        "\n",
        "class_names=[0,1] # name  of classes\n",
        "fig, ax = plt.subplots()\n",
        "tick_marks = np.arange(len(class_names))\n",
        "plt.xticks(tick_marks, class_names)\n",
        "plt.yticks(tick_marks, class_names)\n",
        "# create heatmap\n",
        "sns.heatmap(pd.DataFrame(cnf_matrix), annot=True, cmap=\"YlGnBu\" ,fmt='g')\n",
        "ax.xaxis.set_label_position(\"top\")\n",
        "plt.tight_layout()\n",
        "plt.title('Confusion matrix', y=1.1)\n",
        "plt.ylabel('Actual label')\n",
        "plt.xlabel('Predicted label')"
      ]
    },
    {
      "cell_type": "markdown",
      "source": [
        "Training and testing error:"
      ],
      "metadata": {
        "id": "svI9KwdOBuJB"
      }
    },
    {
      "cell_type": "code",
      "execution_count": 844,
      "metadata": {
        "id": "8XccON1uHYAu",
        "colab": {
          "base_uri": "https://localhost:8080/"
        },
        "outputId": "5ad3e397-d266-4822-d002-9ebc530eb6e4"
      },
      "outputs": [
        {
          "output_type": "stream",
          "name": "stdout",
          "text": [
            "Training Error:  0.5677966101694916\n",
            "Testing Error:  0.7\n"
          ]
        }
      ],
      "source": [
        "model = svm.SVC(gamma='auto', C = 5, kernel = 'linear')\n",
        "\n",
        "# create and train your model\n",
        "\n",
        "model.fit(X_train, y_train)\n",
        "\n",
        "# make predictions on the training set\n",
        "y_train_pred = model.predict(X_train)\n",
        "\n",
        "# calculate the mean squared error of the training set predictions\n",
        "train_error = mean_squared_error(y_train, y_train_pred)\n",
        "\n",
        "# make predictions on the testing set\n",
        "y_test_pred = model.predict(X_test)\n",
        "\n",
        "# calculate the mean squared error of the testing set predictions\n",
        "test_error = mean_squared_error(y_test, y_test_pred)\n",
        "\n",
        "# print out the training and testing errors\n",
        "print(\"Training Error: \", train_error)\n",
        "print(\"Testing Error: \", test_error)\n",
        "import warnings\n",
        "warnings.filterwarnings(\"ignore\") "
      ]
    },
    {
      "cell_type": "markdown",
      "metadata": {
        "id": "i-IqlRNsSWTH"
      },
      "source": [
        "##### **Evaluation metrics using K-cross validation**"
      ]
    },
    {
      "cell_type": "markdown",
      "source": [
        "Next we have the evaluation metrics of one train-test split:"
      ],
      "metadata": {
        "id": "b7QXNlwtSWTP"
      }
    },
    {
      "cell_type": "code",
      "execution_count": 845,
      "metadata": {
        "id": "UU5E9wS-SWTQ",
        "colab": {
          "base_uri": "https://localhost:8080/"
        },
        "outputId": "2e24dc8e-05da-43dc-c1b1-b22534175c4a"
      },
      "outputs": [
        {
          "output_type": "stream",
          "name": "stdout",
          "text": [
            "The evaluation metrics of SVC(C=5, gamma='auto', kernel='linear') are:\n",
            "Accuracy: 0.6666666666666666\n",
            "Precision: 0.7013888888888888\n",
            "Recall: 0.6653198653198653\n",
            "F1-score: 0.6633986928104575\n"
          ]
        }
      ],
      "source": [
        "from sklearn.metrics import accuracy_score, precision_score, recall_score, f1_score\n",
        "import warnings\n",
        "warnings.filterwarnings(\"ignore\") \n",
        "\n",
        "#Separating the target variables (Masa_VAT_g and Vol_VAT) from the independent features\n",
        "target = [\"Masa_VAT_cat\"]\n",
        "X = dataPHY.values\n",
        "y = dataAP_cat[target].values\t\n",
        "\n",
        "from sklearn.model_selection import train_test_split\n",
        "\n",
        "# Splitting the data into training and testing data\n",
        "X_train, X_test, y_train, y_test = train_test_split(X, y, test_size=0.2, random_state=42)\n",
        "\n",
        "# Train your model\n",
        "model = svm.SVC(gamma='auto', C = 5, kernel = 'linear')\n",
        "model = model.fit(X_train,y_train)\n",
        "\n",
        "# Make predictions on the test data\n",
        "predicted_labels = model.predict(X_test)\n",
        "\n",
        "# EVALUATION METRICS\n",
        "\n",
        "# Calculate accuracy\n",
        "accuracy = accuracy_score(y_test, predicted_labels)\n",
        "\n",
        "# Calculate precision\n",
        "precision = precision_score(y_test, predicted_labels, average='macro')\n",
        "\n",
        "# Calculate recall\n",
        "recall = recall_score(y_test, predicted_labels, average='macro')\n",
        "\n",
        "# Calculate F1-score\n",
        "f1 = f1_score(y_test, predicted_labels, average='macro')\n",
        "\n",
        "# Print the evaluation metrics\n",
        "print(\"The evaluation metrics of\", model, \"are:\")\n",
        "print('Accuracy:', accuracy)\n",
        "print('Precision:', precision)\n",
        "print('Recall:', recall)\n",
        "print('F1-score:', f1)\n"
      ]
    },
    {
      "cell_type": "markdown",
      "source": [
        "**Here we have the evaluation metrics using k-cross validation**"
      ],
      "metadata": {
        "id": "PPcHPQxDSWTQ"
      }
    },
    {
      "cell_type": "code",
      "source": [
        "from sklearn.metrics import accuracy_score, precision_score, recall_score, f1_score\n",
        "from sklearn.model_selection import cross_val_score\n",
        "from sklearn.model_selection import StratifiedKFold\n",
        "from sklearn.linear_model import LogisticRegression\n",
        "import warnings\n",
        "warnings.filterwarnings(\"ignore\") \n",
        "\n",
        "#Separating the target variables (Masa_VAT_g and Vol_VAT) from the independent features\n",
        "target = [\"Masa_VAT_cat\"]\n",
        "X = dataPHY.values\n",
        "y = dataAP_cat[target].values\t\n",
        "\n",
        "from sklearn.model_selection import train_test_split\n",
        "\n",
        "# Splitting the data into training and testing data\n",
        "X_train, X_test, y_train, y_test = train_test_split(X, y, test_size=0.2, random_state=42)\n",
        "\n",
        "# Train your model\n",
        "model = svm.SVC(gamma='auto', C = 5, kernel = 'linear')\n",
        "model = model.fit(X_train,y_train)\n",
        "\n",
        "# Initialize the k-fold cross-validation object\n",
        "k = 10  # Define the number of folds\n",
        "kf = StratifiedKFold(n_splits=k, shuffle=True, random_state=42)\n",
        "\n",
        "# Lists to store the evaluation metrics for each fold\n",
        "accuracy_scores = []\n",
        "precision_scores = []\n",
        "recall_scores = []\n",
        "f1_scores = []\n",
        "\n",
        "# Perform k-fold cross-validation\n",
        "for train_index, test_index in kf.split(X, y):\n",
        "    X_train, X_test = X[train_index], X[test_index]\n",
        "    y_train, y_test = y[train_index], y[test_index]\n",
        "\n",
        "    # Train the model\n",
        "    model.fit(X_train, y_train)\n",
        "\n",
        "    # Make predictions on the test data\n",
        "    predicted_labels = model.predict(X_test)\n",
        "\n",
        "    # Calculate evaluation metrics for the current fold\n",
        "    accuracy_scores.append(accuracy_score(y_test, predicted_labels))\n",
        "    precision_scores.append(precision_score(y_test, predicted_labels, average='macro'))\n",
        "    recall_scores.append(recall_score(y_test, predicted_labels, average='macro'))\n",
        "    f1_scores.append(f1_score(y_test, predicted_labels, average='macro'))\n",
        "\n",
        "# Print the average evaluation metrics\n",
        "print(\"The average evaluation metrics are:\")\n",
        "print('Accuracy:', sum(accuracy_scores) / k)\n",
        "print('Precision:', sum(precision_scores) / k)\n",
        "print('Recall:', sum(recall_scores) / k)\n",
        "print('F1-score:', sum(f1_scores) / k)"
      ],
      "metadata": {
        "id": "s9TxjZvCSWTQ",
        "colab": {
          "base_uri": "https://localhost:8080/"
        },
        "outputId": "0783bf04-ad9b-4205-d73d-69ea5a4c52d6"
      },
      "execution_count": 846,
      "outputs": [
        {
          "output_type": "stream",
          "name": "stdout",
          "text": [
            "The average evaluation metrics are:\n",
            "Accuracy: 0.4861904761904762\n",
            "Precision: 0.5048280423280423\n",
            "Recall: 0.48611111111111105\n",
            "F1-score: 0.4703169053169053\n"
          ]
        }
      ]
    },
    {
      "cell_type": "markdown",
      "metadata": {
        "id": "3ReYiUukHYAv"
      },
      "source": [
        "###K-nearest neighbors "
      ]
    },
    {
      "cell_type": "markdown",
      "metadata": {
        "id": "v9cz54GrHYAv"
      },
      "source": [
        "We define the model:"
      ]
    },
    {
      "cell_type": "code",
      "execution_count": 847,
      "metadata": {
        "id": "it6nXl_hHYAv"
      },
      "outputs": [],
      "source": [
        "#FIRST\n",
        "#We divide the data between train and testing data:\n",
        "\n",
        "from sklearn.feature_selection import SelectFwe, chi2\n",
        "from sklearn import datasets, linear_model\n",
        "from sklearn.feature_selection import SelectPercentile, chi2\n",
        "\n",
        "#Separating the target variables (Masa_VAT_g and Vol_VAT) from the independent features\n",
        "target = [\"Masa_VAT_cat\"]\n",
        "X = dataPHY.values\n",
        "y = dataAP_cat[target].values\t\n",
        "\n",
        "from sklearn.model_selection import train_test_split\n",
        "\n",
        "# Splitting the data into training and testing data\n",
        "X_train, X_test, y_train, y_test = train_test_split(X, y, test_size=0.2, random_state=42)\n",
        "\n",
        "clf =  KNeighborsClassifier(algorithm = 'auto', n_neighbors= 10, weights= 'uniform')\n",
        "#RandomForestClassifier(SelectFwe(SelectPercentile(\"input_matrix\", percentile=73), alpha=0.025), bootstrap=True, criterion=\"entropy\", max_features=0.3, min_samples_leaf=4, min_samples_split=17, n_estimators=100)\n",
        "# \n",
        "clf = clf.fit(X_train,y_train.ravel())"
      ]
    },
    {
      "cell_type": "markdown",
      "metadata": {
        "id": "7Q5EA3MFHYAv"
      },
      "source": [
        "##### **Mean ROC curve**"
      ]
    },
    {
      "cell_type": "code",
      "source": [
        "from sklearn import preprocessing\n",
        "from sklearn.pipeline import make_pipeline\n",
        "from sklearn.metrics import precision_score, accuracy_score, recall_score\n",
        "from sklearn.utils import resample\n",
        "!pip3 install roc_utils\n",
        "import roc_utils as ru\n",
        "import warnings\n",
        "warnings.filterwarnings(\"ignore\") \n",
        "\n",
        "# Generating 100 models and predicting 100 test sets using bootstrapping:\n",
        "rocs = []\n",
        "n_iterations = 100\n",
        "for i in range(n_iterations):\n",
        "    # Train test split\n",
        "    X_train, X_test, y_train, y_test = train_test_split(X,y, test_size=0.2, stratify = y, random_state=i)\n",
        "\n",
        "    # Scaling the data\n",
        "    scaler = preprocessing.StandardScaler()\n",
        "    X_train_scaled = scaler.fit_transform(X_train)\n",
        "    X_test_scaled = scaler.transform(X_test)\n",
        "\n",
        "    # Resampling\n",
        "    Xtr_bs, ytr_bs = resample(X_train_scaled, y_train, replace=True, random_state=i) \n",
        "    Xts_bs, yts_bs = resample(X_test_scaled, y_test, replace=True, random_state=i) \n",
        "    \n",
        "    # Asjusting the model to a training dataset\n",
        "    model = KNeighborsClassifier(algorithm = 'auto', n_neighbors= 10, weights= 'uniform')\n",
        "    model.fit(Xtr_bs, ytr_bs) \n",
        "    \n",
        "    \n",
        "    # Predictions\n",
        "    y_hat = model.predict(Xts_bs)\n",
        "    \n",
        "    # Model evaluation ROC plots\n",
        "    y_prob = model.predict_proba(Xts_bs)\n",
        "    roc = ru.compute_roc(X=y_prob[:,1], y=yts_bs, pos_label=True)\n",
        "    rocs.append(roc)\n",
        "       \n",
        "\n",
        "ru.plot_mean_roc(rocs, show_ci=True)\n",
        "plt.title(\"Average ROC curve\");"
      ],
      "metadata": {
        "id": "DdOoej4LBxno",
        "colab": {
          "base_uri": "https://localhost:8080/",
          "height": 750
        },
        "outputId": "2317d51a-2a7c-45df-8696-7cd5b21b463a"
      },
      "execution_count": 848,
      "outputs": [
        {
          "output_type": "stream",
          "name": "stdout",
          "text": [
            "Looking in indexes: https://pypi.org/simple, https://us-python.pkg.dev/colab-wheels/public/simple/\n",
            "Requirement already satisfied: roc_utils in /usr/local/lib/python3.10/dist-packages (0.2.2)\n",
            "Requirement already satisfied: numpy in /usr/local/lib/python3.10/dist-packages (from roc_utils) (1.22.4)\n",
            "Requirement already satisfied: scipy in /usr/local/lib/python3.10/dist-packages (from roc_utils) (1.10.1)\n",
            "Requirement already satisfied: pandas in /usr/local/lib/python3.10/dist-packages (from roc_utils) (1.5.3)\n",
            "Requirement already satisfied: matplotlib in /usr/local/lib/python3.10/dist-packages (from roc_utils) (3.7.1)\n",
            "Requirement already satisfied: contourpy>=1.0.1 in /usr/local/lib/python3.10/dist-packages (from matplotlib->roc_utils) (1.0.7)\n",
            "Requirement already satisfied: cycler>=0.10 in /usr/local/lib/python3.10/dist-packages (from matplotlib->roc_utils) (0.11.0)\n",
            "Requirement already satisfied: fonttools>=4.22.0 in /usr/local/lib/python3.10/dist-packages (from matplotlib->roc_utils) (4.39.3)\n",
            "Requirement already satisfied: kiwisolver>=1.0.1 in /usr/local/lib/python3.10/dist-packages (from matplotlib->roc_utils) (1.4.4)\n",
            "Requirement already satisfied: packaging>=20.0 in /usr/local/lib/python3.10/dist-packages (from matplotlib->roc_utils) (23.1)\n",
            "Requirement already satisfied: pillow>=6.2.0 in /usr/local/lib/python3.10/dist-packages (from matplotlib->roc_utils) (8.4.0)\n",
            "Requirement already satisfied: pyparsing>=2.3.1 in /usr/local/lib/python3.10/dist-packages (from matplotlib->roc_utils) (3.0.9)\n",
            "Requirement already satisfied: python-dateutil>=2.7 in /usr/local/lib/python3.10/dist-packages (from matplotlib->roc_utils) (2.8.2)\n",
            "Requirement already satisfied: pytz>=2020.1 in /usr/local/lib/python3.10/dist-packages (from pandas->roc_utils) (2022.7.1)\n",
            "Requirement already satisfied: six>=1.5 in /usr/local/lib/python3.10/dist-packages (from python-dateutil>=2.7->matplotlib->roc_utils) (1.16.0)\n"
          ]
        },
        {
          "output_type": "display_data",
          "data": {
            "text/plain": [
              "<Figure size 640x480 with 1 Axes>"
            ],
            "image/png": "[encoded data removed]"
          },
          "metadata": {}
        }
      ]
    },
    {
      "cell_type": "markdown",
      "metadata": {
        "id": "rKHLb0fzHYAv"
      },
      "source": [
        "#####Confusion matrix"
      ]
    },
    {
      "cell_type": "code",
      "execution_count": 849,
      "metadata": {
        "id": "IRKjJFqgHYAw",
        "colab": {
          "base_uri": "https://localhost:8080/",
          "height": 562
        },
        "outputId": "474086d2-4e65-4bfa-e1c8-2740d22293c9"
      },
      "outputs": [
        {
          "output_type": "execute_result",
          "data": {
            "text/plain": [
              "Text(0.5, 427.9555555555555, 'Predicted label')"
            ]
          },
          "metadata": {},
          "execution_count": 849
        },
        {
          "output_type": "display_data",
          "data": {
            "text/plain": [
              "<Figure size 640x480 with 2 Axes>"
            ],
            "image/png": "[encoded data removed]"
          },
          "metadata": {}
        }
      ],
      "source": [
        "#Testing Logistic regression\n",
        "model = KNeighborsClassifier(algorithm = 'auto', n_neighbors= 10, weights= 'uniform')\n",
        "\n",
        "# fit the model with data\n",
        "model.fit(X_train, y_train)\n",
        "y_pred = model.predict(X_test)\n",
        "\n",
        "# import the metrics class\n",
        "from sklearn import metrics\n",
        "cnf_matrix = metrics.confusion_matrix(y_test, y_pred)\n",
        "cnf_matrix\n",
        "\n",
        "# import required modules\n",
        "import numpy as np\n",
        "import matplotlib.pyplot as plt\n",
        "import seaborn as sns\n",
        "import warnings\n",
        "warnings.filterwarnings(\"ignore\") \n",
        "\n",
        "class_names=[0,1] # name  of classes\n",
        "fig, ax = plt.subplots()\n",
        "tick_marks = np.arange(len(class_names))\n",
        "plt.xticks(tick_marks, class_names)\n",
        "plt.yticks(tick_marks, class_names)\n",
        "# create heatmap\n",
        "sns.heatmap(pd.DataFrame(cnf_matrix), annot=True, cmap=\"YlGnBu\" ,fmt='g')\n",
        "ax.xaxis.set_label_position(\"top\")\n",
        "plt.tight_layout()\n",
        "plt.title('Confusion matrix', y=1.1)\n",
        "plt.ylabel('Actual label')\n",
        "plt.xlabel('Predicted label')"
      ]
    },
    {
      "cell_type": "markdown",
      "source": [
        "Training and testing error:"
      ],
      "metadata": {
        "id": "4VAHMDkfChfV"
      }
    },
    {
      "cell_type": "code",
      "execution_count": 850,
      "metadata": {
        "id": "YJD6V4qxHYAw",
        "colab": {
          "base_uri": "https://localhost:8080/"
        },
        "outputId": "dc54d835-538c-4c23-9389-61d747241ee7"
      },
      "outputs": [
        {
          "output_type": "stream",
          "name": "stdout",
          "text": [
            "Training Error:  0.8135593220338984\n",
            "Testing Error:  1.0333333333333334\n"
          ]
        }
      ],
      "source": [
        "model = KNeighborsClassifier(algorithm = 'auto', n_neighbors= 10, weights= 'uniform')\n",
        "\n",
        "# create and train your model\n",
        "\n",
        "model.fit(X_train, y_train)\n",
        "\n",
        "# make predictions on the training set\n",
        "y_train_pred = model.predict(X_train)\n",
        "\n",
        "# calculate the mean squared error of the training set predictions\n",
        "train_error = mean_squared_error(y_train, y_train_pred)\n",
        "\n",
        "# make predictions on the testing set\n",
        "y_test_pred = model.predict(X_test)\n",
        "\n",
        "# calculate the mean squared error of the testing set predictions\n",
        "test_error = mean_squared_error(y_test, y_test_pred)\n",
        "\n",
        "# print out the training and testing errors\n",
        "print(\"Training Error: \", train_error)\n",
        "print(\"Testing Error: \", test_error)"
      ]
    },
    {
      "cell_type": "markdown",
      "metadata": {
        "id": "Dxm0cCKRSoXD"
      },
      "source": [
        "##### **Evaluation metrics using K-cross validation**"
      ]
    },
    {
      "cell_type": "markdown",
      "source": [
        "Next we have the evaluation metrics of one train-test split:"
      ],
      "metadata": {
        "id": "4801bzyJSoXD"
      }
    },
    {
      "cell_type": "code",
      "execution_count": 851,
      "metadata": {
        "id": "JtO0VnRtSoXD",
        "colab": {
          "base_uri": "https://localhost:8080/"
        },
        "outputId": "44ca3070-0525-4304-fc7a-f91fa9ae1e51"
      },
      "outputs": [
        {
          "output_type": "stream",
          "name": "stdout",
          "text": [
            "The evaluation metrics of KNeighborsClassifier(n_neighbors=10) are:\n",
            "Accuracy: 0.6333333333333333\n",
            "Precision: 0.6444444444444444\n",
            "Recall: 0.6356902356902357\n",
            "F1-score: 0.5873015873015873\n"
          ]
        }
      ],
      "source": [
        "from sklearn.metrics import accuracy_score, precision_score, recall_score, f1_score\n",
        "import warnings\n",
        "warnings.filterwarnings(\"ignore\") \n",
        "\n",
        "#Separating the target variables (Masa_VAT_g and Vol_VAT) from the independent features\n",
        "target = [\"Masa_VAT_cat\"]\n",
        "X = dataPHY.values\n",
        "y = dataAP_cat[target].values\t\n",
        "\n",
        "from sklearn.model_selection import train_test_split\n",
        "\n",
        "# Splitting the data into training and testing data\n",
        "X_train, X_test, y_train, y_test = train_test_split(X, y, test_size=0.2, random_state=42)\n",
        "\n",
        "# Train your model\n",
        "model =KNeighborsClassifier(algorithm = 'auto', n_neighbors= 10, weights= 'uniform')\n",
        "model = model.fit(X_train,y_train)\n",
        "\n",
        "# Make predictions on the test data\n",
        "predicted_labels = model.predict(X_test)\n",
        "\n",
        "# EVALUATION METRICS\n",
        "\n",
        "# Calculate accuracy\n",
        "accuracy = accuracy_score(y_test, predicted_labels)\n",
        "\n",
        "# Calculate precision\n",
        "precision = precision_score(y_test, predicted_labels, average='macro')\n",
        "\n",
        "# Calculate recall\n",
        "recall = recall_score(y_test, predicted_labels, average='macro')\n",
        "\n",
        "# Calculate F1-score\n",
        "f1 = f1_score(y_test, predicted_labels, average='macro')\n",
        "\n",
        "# Print the evaluation metrics\n",
        "print(\"The evaluation metrics of\", model, \"are:\")\n",
        "print('Accuracy:', accuracy)\n",
        "print('Precision:', precision)\n",
        "print('Recall:', recall)\n",
        "print('F1-score:', f1)\n"
      ]
    },
    {
      "cell_type": "markdown",
      "source": [
        "**Here we have the evaluation metrics using k-cross validation**"
      ],
      "metadata": {
        "id": "mP2H9zuzSoXD"
      }
    },
    {
      "cell_type": "code",
      "source": [
        "from sklearn.metrics import accuracy_score, precision_score, recall_score, f1_score\n",
        "from sklearn.model_selection import cross_val_score\n",
        "from sklearn.model_selection import StratifiedKFold\n",
        "from sklearn.linear_model import LogisticRegression\n",
        "import warnings\n",
        "warnings.filterwarnings(\"ignore\") \n",
        "\n",
        "\n",
        "#Separating the target variables (Masa_VAT_g and Vol_VAT) from the independent features\n",
        "target = [\"Masa_VAT_cat\"]\n",
        "X = dataPHY.values\n",
        "y = dataAP_cat[target].values\t\n",
        "\n",
        "from sklearn.model_selection import train_test_split\n",
        "\n",
        "# Splitting the data into training and testing data\n",
        "X_train, X_test, y_train, y_test = train_test_split(X, y, test_size=0.2, random_state=42)\n",
        "\n",
        "# Train your model\n",
        "model =KNeighborsClassifier(algorithm = 'auto', n_neighbors= 10, weights= 'uniform')\n",
        "model = model.fit(X_train,y_train)\n",
        "\n",
        "# Make predictions on the test data\n",
        "predicted_labels = model.predict(X_test)\n",
        "# Initialize the k-fold cross-validation object\n",
        "k = 10  # Define the number of folds\n",
        "kf = StratifiedKFold(n_splits=k, shuffle=True, random_state=42)\n",
        "\n",
        "# Lists to store the evaluation metrics for each fold\n",
        "accuracy_scores = []\n",
        "precision_scores = []\n",
        "recall_scores = []\n",
        "f1_scores = []\n",
        "\n",
        "# Perform k-fold cross-validation\n",
        "for train_index, test_index in kf.split(X, y):\n",
        "    X_train, X_test = X[train_index], X[test_index]\n",
        "    y_train, y_test = y[train_index], y[test_index]\n",
        "\n",
        "    # Train the model\n",
        "    model.fit(X_train, y_train)\n",
        "\n",
        "    # Make predictions on the test data\n",
        "    predicted_labels = model.predict(X_test)\n",
        "\n",
        "    # Calculate evaluation metrics for the current fold\n",
        "    accuracy_scores.append(accuracy_score(y_test, predicted_labels))\n",
        "    precision_scores.append(precision_score(y_test, predicted_labels, average='macro'))\n",
        "    recall_scores.append(recall_score(y_test, predicted_labels, average='macro'))\n",
        "    f1_scores.append(f1_score(y_test, predicted_labels, average='macro'))\n",
        "\n",
        "# Print the average evaluation metrics\n",
        "print(\"The average evaluation metrics are:\")\n",
        "print('Accuracy:', sum(accuracy_scores) / k)\n",
        "print('Precision:', sum(precision_scores) / k)\n",
        "print('Recall:', sum(recall_scores) / k)\n",
        "print('F1-score:', sum(f1_scores) / k)"
      ],
      "metadata": {
        "id": "J0QBLRVTSoXE",
        "colab": {
          "base_uri": "https://localhost:8080/"
        },
        "outputId": "d32288a6-bca2-491f-ef49-704e3847b17c"
      },
      "execution_count": 852,
      "outputs": [
        {
          "output_type": "stream",
          "name": "stdout",
          "text": [
            "The average evaluation metrics are:\n",
            "Accuracy: 0.4723809523809524\n",
            "Precision: 0.44839105339105334\n",
            "Recall: 0.4738888888888889\n",
            "F1-score: 0.42598383098383097\n"
          ]
        }
      ]
    },
    {
      "cell_type": "markdown",
      "metadata": {
        "id": "IQmI7wmuJsnj"
      },
      "source": [
        "## DataALL"
      ]
    },
    {
      "cell_type": "markdown",
      "metadata": {
        "id": "_45u94YJKcZ9"
      },
      "source": [
        "- dataALL: dataframe that contains both dataAP and dataPHY."
      ]
    },
    {
      "cell_type": "markdown",
      "metadata": {
        "id": "JQj_5E9bKcZ-"
      },
      "source": [
        "### Using Grid Search to find the best model and hyper parameter tuning"
      ]
    },
    {
      "cell_type": "markdown",
      "metadata": {
        "id": "v4PvWayIKcZ-"
      },
      "source": [
        "The models whose best hyperparameters we want to find are the following:\n",
        "- Logistic Regression\n",
        "- K-Nearest Neighbours\n",
        "- Support Vector Machines\n",
        "- Naïve Bayes\n",
        "- Decision Tree Classification\n",
        "- Random Forest Classification"
      ]
    },
    {
      "cell_type": "markdown",
      "metadata": {
        "id": "_smhCMcMKcZ-"
      },
      "source": [
        "First we define each model and their corresponding possible parameters:"
      ]
    },
    {
      "cell_type": "code",
      "execution_count": 853,
      "metadata": {
        "id": "Wr6y3KAkKcZ-"
      },
      "outputs": [],
      "source": [
        "from sklearn import svm\n",
        "from sklearn.svm import SVC\n",
        "from sklearn.ensemble import RandomForestClassifier\n",
        "from sklearn.linear_model import LogisticRegression\n",
        "from sklearn.neighbors import KNeighborsClassifier\n",
        "from sklearn.naive_bayes import GaussianNB\n",
        "from sklearn.tree import DecisionTreeClassifier\n",
        "from sklearn.ensemble import RandomForestClassifier\n",
        "\n",
        "\n",
        "#Define a simple Python dictionary and let's try the models stated before. (LR, KNn, SVM, Kernel SVM, NB, DTC, RFC)\n",
        "\n",
        "model_params = {\n",
        "     'logistic_regression' : {\n",
        "         'model': LogisticRegression(),\n",
        "         'params': {\n",
        "             'solver': ['liblinear', 'newton-cg', 'newton-cholesky', 'sag', 'saga'],\n",
        "             'C': [1,5,10,20],\n",
        "             'penalty' : ['l1', 'l2', 'elasticnet'],\n",
        "         }\n",
        "     },\n",
        "     'Knn': {\n",
        "        'model': KNeighborsClassifier(),\n",
        "        'params' : {\n",
        "            'n_neighbors': [5,10,20,50],\n",
        "            'weights' : ['uniform', 'distance'],\n",
        "            'algorithm' : ['auto', 'ball_tree', 'kd_tree', 'brute'],\n",
        "\n",
        "        }\n",
        "    },\n",
        "    'svm': {\n",
        "        'model': svm.SVC(gamma='auto'),\n",
        "        'params' : {\n",
        "            'C': [5,10,20],\n",
        "            'kernel': ['rbf','linear'],\n",
        "        }\n",
        "    },\n",
        "    \n",
        "    'Naive_Bayes': {\n",
        "        'model': GaussianNB(),\n",
        "        'params' : {\n",
        "            'var_smoothing' : [1e-09,1e-12,1e-06],\n",
        "            \n",
        "        }\n",
        "    },\n",
        "    \n",
        "    'Decision_tree': {\n",
        "        'model': DecisionTreeClassifier(),\n",
        "        'params' : {\n",
        "            'criterion' : ['gini', 'entropy', 'log_loss'],\n",
        "            'max_depth' : [0.5,3,4,5,15,20],\n",
        "\n",
        "        }\n",
        "    },\n",
        "     'random_forest': {\n",
        "        'model': RandomForestClassifier(),\n",
        "        'params' : {\n",
        "            'criterion' : ['gini', 'entropy', 'log_loss'],\n",
        "            'n_estimators': [1,5,10],\n",
        "        }\n",
        "    }\n",
        "}"
      ]
    },
    {
      "cell_type": "markdown",
      "metadata": {
        "id": "6-a-9_0jKcZ_"
      },
      "source": [
        "Next we will evaluate these models using GridSearchCV from Sklearn to find the score of each of the models and their best combinations for their parameters."
      ]
    },
    {
      "cell_type": "code",
      "execution_count": 854,
      "metadata": {
        "id": "J0UNJk4LKcZ_",
        "colab": {
          "base_uri": "https://localhost:8080/",
          "height": 238
        },
        "outputId": "bda3fd61-11cd-47d2-9ea9-ac358c4c4b38"
      },
      "outputs": [
        {
          "output_type": "execute_result",
          "data": {
            "text/plain": [
              "                 model  best_score  \\\n",
              "0  logistic_regression    0.630115   \n",
              "1                  Knn    0.540460   \n",
              "2                  svm    0.623448   \n",
              "3          Naive_Bayes    0.555402   \n",
              "4        Decision_tree    0.479770   \n",
              "5        random_forest    0.479770   \n",
              "\n",
              "                                         best_params  \n",
              "0  {'C': 10, 'penalty': 'l2', 'solver': 'newton-cg'}  \n",
              "1  {'algorithm': 'auto', 'n_neighbors': 10, 'weig...  \n",
              "2                      {'C': 20, 'kernel': 'linear'}  \n",
              "3                           {'var_smoothing': 1e-09}  \n",
              "4              {'criterion': 'gini', 'max_depth': 3}  \n",
              "5       {'criterion': 'entropy', 'n_estimators': 10}  "
            ],
            "text/html": [
              "\n",
              "  <div id=\"df-9f1d8d70-1c86-4323-8f71-69d8e5ef129f\">\n",
              "    <div class=\"colab-df-container\">\n",
              "      <div>\n",
              "<style scoped>\n",
              "    .dataframe tbody tr th:only-of-type {\n",
              "        vertical-align: middle;\n",
              "    }\n",
              "\n",
              "    .dataframe tbody tr th {\n",
              "        vertical-align: top;\n",
              "    }\n",
              "\n",
              "    .dataframe thead th {\n",
              "        text-align: right;\n",
              "    }\n",
              "</style>\n",
              "<table border=\"1\" class=\"dataframe\">\n",
              "  <thead>\n",
              "    <tr style=\"text-align: right;\">\n",
              "      <th></th>\n",
              "      <th>model</th>\n",
              "      <th>best_score</th>\n",
              "      <th>best_params</th>\n",
              "    </tr>\n",
              "  </thead>\n",
              "  <tbody>\n",
              "    <tr>\n",
              "      <th>0</th>\n",
              "      <td>logistic_regression</td>\n",
              "      <td>0.630115</td>\n",
              "      <td>{'C': 10, 'penalty': 'l2', 'solver': 'newton-cg'}</td>\n",
              "    </tr>\n",
              "    <tr>\n",
              "      <th>1</th>\n",
              "      <td>Knn</td>\n",
              "      <td>0.540460</td>\n",
              "      <td>{'algorithm': 'auto', 'n_neighbors': 10, 'weig...</td>\n",
              "    </tr>\n",
              "    <tr>\n",
              "      <th>2</th>\n",
              "      <td>svm</td>\n",
              "      <td>0.623448</td>\n",
              "      <td>{'C': 20, 'kernel': 'linear'}</td>\n",
              "    </tr>\n",
              "    <tr>\n",
              "      <th>3</th>\n",
              "      <td>Naive_Bayes</td>\n",
              "      <td>0.555402</td>\n",
              "      <td>{'var_smoothing': 1e-09}</td>\n",
              "    </tr>\n",
              "    <tr>\n",
              "      <th>4</th>\n",
              "      <td>Decision_tree</td>\n",
              "      <td>0.479770</td>\n",
              "      <td>{'criterion': 'gini', 'max_depth': 3}</td>\n",
              "    </tr>\n",
              "    <tr>\n",
              "      <th>5</th>\n",
              "      <td>random_forest</td>\n",
              "      <td>0.479770</td>\n",
              "      <td>{'criterion': 'entropy', 'n_estimators': 10}</td>\n",
              "    </tr>\n",
              "  </tbody>\n",
              "</table>\n",
              "</div>\n",
              "      <button class=\"colab-df-convert\" onclick=\"convertToInteractive('df-9f1d8d70-1c86-4323-8f71-69d8e5ef129f')\"\n",
              "              title=\"Convert this dataframe to an interactive table.\"\n",
              "              style=\"display:none;\">\n",
              "        \n",
              "  <svg xmlns=\"http://www.w3.org/2000/svg\" height=\"24px\"viewBox=\"0 0 24 24\"\n",
              "       width=\"24px\">\n",
              "    <path d=\"M0 0h24v24H0V0z\" fill=\"none\"/>\n",
              "    <path d=\"M18.56 5.44l.94 2.06.94-2.06 2.06-.94-2.06-.94-.94-2.06-.94 2.06-2.06.94zm-11 1L8.5 8.5l.94-2.06 2.06-.94-2.06-.94L8.5 2.5l-.94 2.06-2.06.94zm10 10l.94 2.06.94-2.06 2.06-.94-2.06-.94-.94-2.06-.94 2.06-2.06.94z\"/><path d=\"M17.41 7.96l-1.37-1.37c-.4-.4-.92-.59-1.43-.59-.52 0-1.04.2-1.43.59L10.3 9.45l-7.72 7.72c-.78.78-.78 2.05 0 2.83L4 21.41c.39.39.9.59 1.41.59.51 0 1.02-.2 1.41-.59l7.78-7.78 2.81-2.81c.8-.78.8-2.07 0-2.86zM5.41 20L4 18.59l7.72-7.72 1.47 1.35L5.41 20z\"/>\n",
              "  </svg>\n",
              "      </button>\n",
              "      \n",
              "  <style>\n",
              "    .colab-df-container {\n",
              "      display:flex;\n",
              "      flex-wrap:wrap;\n",
              "      gap: 12px;\n",
              "    }\n",
              "\n",
              "    .colab-df-convert {\n",
              "      background-color: #E8F0FE;\n",
              "      border: none;\n",
              "      border-radius: 50%;\n",
              "      cursor: pointer;\n",
              "      display: none;\n",
              "      fill: #1967D2;\n",
              "      height: 32px;\n",
              "      padding: 0 0 0 0;\n",
              "      width: 32px;\n",
              "    }\n",
              "\n",
              "    .colab-df-convert:hover {\n",
              "      background-color: #E2EBFA;\n",
              "      box-shadow: 0px 1px 2px rgba(60, 64, 67, 0.3), 0px 1px 3px 1px rgba(60, 64, 67, 0.15);\n",
              "      fill: #174EA6;\n",
              "    }\n",
              "\n",
              "    [theme=dark] .colab-df-convert {\n",
              "      background-color: #3B4455;\n",
              "      fill: #D2E3FC;\n",
              "    }\n",
              "\n",
              "    [theme=dark] .colab-df-convert:hover {\n",
              "      background-color: #434B5C;\n",
              "      box-shadow: 0px 1px 3px 1px rgba(0, 0, 0, 0.15);\n",
              "      filter: drop-shadow(0px 1px 2px rgba(0, 0, 0, 0.3));\n",
              "      fill: #FFFFFF;\n",
              "    }\n",
              "  </style>\n",
              "\n",
              "      <script>\n",
              "        const buttonEl =\n",
              "          document.querySelector('#df-9f1d8d70-1c86-4323-8f71-69d8e5ef129f button.colab-df-convert');\n",
              "        buttonEl.style.display =\n",
              "          google.colab.kernel.accessAllowed ? 'block' : 'none';\n",
              "\n",
              "        async function convertToInteractive(key) {\n",
              "          const element = document.querySelector('#df-9f1d8d70-1c86-4323-8f71-69d8e5ef129f');\n",
              "          const dataTable =\n",
              "            await google.colab.kernel.invokeFunction('convertToInteractive',\n",
              "                                                     [key], {});\n",
              "          if (!dataTable) return;\n",
              "\n",
              "          const docLinkHtml = 'Like what you see? Visit the ' +\n",
              "            '<a target=\"_blank\" href=https://colab.research.google.com/notebooks/data_table.ipynb>data table notebook</a>'\n",
              "            + ' to learn more about interactive tables.';\n",
              "          element.innerHTML = '';\n",
              "          dataTable['output_type'] = 'display_data';\n",
              "          await google.colab.output.renderOutput(dataTable, element);\n",
              "          const docLink = document.createElement('div');\n",
              "          docLink.innerHTML = docLinkHtml;\n",
              "          element.appendChild(docLink);\n",
              "        }\n",
              "      </script>\n",
              "    </div>\n",
              "  </div>\n",
              "  "
            ]
          },
          "metadata": {},
          "execution_count": 854
        }
      ],
      "source": [
        "target = dataALL[\"Masa_VAT_cat\"]\n",
        "drop = [\"Masa_VAT_g\", \"Vol_VAT\", \"Masa_VAT_cat\"]\n",
        "data_target = dataALL.copy()\n",
        "data_target = data_target.drop(drop, axis=1)\n",
        "\n",
        "from sklearn.model_selection import GridSearchCV\n",
        "import warnings\n",
        "warnings.filterwarnings(\"ignore\") \n",
        "\n",
        "scores = []\n",
        "\n",
        "#The following for loop is doing nothing but going throught the dictionary previously defined and for each of the value in the dictionary it will apply the GridSearchCV\n",
        "for model_name, mp in model_params.items():\n",
        "    clf =  GridSearchCV(mp['model'], mp['params'], cv=5, return_train_score=False)\n",
        "    clf.fit(data_target, target)\n",
        "    scores.append({\n",
        "        'model': model_name,\n",
        "        'best_score': clf.best_score_,\n",
        "        'best_params': clf.best_params_\n",
        "    })\n",
        "    \n",
        "df = pd.DataFrame(scores,columns=['model','best_score','best_params'])\n",
        "df"
      ]
    },
    {
      "cell_type": "markdown",
      "metadata": {
        "id": "PPjUiL7uDhPB"
      },
      "source": [
        "The best results are from the following models:\n",
        "- Logistic regression classifier \n",
        "- Support Vector machine classifier\n",
        "- Naive_Bayes classifier\n",
        "\n",
        "To choose one of these models first we have to validate them."
      ]
    },
    {
      "cell_type": "code",
      "execution_count": 855,
      "metadata": {
        "id": "29kTB1LPDhPH"
      },
      "outputs": [],
      "source": [
        "#FIRST\n",
        "#We divide the data between train and testing data:\n",
        "\n",
        "from sklearn import datasets, linear_model\n",
        "\n",
        "#Separating the target variables (Masa_VAT_g and Vol_VAT) from the independent features\n",
        "target = [\"Masa_VAT_cat\"]\n",
        "drop=[\"Masa_VAT_cat\", \"Masa_VAT_g\", \"Vol_VAT\"]\n",
        "X = dataALL.drop(drop, axis=1).values\n",
        "y = dataAP_cat[target].values\t\n",
        "\n",
        "from sklearn.model_selection import train_test_split\n",
        "\n",
        "# Splitting the data into training and testing data\n",
        "X_train, X_test, y_train, y_test = train_test_split(X, y, test_size=0.2, random_state=42)"
      ]
    },
    {
      "cell_type": "markdown",
      "metadata": {
        "id": "eo1uUyCWDhPH"
      },
      "source": [
        "AUTOMATIC WAY TO MEASURE ACCURACIES:"
      ]
    },
    {
      "cell_type": "code",
      "execution_count": 856,
      "metadata": {
        "id": "j8s0QwfNDhPI",
        "colab": {
          "base_uri": "https://localhost:8080/",
          "height": 196
        },
        "outputId": "78c4a6b1-f29f-46aa-ad1d-5b32797659fa"
      },
      "outputs": [
        {
          "output_type": "stream",
          "name": "stdout",
          "text": [
            "0.6333333333333333\n",
            "0.7333333333333333\n",
            "0.6\n"
          ]
        },
        {
          "output_type": "execute_result",
          "data": {
            "text/plain": [
              "                                          model  Accuracy\n",
              "0  LogisticRegression(C=10, solver='newton-cg')  0.633333\n",
              "0      SVC(C=20, gamma='auto', kernel='linear')  0.733333\n",
              "0                                  GaussianNB()  0.600000"
            ],
            "text/html": [
              "\n",
              "  <div id=\"df-642edb75-d026-4a19-b1fe-3e1a3a110f3f\">\n",
              "    <div class=\"colab-df-container\">\n",
              "      <div>\n",
              "<style scoped>\n",
              "    .dataframe tbody tr th:only-of-type {\n",
              "        vertical-align: middle;\n",
              "    }\n",
              "\n",
              "    .dataframe tbody tr th {\n",
              "        vertical-align: top;\n",
              "    }\n",
              "\n",
              "    .dataframe thead th {\n",
              "        text-align: right;\n",
              "    }\n",
              "</style>\n",
              "<table border=\"1\" class=\"dataframe\">\n",
              "  <thead>\n",
              "    <tr style=\"text-align: right;\">\n",
              "      <th></th>\n",
              "      <th>model</th>\n",
              "      <th>Accuracy</th>\n",
              "    </tr>\n",
              "  </thead>\n",
              "  <tbody>\n",
              "    <tr>\n",
              "      <th>0</th>\n",
              "      <td>LogisticRegression(C=10, solver='newton-cg')</td>\n",
              "      <td>0.633333</td>\n",
              "    </tr>\n",
              "    <tr>\n",
              "      <th>0</th>\n",
              "      <td>SVC(C=20, gamma='auto', kernel='linear')</td>\n",
              "      <td>0.733333</td>\n",
              "    </tr>\n",
              "    <tr>\n",
              "      <th>0</th>\n",
              "      <td>GaussianNB()</td>\n",
              "      <td>0.600000</td>\n",
              "    </tr>\n",
              "  </tbody>\n",
              "</table>\n",
              "</div>\n",
              "      <button class=\"colab-df-convert\" onclick=\"convertToInteractive('df-642edb75-d026-4a19-b1fe-3e1a3a110f3f')\"\n",
              "              title=\"Convert this dataframe to an interactive table.\"\n",
              "              style=\"display:none;\">\n",
              "        \n",
              "  <svg xmlns=\"http://www.w3.org/2000/svg\" height=\"24px\"viewBox=\"0 0 24 24\"\n",
              "       width=\"24px\">\n",
              "    <path d=\"M0 0h24v24H0V0z\" fill=\"none\"/>\n",
              "    <path d=\"M18.56 5.44l.94 2.06.94-2.06 2.06-.94-2.06-.94-.94-2.06-.94 2.06-2.06.94zm-11 1L8.5 8.5l.94-2.06 2.06-.94-2.06-.94L8.5 2.5l-.94 2.06-2.06.94zm10 10l.94 2.06.94-2.06 2.06-.94-2.06-.94-.94-2.06-.94 2.06-2.06.94z\"/><path d=\"M17.41 7.96l-1.37-1.37c-.4-.4-.92-.59-1.43-.59-.52 0-1.04.2-1.43.59L10.3 9.45l-7.72 7.72c-.78.78-.78 2.05 0 2.83L4 21.41c.39.39.9.59 1.41.59.51 0 1.02-.2 1.41-.59l7.78-7.78 2.81-2.81c.8-.78.8-2.07 0-2.86zM5.41 20L4 18.59l7.72-7.72 1.47 1.35L5.41 20z\"/>\n",
              "  </svg>\n",
              "      </button>\n",
              "      \n",
              "  <style>\n",
              "    .colab-df-container {\n",
              "      display:flex;\n",
              "      flex-wrap:wrap;\n",
              "      gap: 12px;\n",
              "    }\n",
              "\n",
              "    .colab-df-convert {\n",
              "      background-color: #E8F0FE;\n",
              "      border: none;\n",
              "      border-radius: 50%;\n",
              "      cursor: pointer;\n",
              "      display: none;\n",
              "      fill: #1967D2;\n",
              "      height: 32px;\n",
              "      padding: 0 0 0 0;\n",
              "      width: 32px;\n",
              "    }\n",
              "\n",
              "    .colab-df-convert:hover {\n",
              "      background-color: #E2EBFA;\n",
              "      box-shadow: 0px 1px 2px rgba(60, 64, 67, 0.3), 0px 1px 3px 1px rgba(60, 64, 67, 0.15);\n",
              "      fill: #174EA6;\n",
              "    }\n",
              "\n",
              "    [theme=dark] .colab-df-convert {\n",
              "      background-color: #3B4455;\n",
              "      fill: #D2E3FC;\n",
              "    }\n",
              "\n",
              "    [theme=dark] .colab-df-convert:hover {\n",
              "      background-color: #434B5C;\n",
              "      box-shadow: 0px 1px 3px 1px rgba(0, 0, 0, 0.15);\n",
              "      filter: drop-shadow(0px 1px 2px rgba(0, 0, 0, 0.3));\n",
              "      fill: #FFFFFF;\n",
              "    }\n",
              "  </style>\n",
              "\n",
              "      <script>\n",
              "        const buttonEl =\n",
              "          document.querySelector('#df-642edb75-d026-4a19-b1fe-3e1a3a110f3f button.colab-df-convert');\n",
              "        buttonEl.style.display =\n",
              "          google.colab.kernel.accessAllowed ? 'block' : 'none';\n",
              "\n",
              "        async function convertToInteractive(key) {\n",
              "          const element = document.querySelector('#df-642edb75-d026-4a19-b1fe-3e1a3a110f3f');\n",
              "          const dataTable =\n",
              "            await google.colab.kernel.invokeFunction('convertToInteractive',\n",
              "                                                     [key], {});\n",
              "          if (!dataTable) return;\n",
              "\n",
              "          const docLinkHtml = 'Like what you see? Visit the ' +\n",
              "            '<a target=\"_blank\" href=https://colab.research.google.com/notebooks/data_table.ipynb>data table notebook</a>'\n",
              "            + ' to learn more about interactive tables.';\n",
              "          element.innerHTML = '';\n",
              "          dataTable['output_type'] = 'display_data';\n",
              "          await google.colab.output.renderOutput(dataTable, element);\n",
              "          const docLink = document.createElement('div');\n",
              "          docLink.innerHTML = docLinkHtml;\n",
              "          element.appendChild(docLink);\n",
              "        }\n",
              "      </script>\n",
              "    </div>\n",
              "  </div>\n",
              "  "
            ]
          },
          "metadata": {},
          "execution_count": 856
        }
      ],
      "source": [
        "#BEST MODELS ACCURACY\n",
        "\n",
        "#Accuracy score of decision tree classifier, we import accuracy_score from sklearn\n",
        "from sklearn.metrics import accuracy_score\n",
        "import warnings\n",
        "warnings.filterwarnings(\"ignore\") \n",
        "\n",
        "#Defining the model with the best parameters found with Grid Search.\n",
        "\n",
        "LR = LogisticRegression(solver='newton-cg', C = 10, penalty = 'l2')\n",
        "SVM = svm.SVC(gamma='auto', C = 20, kernel = 'linear')\n",
        "NB = GaussianNB(var_smoothing = 1e-09)\n",
        "\n",
        "accuracy = {'model': [], 'Accuracy': []}\n",
        "df = pd.DataFrame(accuracy)\n",
        "\n",
        "CLF = (LR, SVM , NB)\n",
        "for x in CLF:\n",
        "  clf = x\n",
        "  clf = clf.fit(X_train, y_train)\n",
        "\n",
        "  yhat_test = clf.predict(X_test)\n",
        "  \n",
        "  acc = accuracy_score(y_test, yhat_test)\n",
        "  print(acc)\n",
        "\n",
        "  accdf = {'model': [x], 'Accuracy': [acc]}\n",
        "  df_acc = pd.DataFrame(accdf)\n",
        "  df = df.append(df_acc)\n",
        "df"
      ]
    },
    {
      "cell_type": "markdown",
      "metadata": {
        "id": "dhdHdvWmcxUO"
      },
      "source": [
        "###Logistic regression"
      ]
    },
    {
      "cell_type": "markdown",
      "metadata": {
        "id": "PThApBsjcxUg"
      },
      "source": [
        "We define the model:"
      ]
    },
    {
      "cell_type": "code",
      "execution_count": 857,
      "metadata": {
        "id": "VhLjW47rcxUg"
      },
      "outputs": [],
      "source": [
        "#FIRST\n",
        "#We divide the data between train and testing data:\n",
        "\n",
        "from sklearn.feature_selection import SelectFwe, chi2\n",
        "from sklearn import datasets, linear_model\n",
        "from sklearn.feature_selection import SelectPercentile, chi2\n",
        "\n",
        "#Separating the target variables (Masa_VAT_g and Vol_VAT) from the independent features\n",
        "target = [\"Masa_VAT_cat\"]\n",
        "drop=[\"Masa_VAT_cat\", \"Masa_VAT_g\", \"Vol_VAT\"]\n",
        "X = dataALL.drop(drop, axis=1).values\n",
        "y = dataAP_cat[target].values\t\n",
        "\n",
        "from sklearn.model_selection import train_test_split\n",
        "\n",
        "# Splitting the data into training and testing data\n",
        "X_train, X_test, y_train, y_test = train_test_split(X, y, test_size=0.2, random_state=42)\n",
        "from sklearn.model_selection import train_test_split\n",
        "\n",
        "# Splitting the data into training and testing data\n",
        "X_train, X_test, y_train, y_test = train_test_split(X, y, test_size=0.2, random_state=42)\n",
        "\n",
        "clf = LogisticRegression(solver='newton-cg', C = 10, penalty = 'l2')\n",
        "#RandomForestClassifier(SelectFwe(SelectPercentile(\"input_matrix\", percentile=73), alpha=0.025), bootstrap=True, criterion=\"entropy\", max_features=0.3, min_samples_leaf=4, min_samples_split=17, n_estimators=100)\n",
        "# \n",
        "clf = clf.fit(X_train,y_train.ravel())"
      ]
    },
    {
      "cell_type": "markdown",
      "metadata": {
        "id": "AEbdLP3ZcxUh"
      },
      "source": [
        "##### **Mean ROC curve**"
      ]
    },
    {
      "cell_type": "code",
      "source": [
        "from sklearn import preprocessing\n",
        "from sklearn.pipeline import make_pipeline\n",
        "from sklearn.metrics import precision_score, accuracy_score, recall_score\n",
        "from sklearn.utils import resample\n",
        "!pip3 install roc_utils\n",
        "import roc_utils as ru\n",
        "import warnings\n",
        "warnings.filterwarnings(\"ignore\") \n",
        "\n",
        "# Generating 100 models and predicting 100 test sets using bootstrapping:\n",
        "rocs = []\n",
        "n_iterations = 100\n",
        "for i in range(n_iterations):\n",
        "    # Train test split\n",
        "    X_train, X_test, y_train, y_test = train_test_split(X,y, test_size=0.2, stratify = y, random_state=i)\n",
        "\n",
        "    # Scaling the data\n",
        "    scaler = preprocessing.StandardScaler()\n",
        "    X_train_scaled = scaler.fit_transform(X_train)\n",
        "    X_test_scaled = scaler.transform(X_test)\n",
        "\n",
        "    # Resampling\n",
        "    Xtr_bs, ytr_bs = resample(X_train_scaled, y_train, replace=True, random_state=i) \n",
        "    Xts_bs, yts_bs = resample(X_test_scaled, y_test, replace=True, random_state=i) \n",
        "    \n",
        "    # Fitting the model to the training dataset\n",
        "    model = LogisticRegression(solver='newton-cg', C = 10, penalty = 'l2')\n",
        "    model.fit(Xtr_bs, ytr_bs) \n",
        "    \n",
        "    \n",
        "    # Predictions\n",
        "    y_hat = model.predict(Xts_bs)\n",
        "    \n",
        "    # Model evaluation ROC plots\n",
        "    y_prob = model.predict_proba(Xts_bs)\n",
        "    roc = ru.compute_roc(X=y_prob[:,1], y=yts_bs, pos_label=True)\n",
        "    rocs.append(roc)\n",
        "       \n",
        "\n",
        "ru.plot_mean_roc(rocs, show_ci=True)\n",
        "plt.title(\"Average ROC curve\");"
      ],
      "metadata": {
        "id": "DDNpVACECnli",
        "colab": {
          "base_uri": "https://localhost:8080/",
          "height": 750
        },
        "outputId": "ac13aac9-ae6c-4215-e153-154a0bac85e5"
      },
      "execution_count": 858,
      "outputs": [
        {
          "output_type": "stream",
          "name": "stdout",
          "text": [
            "Looking in indexes: https://pypi.org/simple, https://us-python.pkg.dev/colab-wheels/public/simple/\n",
            "Requirement already satisfied: roc_utils in /usr/local/lib/python3.10/dist-packages (0.2.2)\n",
            "Requirement already satisfied: numpy in /usr/local/lib/python3.10/dist-packages (from roc_utils) (1.22.4)\n",
            "Requirement already satisfied: scipy in /usr/local/lib/python3.10/dist-packages (from roc_utils) (1.10.1)\n",
            "Requirement already satisfied: pandas in /usr/local/lib/python3.10/dist-packages (from roc_utils) (1.5.3)\n",
            "Requirement already satisfied: matplotlib in /usr/local/lib/python3.10/dist-packages (from roc_utils) (3.7.1)\n",
            "Requirement already satisfied: contourpy>=1.0.1 in /usr/local/lib/python3.10/dist-packages (from matplotlib->roc_utils) (1.0.7)\n",
            "Requirement already satisfied: cycler>=0.10 in /usr/local/lib/python3.10/dist-packages (from matplotlib->roc_utils) (0.11.0)\n",
            "Requirement already satisfied: fonttools>=4.22.0 in /usr/local/lib/python3.10/dist-packages (from matplotlib->roc_utils) (4.39.3)\n",
            "Requirement already satisfied: kiwisolver>=1.0.1 in /usr/local/lib/python3.10/dist-packages (from matplotlib->roc_utils) (1.4.4)\n",
            "Requirement already satisfied: packaging>=20.0 in /usr/local/lib/python3.10/dist-packages (from matplotlib->roc_utils) (23.1)\n",
            "Requirement already satisfied: pillow>=6.2.0 in /usr/local/lib/python3.10/dist-packages (from matplotlib->roc_utils) (8.4.0)\n",
            "Requirement already satisfied: pyparsing>=2.3.1 in /usr/local/lib/python3.10/dist-packages (from matplotlib->roc_utils) (3.0.9)\n",
            "Requirement already satisfied: python-dateutil>=2.7 in /usr/local/lib/python3.10/dist-packages (from matplotlib->roc_utils) (2.8.2)\n",
            "Requirement already satisfied: pytz>=2020.1 in /usr/local/lib/python3.10/dist-packages (from pandas->roc_utils) (2022.7.1)\n",
            "Requirement already satisfied: six>=1.5 in /usr/local/lib/python3.10/dist-packages (from python-dateutil>=2.7->matplotlib->roc_utils) (1.16.0)\n"
          ]
        },
        {
          "output_type": "display_data",
          "data": {
            "text/plain": [
              "<Figure size 640x480 with 1 Axes>"
            ],
            "image/png": "[encoded data removed]"
          },
          "metadata": {}
        }
      ]
    },
    {
      "cell_type": "markdown",
      "metadata": {
        "id": "toQfMPt0cxUi"
      },
      "source": [
        "#####Confusion matrix"
      ]
    },
    {
      "cell_type": "code",
      "execution_count": 859,
      "metadata": {
        "id": "_zFX9kqQcxUj",
        "colab": {
          "base_uri": "https://localhost:8080/",
          "height": 562
        },
        "outputId": "437c4470-3359-4c93-81fe-3ab80ad3afd4"
      },
      "outputs": [
        {
          "output_type": "execute_result",
          "data": {
            "text/plain": [
              "Text(0.5, 427.9555555555555, 'Predicted label')"
            ]
          },
          "metadata": {},
          "execution_count": 859
        },
        {
          "output_type": "display_data",
          "data": {
            "text/plain": [
              "<Figure size 640x480 with 2 Axes>"
            ],
            "image/png": "[encoded data removed]"
          },
          "metadata": {}
        }
      ],
      "source": [
        "#Testing Logistic regression\n",
        "Lregr = LogisticRegression(solver='newton-cg', C = 10, penalty = 'l2')\n",
        "\n",
        "# fit the model with data\n",
        "Lregr.fit(X_train, y_train)\n",
        "y_pred = Lregr.predict(X_test)\n",
        "\n",
        "# import the metrics class\n",
        "from sklearn import metrics\n",
        "cnf_matrix = metrics.confusion_matrix(y_test, y_pred)\n",
        "cnf_matrix\n",
        "\n",
        "# import required modules\n",
        "import numpy as np\n",
        "import matplotlib.pyplot as plt\n",
        "import seaborn as sns\n",
        "import warnings\n",
        "warnings.filterwarnings(\"ignore\") \n",
        "\n",
        "class_names=[0,1] # name  of classes\n",
        "fig, ax = plt.subplots()\n",
        "tick_marks = np.arange(len(class_names))\n",
        "plt.xticks(tick_marks, class_names)\n",
        "plt.yticks(tick_marks, class_names)\n",
        "# create heatmap\n",
        "sns.heatmap(pd.DataFrame(cnf_matrix), annot=True, cmap=\"YlGnBu\" ,fmt='g')\n",
        "ax.xaxis.set_label_position(\"top\")\n",
        "plt.tight_layout()\n",
        "plt.title('Confusion matrix', y=1.1)\n",
        "plt.ylabel('Actual label')\n",
        "plt.xlabel('Predicted label')"
      ]
    },
    {
      "cell_type": "markdown",
      "source": [
        "Training and testing error:"
      ],
      "metadata": {
        "id": "n-Eya2eXC-GP"
      }
    },
    {
      "cell_type": "code",
      "execution_count": 860,
      "metadata": {
        "id": "7fc2o8dTcxUj",
        "colab": {
          "base_uri": "https://localhost:8080/"
        },
        "outputId": "e2fddabf-e16b-42f1-f865-03d3cd344ca4"
      },
      "outputs": [
        {
          "output_type": "stream",
          "name": "stdout",
          "text": [
            "Training Error:  0.3135593220338983\n",
            "Testing Error:  0.36666666666666664\n"
          ]
        }
      ],
      "source": [
        "model = LogisticRegression(solver='newton-cg', C = 10, penalty = 'l2')\n",
        "# create and train your model\n",
        "\n",
        "model.fit(X_train, y_train)\n",
        "\n",
        "# make predictions on the training set\n",
        "y_train_pred = model.predict(X_train)\n",
        "\n",
        "# calculate the mean squared error of the training set predictions\n",
        "train_error = mean_squared_error(y_train, y_train_pred)\n",
        "\n",
        "# make predictions on the testing set\n",
        "y_test_pred = model.predict(X_test)\n",
        "\n",
        "# calculate the mean squared error of the testing set predictions\n",
        "test_error = mean_squared_error(y_test, y_test_pred)\n",
        "\n",
        "# print out the training and testing errors\n",
        "print(\"Training Error: \", train_error)\n",
        "print(\"Testing Error: \", test_error)\n",
        "import warnings\n",
        "warnings.filterwarnings(\"ignore\") "
      ]
    },
    {
      "cell_type": "markdown",
      "metadata": {
        "id": "qkfw-MwZS3wB"
      },
      "source": [
        "##### **Evaluation metrics using K-cross validation**"
      ]
    },
    {
      "cell_type": "markdown",
      "source": [
        "Next we have the evaluation metrics of one train-test split:"
      ],
      "metadata": {
        "id": "mZRfZJykS3wC"
      }
    },
    {
      "cell_type": "code",
      "execution_count": 861,
      "metadata": {
        "id": "pYzQUz8wS3wC",
        "colab": {
          "base_uri": "https://localhost:8080/"
        },
        "outputId": "c594da2c-8c73-4e42-e909-e8e2fd69a211"
      },
      "outputs": [
        {
          "output_type": "stream",
          "name": "stdout",
          "text": [
            "The evaluation metrics of LogisticRegression(C=5, solver='newton-cholesky') are:\n",
            "Accuracy: 0.6666666666666666\n",
            "Precision: 0.7227668845315903\n",
            "Recall: 0.6757575757575758\n",
            "F1-score: 0.6402930402930402\n"
          ]
        }
      ],
      "source": [
        "from sklearn.metrics import accuracy_score, precision_score, recall_score, f1_score\n",
        "import warnings\n",
        "warnings.filterwarnings(\"ignore\") \n",
        "\n",
        "#Separating the target variables (Masa_VAT_g and Vol_VAT) from the independent features\n",
        "target = [\"Masa_VAT_cat\"]\n",
        "drop=[\"Masa_VAT_cat\", \"Masa_VAT_g\", \"Vol_VAT\"]\n",
        "X = dataALL.drop(drop, axis=1).values\n",
        "y = dataAP_cat[target].values\t\n",
        "\n",
        "from sklearn.model_selection import train_test_split\n",
        "\n",
        "# Splitting the data into training and testing data\n",
        "X_train, X_test, y_train, y_test = train_test_split(X, y, test_size=0.2, random_state=42)\n",
        "\n",
        "# Train your model\n",
        "model = LogisticRegression(solver='newton-cholesky', C = 5, penalty = 'l2')\n",
        "model = model.fit(X_train,y_train)\n",
        "\n",
        "# Make predictions on the test data\n",
        "predicted_labels = model.predict(X_test)\n",
        "\n",
        "# EVALUATION METRICS\n",
        "\n",
        "# Calculate accuracy\n",
        "accuracy = accuracy_score(y_test, predicted_labels)\n",
        "\n",
        "# Calculate precision\n",
        "precision = precision_score(y_test, predicted_labels, average='macro')\n",
        "\n",
        "# Calculate recall\n",
        "recall = recall_score(y_test, predicted_labels, average='macro')\n",
        "\n",
        "# Calculate F1-score\n",
        "f1 = f1_score(y_test, predicted_labels, average='macro')\n",
        "\n",
        "# Print the evaluation metrics\n",
        "print(\"The evaluation metrics of\", model, \"are:\")\n",
        "print('Accuracy:', accuracy)\n",
        "print('Precision:', precision)\n",
        "print('Recall:', recall)\n",
        "print('F1-score:', f1)\n"
      ]
    },
    {
      "cell_type": "markdown",
      "source": [
        "**Here we have the evaluation metrics using k-cross validation**"
      ],
      "metadata": {
        "id": "2yXeYEB6S3wD"
      }
    },
    {
      "cell_type": "code",
      "source": [
        "from sklearn.metrics import accuracy_score, precision_score, recall_score, f1_score\n",
        "from sklearn.model_selection import cross_val_score\n",
        "from sklearn.model_selection import StratifiedKFold\n",
        "from sklearn.linear_model import LogisticRegression\n",
        "import warnings\n",
        "warnings.filterwarnings(\"ignore\") \n",
        "\n",
        "\n",
        "#Separating the target variables (Masa_VAT_g and Vol_VAT) from the independent features\n",
        "target = [\"Masa_VAT_cat\"]\n",
        "drop=[\"Masa_VAT_cat\", \"Masa_VAT_g\", \"Vol_VAT\"]\n",
        "X = dataALL.drop(drop, axis=1).values\n",
        "y = dataAP_cat[target].values\t\n",
        "\n",
        "from sklearn.model_selection import train_test_split\n",
        "\n",
        "# Splitting the data into training and testing data\n",
        "X_train, X_test, y_train, y_test = train_test_split(X, y, test_size=0.2, random_state=42)\n",
        "\n",
        "# Train your model\n",
        "model = LogisticRegression(solver='newton-cholesky', C = 5, penalty = 'l2')\n",
        "model = model.fit(X_train,y_train)\n",
        "\n",
        "# Make predictions on the test data\n",
        "predicted_labels = model.predict(X_test)\n",
        "# Initialize the k-fold cross-validation object\n",
        "k = 10  # Define the number of folds\n",
        "kf = StratifiedKFold(n_splits=k, shuffle=True, random_state=42)\n",
        "\n",
        "# Lists to store the evaluation metrics for each fold\n",
        "accuracy_scores = []\n",
        "precision_scores = []\n",
        "recall_scores = []\n",
        "f1_scores = []\n",
        "\n",
        "# Perform k-fold cross-validation\n",
        "for train_index, test_index in kf.split(X, y):\n",
        "    X_train, X_test = X[train_index], X[test_index]\n",
        "    y_train, y_test = y[train_index], y[test_index]\n",
        "\n",
        "    # Train the model\n",
        "    model.fit(X_train, y_train)\n",
        "\n",
        "    # Make predictions on the test data\n",
        "    predicted_labels = model.predict(X_test)\n",
        "\n",
        "    # Calculate evaluation metrics for the current fold\n",
        "    accuracy_scores.append(accuracy_score(y_test, predicted_labels))\n",
        "    precision_scores.append(precision_score(y_test, predicted_labels, average='macro'))\n",
        "    recall_scores.append(recall_score(y_test, predicted_labels, average='macro'))\n",
        "    f1_scores.append(f1_score(y_test, predicted_labels, average='macro'))\n",
        "\n",
        "# Print the average evaluation metrics\n",
        "print(\"The average evaluation metrics are:\")\n",
        "print('Accuracy:', sum(accuracy_scores) / k)\n",
        "print('Precision:', sum(precision_scores) / k)\n",
        "print('Recall:', sum(recall_scores) / k)\n",
        "print('F1-score:', sum(f1_scores) / k)"
      ],
      "metadata": {
        "id": "0J_D5xEjS3wD",
        "colab": {
          "base_uri": "https://localhost:8080/"
        },
        "outputId": "5e9c51ab-81e8-4d6c-e58c-3991ea2a53af"
      },
      "execution_count": 862,
      "outputs": [
        {
          "output_type": "stream",
          "name": "stdout",
          "text": [
            "The average evaluation metrics are:\n",
            "Accuracy: 0.569047619047619\n",
            "Precision: 0.5976190476190475\n",
            "Recall: 0.5672222222222223\n",
            "F1-score: 0.5475265475265475\n"
          ]
        }
      ]
    },
    {
      "cell_type": "markdown",
      "metadata": {
        "id": "RVc2d3qOe0eF"
      },
      "source": [
        "###Support Vector Machine"
      ]
    },
    {
      "cell_type": "markdown",
      "metadata": {
        "id": "Ox7R7bc6e0eO"
      },
      "source": [
        "We define the model:"
      ]
    },
    {
      "cell_type": "code",
      "execution_count": 863,
      "metadata": {
        "id": "UwFv5HS4e0eO"
      },
      "outputs": [],
      "source": [
        "#FIRST\n",
        "#We divide the data between train and testing data:\n",
        "\n",
        "from sklearn.feature_selection import SelectFwe, chi2\n",
        "from sklearn import datasets, linear_model\n",
        "from sklearn.feature_selection import SelectPercentile, chi2\n",
        "\n",
        "#Separating the target variables (Masa_VAT_g and Vol_VAT) from the independent features\n",
        "target = [\"Masa_VAT_cat\"]\n",
        "drop=[\"Masa_VAT_cat\", \"Masa_VAT_g\", \"Vol_VAT\"]\n",
        "X = dataALL.drop(drop, axis=1).values\n",
        "y = dataAP_cat[target].values\t\n",
        "\n",
        "from sklearn.model_selection import train_test_split\n",
        "\n",
        "# Splitting the data into training and testing data\n",
        "X_train, X_test, y_train, y_test = train_test_split(X, y, test_size=0.2, random_state=42)\n",
        "\n",
        "clf = svm.SVC(gamma='auto', C = 20, kernel = 'linear')\n",
        "clf = clf.fit(X_train,y_train.ravel())"
      ]
    },
    {
      "cell_type": "markdown",
      "metadata": {
        "id": "wR4OS11me0eO"
      },
      "source": [
        "##### **Mean ROC curve**"
      ]
    },
    {
      "cell_type": "code",
      "source": [
        "from sklearn import preprocessing\n",
        "from sklearn.pipeline import make_pipeline\n",
        "from sklearn.metrics import precision_score, accuracy_score, recall_score\n",
        "from sklearn.utils import resample\n",
        "!pip3 install roc_utils\n",
        "import roc_utils as ru\n",
        "import warnings\n",
        "warnings.filterwarnings(\"ignore\") \n",
        "\n",
        "# Generating 100 models and predicting 100 test sets using bootstrapping:\n",
        "rocs = []\n",
        "n_iterations = 100\n",
        "for i in range(n_iterations):\n",
        "    # Train test split\n",
        "    X_train, X_test, y_train, y_test = train_test_split(X,y, test_size=0.2, stratify = y, random_state=i)\n",
        "\n",
        "    # Scaling the data\n",
        "    scaler = preprocessing.StandardScaler()\n",
        "    X_train_scaled = scaler.fit_transform(X_train)\n",
        "    X_test_scaled = scaler.transform(X_test)\n",
        "\n",
        "    # Resampling\n",
        "    Xtr_bs, ytr_bs = resample(X_train_scaled, y_train, replace=True, random_state=i) \n",
        "    Xts_bs, yts_bs = resample(X_test_scaled, y_test, replace=True, random_state=i) \n",
        "    \n",
        "    # Fitting the model to the training dataset\n",
        "    model =  svm.SVC(gamma='auto', C = 20, kernel = 'linear', probability =True)\n",
        "    model.fit(Xtr_bs, ytr_bs) \n",
        "    \n",
        "    # Predictions\n",
        "    y_hat = model.predict(Xts_bs)\n",
        "    \n",
        "    # Model evaluation ROC plots\n",
        "    y_prob = model.predict_proba(Xts_bs)\n",
        "    roc = ru.compute_roc(X=y_prob[:,1], y=yts_bs, pos_label=True)\n",
        "    rocs.append(roc)\n",
        "       \n",
        "\n",
        "ru.plot_mean_roc(rocs, show_ci=True)\n",
        "plt.title(\"Average ROC curve\");"
      ],
      "metadata": {
        "id": "sFxNI35GDIep",
        "colab": {
          "base_uri": "https://localhost:8080/",
          "height": 750
        },
        "outputId": "cb72745e-b037-4580-bc2c-a0f00c916ffa"
      },
      "execution_count": 864,
      "outputs": [
        {
          "output_type": "stream",
          "name": "stdout",
          "text": [
            "Looking in indexes: https://pypi.org/simple, https://us-python.pkg.dev/colab-wheels/public/simple/\n",
            "Requirement already satisfied: roc_utils in /usr/local/lib/python3.10/dist-packages (0.2.2)\n",
            "Requirement already satisfied: numpy in /usr/local/lib/python3.10/dist-packages (from roc_utils) (1.22.4)\n",
            "Requirement already satisfied: scipy in /usr/local/lib/python3.10/dist-packages (from roc_utils) (1.10.1)\n",
            "Requirement already satisfied: pandas in /usr/local/lib/python3.10/dist-packages (from roc_utils) (1.5.3)\n",
            "Requirement already satisfied: matplotlib in /usr/local/lib/python3.10/dist-packages (from roc_utils) (3.7.1)\n",
            "Requirement already satisfied: contourpy>=1.0.1 in /usr/local/lib/python3.10/dist-packages (from matplotlib->roc_utils) (1.0.7)\n",
            "Requirement already satisfied: cycler>=0.10 in /usr/local/lib/python3.10/dist-packages (from matplotlib->roc_utils) (0.11.0)\n",
            "Requirement already satisfied: fonttools>=4.22.0 in /usr/local/lib/python3.10/dist-packages (from matplotlib->roc_utils) (4.39.3)\n",
            "Requirement already satisfied: kiwisolver>=1.0.1 in /usr/local/lib/python3.10/dist-packages (from matplotlib->roc_utils) (1.4.4)\n",
            "Requirement already satisfied: packaging>=20.0 in /usr/local/lib/python3.10/dist-packages (from matplotlib->roc_utils) (23.1)\n",
            "Requirement already satisfied: pillow>=6.2.0 in /usr/local/lib/python3.10/dist-packages (from matplotlib->roc_utils) (8.4.0)\n",
            "Requirement already satisfied: pyparsing>=2.3.1 in /usr/local/lib/python3.10/dist-packages (from matplotlib->roc_utils) (3.0.9)\n",
            "Requirement already satisfied: python-dateutil>=2.7 in /usr/local/lib/python3.10/dist-packages (from matplotlib->roc_utils) (2.8.2)\n",
            "Requirement already satisfied: pytz>=2020.1 in /usr/local/lib/python3.10/dist-packages (from pandas->roc_utils) (2022.7.1)\n",
            "Requirement already satisfied: six>=1.5 in /usr/local/lib/python3.10/dist-packages (from python-dateutil>=2.7->matplotlib->roc_utils) (1.16.0)\n"
          ]
        },
        {
          "output_type": "display_data",
          "data": {
            "text/plain": [
              "<Figure size 640x480 with 1 Axes>"
            ],
            "image/png": "[encoded data removed]"
          },
          "metadata": {}
        }
      ]
    },
    {
      "cell_type": "markdown",
      "metadata": {
        "id": "gAiqPFk3e0eP"
      },
      "source": [
        "#####Confusion matrix"
      ]
    },
    {
      "cell_type": "code",
      "execution_count": 865,
      "metadata": {
        "id": "YCcv-2Mme0eQ",
        "colab": {
          "base_uri": "https://localhost:8080/",
          "height": 562
        },
        "outputId": "2c799424-4d65-4e96-d93b-08beaf93d5a0"
      },
      "outputs": [
        {
          "output_type": "execute_result",
          "data": {
            "text/plain": [
              "Text(0.5, 427.9555555555555, 'Predicted label')"
            ]
          },
          "metadata": {},
          "execution_count": 865
        },
        {
          "output_type": "display_data",
          "data": {
            "text/plain": [
              "<Figure size 640x480 with 2 Axes>"
            ],
            "image/png": "[encoded data removed]"
          },
          "metadata": {}
        }
      ],
      "source": [
        "#Testing SVM\n",
        "model =svm.SVC(gamma='auto', C = 20, kernel = 'linear')\n",
        "\n",
        "# fit the model with data\n",
        "model.fit(X_train, y_train)\n",
        "y_pred = model.predict(X_test)\n",
        "\n",
        "# import the metrics class\n",
        "from sklearn import metrics\n",
        "cnf_matrix = metrics.confusion_matrix(y_test, y_pred)\n",
        "cnf_matrix\n",
        "\n",
        "# import required modules\n",
        "import numpy as np\n",
        "import matplotlib.pyplot as plt\n",
        "import seaborn as sns\n",
        "import warnings\n",
        "warnings.filterwarnings(\"ignore\") \n",
        "\n",
        "class_names=[0,1] # name  of classes\n",
        "fig, ax = plt.subplots()\n",
        "tick_marks = np.arange(len(class_names))\n",
        "plt.xticks(tick_marks, class_names)\n",
        "plt.yticks(tick_marks, class_names)\n",
        "# create heatmap\n",
        "sns.heatmap(pd.DataFrame(cnf_matrix), annot=True, cmap=\"YlGnBu\" ,fmt='g')\n",
        "ax.xaxis.set_label_position(\"top\")\n",
        "plt.tight_layout()\n",
        "plt.title('Confusion matrix', y=1.1)\n",
        "plt.ylabel('Actual label')\n",
        "plt.xlabel('Predicted label')"
      ]
    },
    {
      "cell_type": "markdown",
      "source": [
        "Testing and training error:"
      ],
      "metadata": {
        "id": "jAv9U2qWDcEU"
      }
    },
    {
      "cell_type": "code",
      "execution_count": 866,
      "metadata": {
        "id": "2QKv7oC_e0eQ",
        "colab": {
          "base_uri": "https://localhost:8080/"
        },
        "outputId": "442263ef-d3f8-403f-b71e-7b231173e7c5"
      },
      "outputs": [
        {
          "output_type": "stream",
          "name": "stdout",
          "text": [
            "Training Error:  0.3474576271186441\n",
            "Testing Error:  0.5666666666666667\n"
          ]
        }
      ],
      "source": [
        "model = svm.SVC(gamma='auto', C = 20, kernel = 'linear')\n",
        "# create and train your model\n",
        "\n",
        "model.fit(X_train, y_train)\n",
        "\n",
        "# make predictions on the training set\n",
        "y_train_pred = model.predict(X_train)\n",
        "\n",
        "# calculate the mean squared error of the training set predictions\n",
        "train_error = mean_squared_error(y_train, y_train_pred)\n",
        "\n",
        "# make predictions on the testing set\n",
        "y_test_pred = model.predict(X_test)\n",
        "\n",
        "# calculate the mean squared error of the testing set predictions\n",
        "test_error = mean_squared_error(y_test, y_test_pred)\n",
        "\n",
        "# print out the training and testing errors\n",
        "print(\"Training Error: \", train_error)\n",
        "print(\"Testing Error: \", test_error)\n",
        "import warnings\n",
        "warnings.filterwarnings(\"ignore\") "
      ]
    },
    {
      "cell_type": "markdown",
      "metadata": {
        "id": "bKYy8mNPTahP"
      },
      "source": [
        "##### **Evaluation metrics using K-cross validation**"
      ]
    },
    {
      "cell_type": "markdown",
      "source": [
        "Next we have the evaluation metrics of one train-test split:"
      ],
      "metadata": {
        "id": "Kw-ryFa1TahP"
      }
    },
    {
      "cell_type": "code",
      "execution_count": 867,
      "metadata": {
        "id": "BTz_PBd2TahQ",
        "colab": {
          "base_uri": "https://localhost:8080/"
        },
        "outputId": "b3b0e1a6-3c8d-47de-fce2-ead4b62f6f4c"
      },
      "outputs": [
        {
          "output_type": "stream",
          "name": "stdout",
          "text": [
            "The evaluation metrics of SVC(C=20, gamma='auto', kernel='linear') are:\n",
            "Accuracy: 0.7333333333333333\n",
            "Precision: 0.8111111111111112\n",
            "Recall: 0.7363636363636363\n",
            "F1-score: 0.6937012263099219\n"
          ]
        }
      ],
      "source": [
        "from sklearn.metrics import accuracy_score, precision_score, recall_score, f1_score\n",
        "import warnings\n",
        "warnings.filterwarnings(\"ignore\") \n",
        "\n",
        "#Separating the target variables (Masa_VAT_g and Vol_VAT) from the independent features\n",
        "target = [\"Masa_VAT_cat\"]\n",
        "drop=[\"Masa_VAT_cat\", \"Masa_VAT_g\", \"Vol_VAT\"]\n",
        "X = dataALL.drop(drop, axis=1).values\n",
        "y = dataAP_cat[target].values\t\n",
        "\n",
        "from sklearn.model_selection import train_test_split\n",
        "\n",
        "# Splitting the data into training and testing data\n",
        "X_train, X_test, y_train, y_test = train_test_split(X, y, test_size=0.2, random_state=42)\n",
        "\n",
        "\n",
        "# Train your model\n",
        "model = svm.SVC(gamma='auto', C = 20, kernel = 'linear')\n",
        "model = model.fit(X_train,y_train)\n",
        "\n",
        "# Make predictions on the test data\n",
        "predicted_labels = model.predict(X_test)\n",
        "\n",
        "\n",
        "# EVALUATION METRICS\n",
        "\n",
        "# Calculate accuracy\n",
        "accuracy = accuracy_score(y_test, predicted_labels)\n",
        "\n",
        "# Calculate precision\n",
        "precision = precision_score(y_test, predicted_labels, average='macro')\n",
        "\n",
        "# Calculate recall\n",
        "recall = recall_score(y_test, predicted_labels, average='macro')\n",
        "\n",
        "# Calculate F1-score\n",
        "f1 = f1_score(y_test, predicted_labels, average='macro')\n",
        "\n",
        "# Print the evaluation metrics\n",
        "print(\"The evaluation metrics of\", model, \"are:\")\n",
        "print('Accuracy:', accuracy)\n",
        "print('Precision:', precision)\n",
        "print('Recall:', recall)\n",
        "print('F1-score:', f1)\n"
      ]
    },
    {
      "cell_type": "markdown",
      "source": [
        "**Here we have the evaluation metrics using k-cross validation**"
      ],
      "metadata": {
        "id": "5XABPCZrTahQ"
      }
    },
    {
      "cell_type": "code",
      "source": [
        "from sklearn.metrics import accuracy_score, precision_score, recall_score, f1_score\n",
        "from sklearn.model_selection import cross_val_score\n",
        "from sklearn.model_selection import StratifiedKFold\n",
        "from sklearn.linear_model import LogisticRegression\n",
        "import warnings\n",
        "warnings.filterwarnings(\"ignore\") \n",
        "\n",
        "\n",
        "#Separating the target variables (Masa_VAT_g and Vol_VAT) from the independent features\n",
        "target = [\"Masa_VAT_cat\"]\n",
        "drop=[\"Masa_VAT_cat\", \"Masa_VAT_g\", \"Vol_VAT\"]\n",
        "X = dataALL.drop(drop, axis=1).values\n",
        "y = dataAP_cat[target].values\t\n",
        "\n",
        "from sklearn.model_selection import train_test_split\n",
        "\n",
        "# Splitting the data into training and testing data\n",
        "X_train, X_test, y_train, y_test = train_test_split(X, y, test_size=0.2, random_state=42)\n",
        "\n",
        "# Training the model\n",
        "model = svm.SVC(gamma='auto', C = 20, kernel = 'linear')\n",
        "model = model.fit(X_train,y_train)\n",
        "\n",
        "# Make predictions on the test data\n",
        "predicted_labels = model.predict(X_test)\n",
        "# Initialize the k-fold cross-validation object\n",
        "k = 10  # Define the number of folds\n",
        "kf = StratifiedKFold(n_splits=k, shuffle=True, random_state=42)\n",
        "\n",
        "# Lists to store the evaluation metrics for each fold\n",
        "accuracy_scores = []\n",
        "precision_scores = []\n",
        "recall_scores = []\n",
        "f1_scores = []\n",
        "\n",
        "# Perform k-fold cross-validation\n",
        "for train_index, test_index in kf.split(X, y):\n",
        "    X_train, X_test = X[train_index], X[test_index]\n",
        "    y_train, y_test = y[train_index], y[test_index]\n",
        "\n",
        "    # Train the model\n",
        "    model.fit(X_train, y_train)\n",
        "\n",
        "    # Make predictions on the test data\n",
        "    predicted_labels = model.predict(X_test)\n",
        "\n",
        "    # Calculate evaluation metrics for the current fold\n",
        "    accuracy_scores.append(accuracy_score(y_test, predicted_labels))\n",
        "    precision_scores.append(precision_score(y_test, predicted_labels, average='macro'))\n",
        "    recall_scores.append(recall_score(y_test, predicted_labels, average='macro'))\n",
        "    f1_scores.append(f1_score(y_test, predicted_labels, average='macro'))\n",
        "\n",
        "# Print the average evaluation metrics\n",
        "print(\"The average evaluation metrics are:\")\n",
        "print('Accuracy:', sum(accuracy_scores) / k)\n",
        "print('Precision:', sum(precision_scores) / k)\n",
        "print('Recall:', sum(recall_scores) / k)\n",
        "print('F1-score:', sum(f1_scores) / k)"
      ],
      "metadata": {
        "id": "DRJvITGxTahQ",
        "colab": {
          "base_uri": "https://localhost:8080/"
        },
        "outputId": "ca703b88-85fd-42e7-b724-9acd43173554"
      },
      "execution_count": 868,
      "outputs": [
        {
          "output_type": "stream",
          "name": "stdout",
          "text": [
            "The average evaluation metrics are:\n",
            "Accuracy: 0.5947619047619048\n",
            "Precision: 0.6428306878306878\n",
            "Recall: 0.5922222222222222\n",
            "F1-score: 0.5847082547082547\n"
          ]
        }
      ]
    }
  ],
  "metadata": {
    "colab": {
      "provenance": [],
      "toc_visible": true,
      "authorship_tag": "ABX9TyPo6fJFLxTqDg3lIGHnXbUP"
    },
    "kernelspec": {
      "display_name": "Python 3",
      "name": "python3"
    },
    "language_info": {
      "name": "python"
    }
  },
  "nbformat": 4,
  "nbformat_minor": 0
}
